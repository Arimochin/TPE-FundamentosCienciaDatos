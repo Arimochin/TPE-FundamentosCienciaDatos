{
 "cells": [
  {
   "cell_type": "markdown",
   "metadata": {},
   "source": [
    "# _TP especial Fundamentos de la Ciencia de Datos_<br>\n",
    "### _Grupo 7: Buralli, Todesco, Antúnez_\n"
   ]
  },
  {
   "cell_type": "markdown",
   "metadata": {},
   "source": [
    "## <u>Descarga y lectura de archivos<u>"
   ]
  },
  {
   "cell_type": "markdown",
   "metadata": {},
   "source": [
    "Empezaremos descargando y leyendo los archivos mandados por la cátedra"
   ]
  },
  {
   "cell_type": "code",
   "metadata": {
    "ExecuteTime": {
     "end_time": "2024-09-29T20:32:15.139794Z",
     "start_time": "2024-09-29T20:32:14.901962Z"
    }
   },
   "source": [
    "import pandas as pd\n",
    "import seaborn as sns\n",
    "import matplotlib.pyplot as plt\n",
    "import numpy as np\n",
    "\n",
    "covers_dataset = pd.read_csv('Covers.csv')"
   ],
   "outputs": [],
   "execution_count": 2
  },
  {
   "cell_type": "markdown",
   "metadata": {},
   "source": [
    "Hacemos una vista general para saber de que se trata el dataset, que significan cada una de sus columnas"
   ]
  },
  {
   "cell_type": "code",
   "execution_count": 74,
   "metadata": {
    "ExecuteTime": {
     "end_time": "2024-09-27T17:38:51.122637Z",
     "start_time": "2024-09-27T17:38:51.111470Z"
    }
   },
   "outputs": [
    {
     "data": {
      "text/html": [
       "<div>\n",
       "<style scoped>\n",
       "    .dataframe tbody tr th:only-of-type {\n",
       "        vertical-align: middle;\n",
       "    }\n",
       "\n",
       "    .dataframe tbody tr th {\n",
       "        vertical-align: top;\n",
       "    }\n",
       "\n",
       "    .dataframe thead th {\n",
       "        text-align: right;\n",
       "    }\n",
       "</style>\n",
       "<table border=\"1\" class=\"dataframe\">\n",
       "  <thead>\n",
       "    <tr style=\"text-align: right;\">\n",
       "      <th></th>\n",
       "      <th>Track</th>\n",
       "      <th>Artist</th>\n",
       "      <th>Duration</th>\n",
       "      <th>Time_Signature</th>\n",
       "      <th>Danceability</th>\n",
       "      <th>Energy</th>\n",
       "      <th>Key</th>\n",
       "      <th>Loudness</th>\n",
       "      <th>Mode</th>\n",
       "      <th>Speechiness</th>\n",
       "      <th>Acousticness</th>\n",
       "      <th>Instrumentalness</th>\n",
       "      <th>Liveness</th>\n",
       "      <th>Valence</th>\n",
       "      <th>Tempo</th>\n",
       "      <th>Popularity</th>\n",
       "      <th>Year</th>\n",
       "    </tr>\n",
       "  </thead>\n",
       "  <tbody>\n",
       "    <tr>\n",
       "      <th>0</th>\n",
       "      <td>Everybody Everybody</td>\n",
       "      <td>Black Box</td>\n",
       "      <td>4:11</td>\n",
       "      <td>4</td>\n",
       "      <td>0.645</td>\n",
       "      <td>0.795</td>\n",
       "      <td>7</td>\n",
       "      <td>-12.095</td>\n",
       "      <td>1</td>\n",
       "      <td>0.0527</td>\n",
       "      <td>0.3470</td>\n",
       "      <td>0.003890</td>\n",
       "      <td>0.1040</td>\n",
       "      <td>0.535</td>\n",
       "      <td>112.067</td>\n",
       "      <td>87</td>\n",
       "      <td>1990</td>\n",
       "    </tr>\n",
       "    <tr>\n",
       "      <th>1</th>\n",
       "      <td>Close To You</td>\n",
       "      <td>Maxi Priest</td>\n",
       "      <td>3:45</td>\n",
       "      <td>4</td>\n",
       "      <td>0.590</td>\n",
       "      <td>0.727</td>\n",
       "      <td>6</td>\n",
       "      <td>-7.955</td>\n",
       "      <td>1</td>\n",
       "      <td>0.0706</td>\n",
       "      <td>0.0259</td>\n",
       "      <td>0.000065</td>\n",
       "      <td>0.0827</td>\n",
       "      <td>0.356</td>\n",
       "      <td>121.966</td>\n",
       "      <td>85</td>\n",
       "      <td>1990</td>\n",
       "    </tr>\n",
       "    <tr>\n",
       "      <th>2</th>\n",
       "      <td>Do Me!</td>\n",
       "      <td>Bell Biv DeVoe</td>\n",
       "      <td>3:56</td>\n",
       "      <td>4</td>\n",
       "      <td>0.615</td>\n",
       "      <td>0.534</td>\n",
       "      <td>9</td>\n",
       "      <td>-6.719</td>\n",
       "      <td>0</td>\n",
       "      <td>0.0386</td>\n",
       "      <td>0.1060</td>\n",
       "      <td>0.000018</td>\n",
       "      <td>0.0607</td>\n",
       "      <td>0.193</td>\n",
       "      <td>135.917</td>\n",
       "      <td>84</td>\n",
       "      <td>1990</td>\n",
       "    </tr>\n",
       "    <tr>\n",
       "      <th>3</th>\n",
       "      <td>Everything</td>\n",
       "      <td>Jody Watley</td>\n",
       "      <td>4:05</td>\n",
       "      <td>4</td>\n",
       "      <td>0.704</td>\n",
       "      <td>0.225</td>\n",
       "      <td>6</td>\n",
       "      <td>-14.454</td>\n",
       "      <td>0</td>\n",
       "      <td>0.0994</td>\n",
       "      <td>0.9020</td>\n",
       "      <td>0.657000</td>\n",
       "      <td>0.1060</td>\n",
       "      <td>0.243</td>\n",
       "      <td>120.006</td>\n",
       "      <td>82</td>\n",
       "      <td>1990</td>\n",
       "    </tr>\n",
       "    <tr>\n",
       "      <th>4</th>\n",
       "      <td>What It Takes</td>\n",
       "      <td>Aerosmith</td>\n",
       "      <td>3:21</td>\n",
       "      <td>4</td>\n",
       "      <td>0.672</td>\n",
       "      <td>0.655</td>\n",
       "      <td>10</td>\n",
       "      <td>-5.021</td>\n",
       "      <td>0</td>\n",
       "      <td>0.0310</td>\n",
       "      <td>0.0362</td>\n",
       "      <td>0.000000</td>\n",
       "      <td>0.1170</td>\n",
       "      <td>0.555</td>\n",
       "      <td>134.948</td>\n",
       "      <td>82</td>\n",
       "      <td>1990</td>\n",
       "    </tr>\n",
       "  </tbody>\n",
       "</table>\n",
       "</div>"
      ],
      "text/plain": [
       "                 Track          Artist Duration  Time_Signature  Danceability  \\\n",
       "0  Everybody Everybody       Black Box     4:11               4         0.645   \n",
       "1         Close To You     Maxi Priest     3:45               4         0.590   \n",
       "2               Do Me!  Bell Biv DeVoe     3:56               4         0.615   \n",
       "3           Everything     Jody Watley     4:05               4         0.704   \n",
       "4        What It Takes       Aerosmith     3:21               4         0.672   \n",
       "\n",
       "   Energy  Key  Loudness  Mode  Speechiness  Acousticness  Instrumentalness  \\\n",
       "0   0.795    7   -12.095     1       0.0527        0.3470          0.003890   \n",
       "1   0.727    6    -7.955     1       0.0706        0.0259          0.000065   \n",
       "2   0.534    9    -6.719     0       0.0386        0.1060          0.000018   \n",
       "3   0.225    6   -14.454     0       0.0994        0.9020          0.657000   \n",
       "4   0.655   10    -5.021     0       0.0310        0.0362          0.000000   \n",
       "\n",
       "   Liveness  Valence    Tempo  Popularity  Year  \n",
       "0    0.1040    0.535  112.067          87  1990  \n",
       "1    0.0827    0.356  121.966          85  1990  \n",
       "2    0.0607    0.193  135.917          84  1990  \n",
       "3    0.1060    0.243  120.006          82  1990  \n",
       "4    0.1170    0.555  134.948          82  1990  "
      ]
     },
     "execution_count": 74,
     "metadata": {},
     "output_type": "execute_result"
    }
   ],
   "source": [
    "covers_dataset.head()"
   ]
  },
  {
   "cell_type": "markdown",
   "metadata": {},
   "source": [
    "## Descripción de las variables<br>\n",
    "* ```Track```: nombre de la canción\n",
    "* ```Artist```: nombre del artista o intérprete\n",
    "* ```Duration```: duración en minutos de la canción\n",
    "* ```Time_Signature```: número de pulsaciones por compás\n",
    "* ```Danceability```: medida de que tan bailable es la canción(entre 0 y 1)\n",
    "* ```Energy```: medida de que tan enérgica es la canción(entre 0 y 1)\n",
    "* ```Key```: tonalidad de la canción, número entero\n",
    "* ```Loudness```: volumen de la canción, en decibelios\n",
    "* ```Mode```: tono mayor o menor(0 o 1, respectivamente)\n",
    "* ```Speechiness```: medida de presencia de palabras habladas en las canciones, valores altos indican una alta presencia de estas palabras\n",
    "* ```Acoustiness```: mide que tan acústica es la pista\n",
    "* ```Instrumentalness```: mide la presencia de voces en las canciones, valores más altos indican una canción con mayor parte instrumental\n",
    "* ```Liveness```: probabilidad de que dicha canción se haya interpretado en vivo, niveles más altos indican mayor presencia de voces de la audiencia\n",
    "* ```Valance```: medida de la positividad de la canción, niveles más altos indican presencias de mlodías alegres\n",
    "* ```Tempo```: velocidad de la pista, medida en beats por minutos(BPM)\n",
    "* ```Popularity```: puntuación de la canción que mide su popularidad\n",
    "* ```Year```: año de lanzamiento"
   ]
  },
  {
   "cell_type": "markdown",
   "metadata": {},
   "source": [
    "Identificaremos la cantidad de nulos mediante el comando ```isna()```"
   ]
  },
  {
   "cell_type": "code",
   "execution_count": 75,
   "metadata": {
    "ExecuteTime": {
     "end_time": "2024-09-27T17:38:51.164480Z",
     "start_time": "2024-09-27T17:38:51.160039Z"
    }
   },
   "outputs": [
    {
     "data": {
      "text/plain": [
       "Track               0\n",
       "Artist              0\n",
       "Duration            0\n",
       "Time_Signature      0\n",
       "Danceability        0\n",
       "Energy              0\n",
       "Key                 0\n",
       "Loudness            0\n",
       "Mode                0\n",
       "Speechiness         0\n",
       "Acousticness        0\n",
       "Instrumentalness    0\n",
       "Liveness            0\n",
       "Valence             0\n",
       "Tempo               0\n",
       "Popularity          0\n",
       "Year                0\n",
       "dtype: int64"
      ]
     },
     "execution_count": 75,
     "metadata": {},
     "output_type": "execute_result"
    }
   ],
   "source": [
    "covers_dataset.isna().sum()"
   ]
  },
  {
   "cell_type": "markdown",
   "metadata": {},
   "source": [
    "Observamos que no hay NaNs, pero esto no descarta la presencia de valores extraños a analizar en las distintas columnas, por lo que verificaremos mediante el método ```value_count()```"
   ]
  },
  {
   "cell_type": "markdown",
   "metadata": {},
   "source": [
    "## <u>Revision de valores<u>"
   ]
  },
  {
   "cell_type": "code",
   "execution_count": 76,
   "metadata": {
    "ExecuteTime": {
     "end_time": "2024-09-27T17:38:51.293602Z",
     "start_time": "2024-09-27T17:38:51.288588Z"
    }
   },
   "outputs": [
    {
     "data": {
      "text/plain": [
       "Track\n",
       "Hold On                    3\n",
       "I’ll Be There              2\n",
       "Crazy                      2\n",
       "Always                     2\n",
       "Everything                 2\n",
       "                          ..\n",
       "I’m Your Angel             1\n",
       "Taking Everything          1\n",
       "What’s It Gonna Be?!       1\n",
       "Almost Doesn’t Count       1\n",
       "It Ain’t My Fault 1 & 2    1\n",
       "Name: count, Length: 892, dtype: int64"
      ]
     },
     "execution_count": 76,
     "metadata": {},
     "output_type": "execute_result"
    }
   ],
   "source": [
    "covers_dataset[\"Track\"].value_counts()"
   ]
  },
  {
   "cell_type": "markdown",
   "metadata": {},
   "source": [
    "En ```Track``` parece no haber presencia de valores raros, si algunos nombres repetidos."
   ]
  },
  {
   "cell_type": "code",
   "execution_count": 77,
   "metadata": {
    "ExecuteTime": {
     "end_time": "2024-09-27T17:38:51.550995Z",
     "start_time": "2024-09-27T17:38:51.545990Z"
    }
   },
   "outputs": [
    {
     "data": {
      "text/plain": [
       "Artist\n",
       "Mariah Carey                       16\n",
       "Madonna                            14\n",
       "Janet Jackson                      13\n",
       "Boyz II Men                        11\n",
       "Whitney Houston                    10\n",
       "                                   ..\n",
       "112 featuring Lil Zane              1\n",
       "LFO                                 1\n",
       "Jive Bunny and the Mastermixers     1\n",
       "Biz Markie                          1\n",
       "the Righteous Brothers              1\n",
       "Name: count, Length: 535, dtype: int64"
      ]
     },
     "execution_count": 77,
     "metadata": {},
     "output_type": "execute_result"
    }
   ],
   "source": [
    "covers_dataset[\"Artist\"].value_counts()"
   ]
  },
  {
   "cell_type": "markdown",
   "metadata": {},
   "source": [
    "Con ```Artist``` parace algo similar, nada extraño a primera vista"
   ]
  },
  {
   "cell_type": "code",
   "execution_count": 78,
   "metadata": {
    "ExecuteTime": {
     "end_time": "2024-09-27T17:38:51.777489Z",
     "start_time": "2024-09-27T17:38:51.773252Z"
    }
   },
   "outputs": [
    {
     "data": {
      "text/plain": [
       "Duration\n",
       "3:48    12\n",
       "3:55    12\n",
       "4:18    11\n",
       "3:59    11\n",
       "3:38    10\n",
       "        ..\n",
       "4:06     1\n",
       "2:55     1\n",
       "2:46     1\n",
       "2:07     1\n",
       "4:46     1\n",
       "Name: count, Length: 253, dtype: int64"
      ]
     },
     "execution_count": 78,
     "metadata": {},
     "output_type": "execute_result"
    }
   ],
   "source": [
    "covers_dataset[\"Duration\"].value_counts()"
   ]
  },
  {
   "cell_type": "markdown",
   "metadata": {},
   "source": [
    "```Duration``` tampoco parece tener valores atípicos, aunque luego abria que convertir el dato a algo numerico."
   ]
  },
  {
   "cell_type": "code",
   "execution_count": 79,
   "metadata": {
    "ExecuteTime": {
     "end_time": "2024-09-27T17:38:51.976264Z",
     "start_time": "2024-09-27T17:38:51.972671Z"
    }
   },
   "outputs": [
    {
     "data": {
      "text/plain": [
       "Time_Signature\n",
       "4    865\n",
       "3     45\n",
       "5      6\n",
       "1      3\n",
       "Name: count, dtype: int64"
      ]
     },
     "execution_count": 79,
     "metadata": {},
     "output_type": "execute_result"
    }
   ],
   "source": [
    "covers_dataset['Time_Signature'].value_counts()"
   ]
  },
  {
   "cell_type": "markdown",
   "metadata": {},
   "source": [
    "```Time_Signature``` parece correcto."
   ]
  },
  {
   "cell_type": "code",
   "execution_count": 80,
   "metadata": {
    "ExecuteTime": {
     "end_time": "2024-09-27T17:38:52.172613Z",
     "start_time": "2024-09-27T17:38:52.169428Z"
    }
   },
   "outputs": [],
   "source": [
    "covers_dataset['Danceability'].value_counts()\n",
    "danceability = covers_dataset['Danceability']"
   ]
  },
  {
   "cell_type": "markdown",
   "metadata": {},
   "source": [
    "En ```Danceability``` no parece que haya nada raro... Hagamos un boxplot para ver mas en detalle."
   ]
  },
  {
   "cell_type": "code",
   "execution_count": 81,
   "metadata": {
    "ExecuteTime": {
     "end_time": "2024-09-27T17:38:52.310566Z",
     "start_time": "2024-09-27T17:38:52.304561Z"
    }
   },
   "outputs": [
    {
     "data": {
      "text/plain": [
       "count    919.000000\n",
       "mean       0.622967\n",
       "std        0.154782\n",
       "min        0.135000\n",
       "25%        0.518500\n",
       "50%        0.631000\n",
       "75%        0.738000\n",
       "max        0.979000\n",
       "Name: Danceability, dtype: float64"
      ]
     },
     "execution_count": 81,
     "metadata": {},
     "output_type": "execute_result"
    }
   ],
   "source": [
    "covers_dataset['Danceability'].min()\n",
    "covers_dataset['Danceability'].max()\n",
    "covers_dataset['Danceability'].median()\n",
    "danceability.describe()"
   ]
  },
  {
   "cell_type": "code",
   "execution_count": 82,
   "metadata": {
    "ExecuteTime": {
     "end_time": "2024-09-27T17:38:52.534819Z",
     "start_time": "2024-09-27T17:38:52.530767Z"
    }
   },
   "outputs": [
    {
     "data": {
      "text/plain": [
       "Energy\n",
       "0.521    8\n",
       "0.453    6\n",
       "0.498    6\n",
       "0.538    6\n",
       "0.640    5\n",
       "        ..\n",
       "0.347    1\n",
       "0.388    1\n",
       "0.362    1\n",
       "0.805    1\n",
       "0.208    1\n",
       "Name: count, Length: 522, dtype: int64"
      ]
     },
     "execution_count": 82,
     "metadata": {},
     "output_type": "execute_result"
    }
   ],
   "source": [
    "covers_dataset['Energy'].value_counts()"
   ]
  },
  {
   "cell_type": "markdown",
   "metadata": {},
   "source": [
    "A primera vista no parece haber valores extraño."
   ]
  },
  {
   "cell_type": "code",
   "execution_count": 83,
   "metadata": {
    "ExecuteTime": {
     "end_time": "2024-09-27T17:38:52.672770Z",
     "start_time": "2024-09-27T17:38:52.669009Z"
    }
   },
   "outputs": [
    {
     "data": {
      "text/plain": [
       "Key\n",
       "1     106\n",
       "7     104\n",
       "5      91\n",
       "9      91\n",
       "0      90\n",
       "6      73\n",
       "11     72\n",
       "10     68\n",
       "2      65\n",
       "4      64\n",
       "8      57\n",
       "3      38\n",
       "Name: count, dtype: int64"
      ]
     },
     "execution_count": 83,
     "metadata": {},
     "output_type": "execute_result"
    }
   ],
   "source": [
    "covers_dataset['Key'].value_counts()"
   ]
  },
  {
   "cell_type": "markdown",
   "metadata": {},
   "source": [
    "Todo parece normal en ```Key```."
   ]
  },
  {
   "cell_type": "code",
   "execution_count": 84,
   "metadata": {
    "ExecuteTime": {
     "end_time": "2024-09-27T17:38:52.842081Z",
     "start_time": "2024-09-27T17:38:52.837421Z"
    }
   },
   "outputs": [
    {
     "data": {
      "text/plain": [
       "Loudness\n",
       "-5.484     3\n",
       "-8.412     3\n",
       "-10.419    3\n",
       "-5.109     3\n",
       "-7.440     3\n",
       "          ..\n",
       "-10.952    1\n",
       "-5.395     1\n",
       "-4.699     1\n",
       "-7.063     1\n",
       "-8.422     1\n",
       "Name: count, Length: 842, dtype: int64"
      ]
     },
     "execution_count": 84,
     "metadata": {},
     "output_type": "execute_result"
    }
   ],
   "source": [
    "covers_dataset['Loudness'].value_counts()"
   ]
  },
  {
   "cell_type": "markdown",
   "metadata": {},
   "source": [
    "Sospechosos los valores que se repiten 3 veces siendo una variable continua pero aceptable..."
   ]
  },
  {
   "cell_type": "code",
   "execution_count": 85,
   "metadata": {
    "ExecuteTime": {
     "end_time": "2024-09-27T17:38:53.033402Z",
     "start_time": "2024-09-27T17:38:53.028924Z"
    }
   },
   "outputs": [
    {
     "data": {
      "text/plain": [
       "Mode\n",
       "1    602\n",
       "0    317\n",
       "Name: count, dtype: int64"
      ]
     },
     "execution_count": 85,
     "metadata": {},
     "output_type": "execute_result"
    }
   ],
   "source": [
    "covers_dataset['Mode'].value_counts()"
   ]
  },
  {
   "cell_type": "markdown",
   "metadata": {},
   "source": [
    "Predominancia del valor de 1 en ```Mode```."
   ]
  },
  {
   "cell_type": "code",
   "execution_count": 86,
   "metadata": {
    "ExecuteTime": {
     "end_time": "2024-09-27T17:38:53.211380Z",
     "start_time": "2024-09-27T17:38:53.206867Z"
    }
   },
   "outputs": [
    {
     "data": {
      "text/plain": [
       "Speechiness\n",
       "0.0352    9\n",
       "0.0321    8\n",
       "0.0270    8\n",
       "0.0277    7\n",
       "0.0279    7\n",
       "         ..\n",
       "0.0670    1\n",
       "0.1550    1\n",
       "0.0383    1\n",
       "0.0384    1\n",
       "0.0632    1\n",
       "Name: count, Length: 488, dtype: int64"
      ]
     },
     "execution_count": 86,
     "metadata": {},
     "output_type": "execute_result"
    }
   ],
   "source": [
    "covers_dataset['Speechiness'].value_counts()"
   ]
  },
  {
   "cell_type": "markdown",
   "metadata": {},
   "source": [
    "Valores repetidos en una variable continua. Candidatos a invertigacion: 0.0352,0.0321,0.0270    "
   ]
  },
  {
   "cell_type": "code",
   "execution_count": 87,
   "metadata": {
    "ExecuteTime": {
     "end_time": "2024-09-27T17:38:53.424206Z",
     "start_time": "2024-09-27T17:38:53.419489Z"
    }
   },
   "outputs": [
    {
     "data": {
      "text/plain": [
       "Acousticness\n",
       "0.11800    5\n",
       "0.21500    5\n",
       "0.13900    4\n",
       "0.20000    4\n",
       "0.11400    4\n",
       "          ..\n",
       "0.48600    1\n",
       "0.00107    1\n",
       "0.06860    1\n",
       "0.01340    1\n",
       "0.85500    1\n",
       "Name: count, Length: 676, dtype: int64"
      ]
     },
     "execution_count": 87,
     "metadata": {},
     "output_type": "execute_result"
    }
   ],
   "source": [
    "covers_dataset['Acousticness'].value_counts()"
   ]
  },
  {
   "cell_type": "markdown",
   "metadata": {},
   "source": [
    "Hay valores repetidos 5 veces, puede investigarse..."
   ]
  },
  {
   "cell_type": "code",
   "execution_count": 88,
   "metadata": {
    "ExecuteTime": {
     "end_time": "2024-09-27T17:38:53.601960Z",
     "start_time": "2024-09-27T17:38:53.597926Z"
    }
   },
   "outputs": [
    {
     "data": {
      "text/plain": [
       "Instrumentalness\n",
       "0.000000    375\n",
       "0.109000      4\n",
       "0.000106      3\n",
       "0.000018      3\n",
       "0.000163      3\n",
       "           ... \n",
       "0.000096      1\n",
       "0.000023      1\n",
       "0.011500      1\n",
       "0.000043      1\n",
       "0.000519      1\n",
       "Name: count, Length: 489, dtype: int64"
      ]
     },
     "execution_count": 88,
     "metadata": {},
     "output_type": "execute_result"
    }
   ],
   "source": [
    "covers_dataset['Instrumentalness'].value_counts()"
   ]
  },
  {
   "cell_type": "markdown",
   "metadata": {},
   "source": [
    "Muchos registros con 0 de ```Instrumentalness```, asumimos que 0 significa que la cancion es \"Acapella\" valores altos de ```instrumentalness``` como bien describimos al principio corresponden o \"deberian\" corresponder a canciones con mayor presencia instrumental. Mientras que valores menores indican lo contrario. Resaltamos el ```deberia``` porque investigando algunas canciones con valores ```instrumentalness``` estas si poseen instrumentacion."
   ]
  },
  {
   "cell_type": "code",
   "execution_count": 89,
   "metadata": {
    "ExecuteTime": {
     "end_time": "2024-09-27T17:38:53.783153Z",
     "start_time": "2024-09-27T17:38:53.779763Z"
    }
   },
   "outputs": [
    {
     "data": {
      "text/plain": [
       "np.float64(0.987)"
      ]
     },
     "execution_count": 89,
     "metadata": {},
     "output_type": "execute_result"
    }
   ],
   "source": [
    "covers_dataset['Instrumentalness'].max()"
   ]
  },
  {
   "cell_type": "code",
   "execution_count": 90,
   "metadata": {
    "ExecuteTime": {
     "end_time": "2024-09-27T17:38:53.984276Z",
     "start_time": "2024-09-27T17:38:53.979327Z"
    }
   },
   "outputs": [
    {
     "data": {
      "text/plain": [
       "Liveness\n",
       "0.1090    14\n",
       "0.1080    13\n",
       "0.1040    12\n",
       "0.1060    11\n",
       "0.1030    11\n",
       "          ..\n",
       "0.0476     1\n",
       "0.0933     1\n",
       "0.0630     1\n",
       "0.0613     1\n",
       "0.0779     1\n",
       "Name: count, Length: 499, dtype: int64"
      ]
     },
     "execution_count": 90,
     "metadata": {},
     "output_type": "execute_result"
    }
   ],
   "source": [
    "covers_dataset['Liveness'].value_counts()"
   ]
  },
  {
   "cell_type": "markdown",
   "metadata": {},
   "source": [
    "A primera vista no sabemos bien la razon pero en ```Liveness``` hay valores repetidos en 0.1xxx osea todos los valores que son 0.1 y algo mas."
   ]
  },
  {
   "cell_type": "code",
   "execution_count": 91,
   "metadata": {
    "ExecuteTime": {
     "end_time": "2024-09-27T17:38:54.094211Z",
     "start_time": "2024-09-27T17:38:54.090086Z"
    }
   },
   "outputs": [
    {
     "data": {
      "text/plain": [
       "Valence\n",
       "0.287    6\n",
       "0.781    5\n",
       "0.510    5\n",
       "0.421    5\n",
       "0.144    5\n",
       "        ..\n",
       "0.342    1\n",
       "0.550    1\n",
       "0.796    1\n",
       "0.624    1\n",
       "0.960    1\n",
       "Name: count, Length: 570, dtype: int64"
      ]
     },
     "execution_count": 91,
     "metadata": {},
     "output_type": "execute_result"
    }
   ],
   "source": [
    "covers_dataset['Valence'].value_counts()"
   ]
  },
  {
   "cell_type": "markdown",
   "metadata": {},
   "source": [
    "Algunos valores repetidos en ```Valence``` pero zafa..."
   ]
  },
  {
   "cell_type": "code",
   "execution_count": 92,
   "metadata": {
    "ExecuteTime": {
     "end_time": "2024-09-27T17:38:54.238235Z",
     "start_time": "2024-09-27T17:38:54.233312Z"
    }
   },
   "outputs": [
    {
     "data": {
      "text/plain": [
       "Tempo\n",
       "118.777    3\n",
       "100.002    3\n",
       "83.943     2\n",
       "118.402    2\n",
       "119.973    2\n",
       "          ..\n",
       "98.572     1\n",
       "113.722    1\n",
       "127.969    1\n",
       "71.582     1\n",
       "132.889    1\n",
       "Name: count, Length: 873, dtype: int64"
      ]
     },
     "execution_count": 92,
     "metadata": {},
     "output_type": "execute_result"
    }
   ],
   "source": [
    "covers_dataset['Tempo'].value_counts()"
   ]
  },
  {
   "cell_type": "markdown",
   "metadata": {},
   "source": [
    "Aceptable, quizas los valores 118.777 y 100.002 podrian revisarse, tampoco que se repitan tanto en ```Tempo```"
   ]
  },
  {
   "cell_type": "code",
   "execution_count": 93,
   "metadata": {
    "ExecuteTime": {
     "end_time": "2024-09-27T17:38:54.427033Z",
     "start_time": "2024-09-27T17:38:54.422833Z"
    }
   },
   "outputs": [
    {
     "data": {
      "text/plain": [
       "Popularity\n",
       "59    30\n",
       "69    28\n",
       "57    27\n",
       "64    27\n",
       "63    27\n",
       "      ..\n",
       "4      1\n",
       "16     1\n",
       "92     1\n",
       "89     1\n",
       "25     1\n",
       "Name: count, Length: 82, dtype: int64"
      ]
     },
     "execution_count": 93,
     "metadata": {},
     "output_type": "execute_result"
    }
   ],
   "source": [
    "covers_dataset['Popularity'].value_counts()"
   ]
  },
  {
   "cell_type": "markdown",
   "metadata": {},
   "source": [
    "Variable discreta asi que esta bien que se repitan cosas. Tampoco exageremos!"
   ]
  },
  {
   "cell_type": "code",
   "execution_count": 94,
   "metadata": {
    "ExecuteTime": {
     "end_time": "2024-09-27T17:38:54.601511Z",
     "start_time": "2024-09-27T17:38:54.597507Z"
    }
   },
   "outputs": [
    {
     "data": {
      "text/plain": [
       "Year\n",
       "1991    100\n",
       "1990     99\n",
       "1999     96\n",
       "1992     95\n",
       "1993     94\n",
       "1994     91\n",
       "1998     91\n",
       "1997     89\n",
       "1995     86\n",
       "1996     78\n",
       "Name: count, dtype: int64"
      ]
     },
     "execution_count": 94,
     "metadata": {},
     "output_type": "execute_result"
    }
   ],
   "source": [
    "covers_dataset['Year'].value_counts()"
   ]
  },
  {
   "cell_type": "markdown",
   "metadata": {},
   "source": [
    "Vemos que todas las canciones son de los '90, pero nada extraño que destacar."
   ]
  },
  {
   "cell_type": "markdown",
   "metadata": {},
   "source": [
    "**Nota: Relacionar las variables Valance y Tempo(¿la velocidad se relaciona a la positividad de la canción?)**"
   ]
  },
  {
   "cell_type": "markdown",
   "metadata": {},
   "source": [
    "### <u>Corrección de tipos<u> "
   ]
  },
  {
   "cell_type": "markdown",
   "metadata": {},
   "source": [
    " Ahora nos ocuparemos de comprobar que los tipos de las variables sean adecuados a lo que representan. Para ello, usamos el método ```info()```"
   ]
  },
  {
   "cell_type": "code",
   "execution_count": 95,
   "metadata": {
    "ExecuteTime": {
     "end_time": "2024-09-27T17:38:54.783983Z",
     "start_time": "2024-09-27T17:38:54.778183Z"
    }
   },
   "outputs": [
    {
     "name": "stdout",
     "output_type": "stream",
     "text": [
      "<class 'pandas.core.frame.DataFrame'>\n",
      "RangeIndex: 919 entries, 0 to 918\n",
      "Data columns (total 17 columns):\n",
      " #   Column            Non-Null Count  Dtype  \n",
      "---  ------            --------------  -----  \n",
      " 0   Track             919 non-null    object \n",
      " 1   Artist            919 non-null    object \n",
      " 2   Duration          919 non-null    object \n",
      " 3   Time_Signature    919 non-null    int64  \n",
      " 4   Danceability      919 non-null    float64\n",
      " 5   Energy            919 non-null    float64\n",
      " 6   Key               919 non-null    int64  \n",
      " 7   Loudness          919 non-null    float64\n",
      " 8   Mode              919 non-null    int64  \n",
      " 9   Speechiness       919 non-null    float64\n",
      " 10  Acousticness      919 non-null    float64\n",
      " 11  Instrumentalness  919 non-null    float64\n",
      " 12  Liveness          919 non-null    float64\n",
      " 13  Valence           919 non-null    float64\n",
      " 14  Tempo             919 non-null    float64\n",
      " 15  Popularity        919 non-null    int64  \n",
      " 16  Year              919 non-null    int64  \n",
      "dtypes: float64(9), int64(5), object(3)\n",
      "memory usage: 122.2+ KB\n"
     ]
    }
   ],
   "source": [
    "covers_dataset.info()"
   ]
  },
  {
   "cell_type": "markdown",
   "metadata": {},
   "source": [
    "Hacemos una copia mediante el método ```copy()``` para no arruinar el dataset original"
   ]
  },
  {
   "cell_type": "code",
   "metadata": {
    "ExecuteTime": {
     "end_time": "2024-09-29T20:32:46.612539Z",
     "start_time": "2024-09-29T20:32:46.608028Z"
    }
   },
   "source": [
    "copy_covers_ds = covers_dataset.copy()"
   ],
   "outputs": [],
   "execution_count": 3
  },
  {
   "cell_type": "markdown",
   "metadata": {},
   "source": [
    "Convertimos el tipo de dato de la columna ```Mode``` de entero a booleano para hacer el análisis"
   ]
  },
  {
   "cell_type": "code",
   "execution_count": 97,
   "metadata": {
    "ExecuteTime": {
     "end_time": "2024-09-27T17:38:55.120061Z",
     "start_time": "2024-09-27T17:38:55.117058Z"
    }
   },
   "outputs": [],
   "source": [
    "copy_covers_ds['Mode'] = copy_covers_ds['Mode'].astype(bool)"
   ]
  },
  {
   "cell_type": "markdown",
   "metadata": {},
   "source": [
    "Ahora nos centraremos en arreglar el tipo de la variable ```Duration```, convirtiendolo de string a integer(segundos)"
   ]
  },
  {
   "cell_type": "code",
   "execution_count": 98,
   "metadata": {
    "ExecuteTime": {
     "end_time": "2024-09-27T17:38:55.234801Z",
     "start_time": "2024-09-27T17:38:55.180966Z"
    }
   },
   "outputs": [
    {
     "data": {
      "text/html": [
       "<div>\n",
       "<style scoped>\n",
       "    .dataframe tbody tr th:only-of-type {\n",
       "        vertical-align: middle;\n",
       "    }\n",
       "\n",
       "    .dataframe tbody tr th {\n",
       "        vertical-align: top;\n",
       "    }\n",
       "\n",
       "    .dataframe thead th {\n",
       "        text-align: right;\n",
       "    }\n",
       "</style>\n",
       "<table border=\"1\" class=\"dataframe\">\n",
       "  <thead>\n",
       "    <tr style=\"text-align: right;\">\n",
       "      <th></th>\n",
       "      <th>Track</th>\n",
       "      <th>Artist</th>\n",
       "      <th>Duration</th>\n",
       "      <th>Time_Signature</th>\n",
       "      <th>Danceability</th>\n",
       "      <th>Energy</th>\n",
       "      <th>Key</th>\n",
       "      <th>Loudness</th>\n",
       "      <th>Mode</th>\n",
       "      <th>Speechiness</th>\n",
       "      <th>Acousticness</th>\n",
       "      <th>Instrumentalness</th>\n",
       "      <th>Liveness</th>\n",
       "      <th>Valence</th>\n",
       "      <th>Tempo</th>\n",
       "      <th>Popularity</th>\n",
       "      <th>Year</th>\n",
       "      <th>DURATION(s)</th>\n",
       "    </tr>\n",
       "  </thead>\n",
       "  <tbody>\n",
       "    <tr>\n",
       "      <th>0</th>\n",
       "      <td>Everybody Everybody</td>\n",
       "      <td>Black Box</td>\n",
       "      <td>4:11</td>\n",
       "      <td>4</td>\n",
       "      <td>0.645</td>\n",
       "      <td>0.795</td>\n",
       "      <td>7</td>\n",
       "      <td>-12.095</td>\n",
       "      <td>True</td>\n",
       "      <td>0.0527</td>\n",
       "      <td>0.3470</td>\n",
       "      <td>0.003890</td>\n",
       "      <td>0.1040</td>\n",
       "      <td>0.535</td>\n",
       "      <td>112.067</td>\n",
       "      <td>87</td>\n",
       "      <td>1990</td>\n",
       "      <td>251</td>\n",
       "    </tr>\n",
       "    <tr>\n",
       "      <th>1</th>\n",
       "      <td>Close To You</td>\n",
       "      <td>Maxi Priest</td>\n",
       "      <td>3:45</td>\n",
       "      <td>4</td>\n",
       "      <td>0.590</td>\n",
       "      <td>0.727</td>\n",
       "      <td>6</td>\n",
       "      <td>-7.955</td>\n",
       "      <td>True</td>\n",
       "      <td>0.0706</td>\n",
       "      <td>0.0259</td>\n",
       "      <td>0.000065</td>\n",
       "      <td>0.0827</td>\n",
       "      <td>0.356</td>\n",
       "      <td>121.966</td>\n",
       "      <td>85</td>\n",
       "      <td>1990</td>\n",
       "      <td>225</td>\n",
       "    </tr>\n",
       "    <tr>\n",
       "      <th>2</th>\n",
       "      <td>Do Me!</td>\n",
       "      <td>Bell Biv DeVoe</td>\n",
       "      <td>3:56</td>\n",
       "      <td>4</td>\n",
       "      <td>0.615</td>\n",
       "      <td>0.534</td>\n",
       "      <td>9</td>\n",
       "      <td>-6.719</td>\n",
       "      <td>False</td>\n",
       "      <td>0.0386</td>\n",
       "      <td>0.1060</td>\n",
       "      <td>0.000018</td>\n",
       "      <td>0.0607</td>\n",
       "      <td>0.193</td>\n",
       "      <td>135.917</td>\n",
       "      <td>84</td>\n",
       "      <td>1990</td>\n",
       "      <td>236</td>\n",
       "    </tr>\n",
       "    <tr>\n",
       "      <th>3</th>\n",
       "      <td>Everything</td>\n",
       "      <td>Jody Watley</td>\n",
       "      <td>4:05</td>\n",
       "      <td>4</td>\n",
       "      <td>0.704</td>\n",
       "      <td>0.225</td>\n",
       "      <td>6</td>\n",
       "      <td>-14.454</td>\n",
       "      <td>False</td>\n",
       "      <td>0.0994</td>\n",
       "      <td>0.9020</td>\n",
       "      <td>0.657000</td>\n",
       "      <td>0.1060</td>\n",
       "      <td>0.243</td>\n",
       "      <td>120.006</td>\n",
       "      <td>82</td>\n",
       "      <td>1990</td>\n",
       "      <td>245</td>\n",
       "    </tr>\n",
       "    <tr>\n",
       "      <th>4</th>\n",
       "      <td>What It Takes</td>\n",
       "      <td>Aerosmith</td>\n",
       "      <td>3:21</td>\n",
       "      <td>4</td>\n",
       "      <td>0.672</td>\n",
       "      <td>0.655</td>\n",
       "      <td>10</td>\n",
       "      <td>-5.021</td>\n",
       "      <td>False</td>\n",
       "      <td>0.0310</td>\n",
       "      <td>0.0362</td>\n",
       "      <td>0.000000</td>\n",
       "      <td>0.1170</td>\n",
       "      <td>0.555</td>\n",
       "      <td>134.948</td>\n",
       "      <td>82</td>\n",
       "      <td>1990</td>\n",
       "      <td>201</td>\n",
       "    </tr>\n",
       "  </tbody>\n",
       "</table>\n",
       "</div>"
      ],
      "text/plain": [
       "                 Track          Artist Duration  Time_Signature  Danceability  \\\n",
       "0  Everybody Everybody       Black Box     4:11               4         0.645   \n",
       "1         Close To You     Maxi Priest     3:45               4         0.590   \n",
       "2               Do Me!  Bell Biv DeVoe     3:56               4         0.615   \n",
       "3           Everything     Jody Watley     4:05               4         0.704   \n",
       "4        What It Takes       Aerosmith     3:21               4         0.672   \n",
       "\n",
       "   Energy  Key  Loudness   Mode  Speechiness  Acousticness  Instrumentalness  \\\n",
       "0   0.795    7   -12.095   True       0.0527        0.3470          0.003890   \n",
       "1   0.727    6    -7.955   True       0.0706        0.0259          0.000065   \n",
       "2   0.534    9    -6.719  False       0.0386        0.1060          0.000018   \n",
       "3   0.225    6   -14.454  False       0.0994        0.9020          0.657000   \n",
       "4   0.655   10    -5.021  False       0.0310        0.0362          0.000000   \n",
       "\n",
       "   Liveness  Valence    Tempo  Popularity  Year  DURATION(s)  \n",
       "0    0.1040    0.535  112.067          87  1990          251  \n",
       "1    0.0827    0.356  121.966          85  1990          225  \n",
       "2    0.0607    0.193  135.917          84  1990          236  \n",
       "3    0.1060    0.243  120.006          82  1990          245  \n",
       "4    0.1170    0.555  134.948          82  1990          201  "
      ]
     },
     "execution_count": 98,
     "metadata": {},
     "output_type": "execute_result"
    }
   ],
   "source": [
    "#Por las dudas hacemos un cambio de tipos a string.\n",
    "copy_covers_ds['Duration'] = copy_covers_ds['Duration'].astype(str)\n",
    "#Creamos la nueva columna con los valores correctos convertidos a segundos(todavia no estan los valores).\n",
    "copy_covers_ds['DURATION(s)'] = 0\n",
    "#Por cada registro hacemos:\n",
    "for index,row in copy_covers_ds.iterrows():\n",
    "    #duracion original se vuelve el valor de duracion de la fila.\n",
    "    duracion_original = row['Duration']\n",
    "    #Separamos por : los minutos y segundos.\n",
    "    minutos , segundos = duracion_original.split(':')\n",
    "    #Asignamos los minutos * 60 + los segundos obtenidos a la fila en la columna nueva, casteamos ambos parametros a segundos porque sino hace cualquier cosa.\n",
    "    copy_covers_ds.at[index,'DURATION(s)'] = int(minutos) * 60 + int(segundos)\n",
    "#Mostramos resultados.\n",
    "copy_covers_ds.head()"
   ]
  },
  {
   "cell_type": "markdown",
   "metadata": {},
   "source": [
    "## <u>Analisis de distribuciones<u>\n",
    "\n"
   ]
  },
  {
   "cell_type": "markdown",
   "metadata": {},
   "source": [
    "Ahora observaremos como se distribuye cada variable para poder aprender un poco sobre el conjunto de datos y obtener conclusiones. Tomaremos las variables más interesantes para analizar y cuyo gráfico nos pueda aportar algo de valor"
   ]
  },
  {
   "metadata": {},
   "cell_type": "markdown",
   "source": "### Analisis de ```Popularity```"
  },
  {
   "metadata": {
    "ExecuteTime": {
     "end_time": "2024-09-29T18:58:03.970866Z",
     "start_time": "2024-09-29T18:58:03.795650Z"
    }
   },
   "cell_type": "code",
   "source": [
    "import numpy as np\n",
    "\n",
    "# Ordenamos los datos\n",
    "popularity_sort = copy_covers_ds['Popularity'].sort_values()\n",
    "\n",
    "# Definimos el número de intervalos (bins)\n",
    "bins = 20\n",
    "\n",
    "# Graficamos el histograma\n",
    "plt.figure(figsize=(10, 6))\n",
    "plt.hist(popularity_sort, bins=bins, color='yellow', edgecolor='orange')\n",
    "\n",
    "# Añadimos título y etiquetas\n",
    "plt.title('Histograma de Popularity')\n",
    "plt.xlabel('Popularity')\n",
    "plt.ylabel('Cantidad de canciones')\n",
    "plt.xticks(np.arange(0,100,5))\n",
    "\n",
    "# Mostramos el gráfico\n",
    "plt.show()"
   ],
   "outputs": [
    {
     "data": {
      "text/plain": [
       "<Figure size 1000x600 with 1 Axes>"
      ],
      "image/png": "[encoded data removed]"
     },
     "metadata": {},
     "output_type": "display_data"
    }
   ],
   "execution_count": 11
  },
  {
   "metadata": {},
   "cell_type": "markdown",
   "source": "Podemos ver una curva bastante sesgada hacia la izquierda. Analicemos las canciones con mas popularidad!"
  },
  {
   "metadata": {
    "ExecuteTime": {
     "end_time": "2024-09-29T19:00:40.756238Z",
     "start_time": "2024-09-29T19:00:40.741698Z"
    }
   },
   "cell_type": "code",
   "source": [
    "mas_populares =  copy_covers_ds[covers_dataset['Popularity'] > 85].sort_values('Popularity')\n",
    "mas_populares"
   ],
   "outputs": [
    {
     "data": {
      "text/plain": [
       "                   Track                             Artist Duration  \\\n",
       "99              Romantic                        Karyn White     2:12   \n",
       "565               Nobody  Keith Sweat featuring Athena Cage     3:00   \n",
       "481                Creep                                TLC     3:58   \n",
       "480              Believe                         Elton John     3:24   \n",
       "645                 Pony                           Ginuwine     4:18   \n",
       "735      The Boy Is Mine                  Brandy and Monica     2:53   \n",
       "644               Nobody                        Keith Sweat     3:00   \n",
       "825       All Night Long   Faith Evans featuring Puff Daddy     3:30   \n",
       "826             All Star                        Smash Mouth     3:52   \n",
       "827              Believe                               Cher     3:24   \n",
       "824                 Iris                      Goo Goo Dolls     4:49   \n",
       "823       Have You Ever?                             Brandy     2:40   \n",
       "479      Someone To Love          Jon B. featuring Babyface     3:02   \n",
       "643              Someone                 SWV and Puff Daddy     3:02   \n",
       "0    Everybody Everybody                          Black Box     4:11   \n",
       "734               My All                       Mariah Carey     2:17   \n",
       "199              The One                         Elton John     4:04   \n",
       "733             One Week                   Barenaked Ladies     4:04   \n",
       "732         Cruel Summer                        Ace of Base     2:58   \n",
       "\n",
       "     Time_Signature  Danceability  Energy  Key  Loudness   Mode  Speechiness  \\\n",
       "99                4         0.571   0.544    6   -10.613   True       0.0299   \n",
       "565               3         0.358   0.284    7    -8.285   True       0.0285   \n",
       "481               4         0.515   0.430    7    -9.935   True       0.0372   \n",
       "480               4         0.776   0.780   10    -4.374  False       0.1280   \n",
       "645               4         0.610   0.650    6    -6.199   True       0.0474   \n",
       "735               4         0.795   0.630    7    -5.854  False       0.0434   \n",
       "644               3         0.358   0.284    7    -8.285   True       0.0285   \n",
       "825               4         0.532   0.767    7    -5.509   True       0.0574   \n",
       "826               4         0.695   0.633    8    -4.946   True       0.0599   \n",
       "827               4         0.776   0.780   10    -4.374  False       0.1280   \n",
       "824               3         0.315   0.715   11    -8.072  False       0.0362   \n",
       "823               4         0.741   0.697    0    -7.028   True       0.0277   \n",
       "479               4         0.501   0.405    1    -5.679   True       0.0319   \n",
       "643               4         0.501   0.405    1    -5.679   True       0.0319   \n",
       "0                 4         0.645   0.795    7   -12.095   True       0.0527   \n",
       "734               4         0.504   0.308    9   -14.958   True       0.0321   \n",
       "199               4         0.264   0.640    8    -6.221   True       0.0442   \n",
       "733               4         0.264   0.640    8    -6.221   True       0.0442   \n",
       "732               4         0.552   0.702    9    -5.707   True       0.1570   \n",
       "\n",
       "     Acousticness  Instrumentalness  Liveness  Valence    Tempo  Popularity  \\\n",
       "99        0.45300          0.008050    0.3220    0.216  132.052          86   \n",
       "565       0.80500          0.000000    0.1830    0.276   99.796          86   \n",
       "481       0.00970          0.000133    0.1290    0.104   91.844          86   \n",
       "480       0.06220          0.000000    0.0810    0.666  124.949          86   \n",
       "645       0.39900          0.000000    0.1100    0.507  106.719          86   \n",
       "735       0.15700          0.000000    0.0732    0.447   97.998          86   \n",
       "644       0.80500          0.000000    0.1830    0.276   99.796          86   \n",
       "825       0.00287          0.000513    0.3900    0.755  127.361          86   \n",
       "826       0.06120          0.000195    0.0926    0.557   96.782          86   \n",
       "827       0.06220          0.000000    0.0810    0.666  124.949          86   \n",
       "824       0.00125          0.000008    0.0942    0.497  155.925          87   \n",
       "823       0.06640          0.000023    0.1330    0.774  116.109          87   \n",
       "479       0.75100          0.000000    0.1050    0.446  109.891          87   \n",
       "643       0.75100          0.000000    0.1050    0.446  109.891          87   \n",
       "0         0.34700          0.003890    0.1040    0.535  112.067          87   \n",
       "734       0.86800          0.135000    0.1580    0.121  113.950          89   \n",
       "199       0.03930          0.000002    0.1510    0.190   84.828          91   \n",
       "733       0.03930          0.000002    0.1510    0.190   84.828          91   \n",
       "732       0.11700          0.000021    0.1050    0.564  169.994          92   \n",
       "\n",
       "     Year  DURATION(s)  \n",
       "99   1991          132  \n",
       "565  1996          180  \n",
       "481  1995          238  \n",
       "480  1995          204  \n",
       "645  1997          258  \n",
       "735  1998          173  \n",
       "644  1997          180  \n",
       "825  1999          210  \n",
       "826  1999          232  \n",
       "827  1999          204  \n",
       "824  1999          289  \n",
       "823  1999          160  \n",
       "479  1995          182  \n",
       "643  1997          182  \n",
       "0    1990          251  \n",
       "734  1998          137  \n",
       "199  1992          244  \n",
       "733  1998          244  \n",
       "732  1998          178  "
      ],
      "text/html": [
       "<div>\n",
       "<style scoped>\n",
       "    .dataframe tbody tr th:only-of-type {\n",
       "        vertical-align: middle;\n",
       "    }\n",
       "\n",
       "    .dataframe tbody tr th {\n",
       "        vertical-align: top;\n",
       "    }\n",
       "\n",
       "    .dataframe thead th {\n",
       "        text-align: right;\n",
       "    }\n",
       "</style>\n",
       "<table border=\"1\" class=\"dataframe\">\n",
       "  <thead>\n",
       "    <tr style=\"text-align: right;\">\n",
       "      <th></th>\n",
       "      <th>Track</th>\n",
       "      <th>Artist</th>\n",
       "      <th>Duration</th>\n",
       "      <th>Time_Signature</th>\n",
       "      <th>Danceability</th>\n",
       "      <th>Energy</th>\n",
       "      <th>Key</th>\n",
       "      <th>Loudness</th>\n",
       "      <th>Mode</th>\n",
       "      <th>Speechiness</th>\n",
       "      <th>Acousticness</th>\n",
       "      <th>Instrumentalness</th>\n",
       "      <th>Liveness</th>\n",
       "      <th>Valence</th>\n",
       "      <th>Tempo</th>\n",
       "      <th>Popularity</th>\n",
       "      <th>Year</th>\n",
       "      <th>DURATION(s)</th>\n",
       "    </tr>\n",
       "  </thead>\n",
       "  <tbody>\n",
       "    <tr>\n",
       "      <th>99</th>\n",
       "      <td>Romantic</td>\n",
       "      <td>Karyn White</td>\n",
       "      <td>2:12</td>\n",
       "      <td>4</td>\n",
       "      <td>0.571</td>\n",
       "      <td>0.544</td>\n",
       "      <td>6</td>\n",
       "      <td>-10.613</td>\n",
       "      <td>True</td>\n",
       "      <td>0.0299</td>\n",
       "      <td>0.45300</td>\n",
       "      <td>0.008050</td>\n",
       "      <td>0.3220</td>\n",
       "      <td>0.216</td>\n",
       "      <td>132.052</td>\n",
       "      <td>86</td>\n",
       "      <td>1991</td>\n",
       "      <td>132</td>\n",
       "    </tr>\n",
       "    <tr>\n",
       "      <th>565</th>\n",
       "      <td>Nobody</td>\n",
       "      <td>Keith Sweat featuring Athena Cage</td>\n",
       "      <td>3:00</td>\n",
       "      <td>3</td>\n",
       "      <td>0.358</td>\n",
       "      <td>0.284</td>\n",
       "      <td>7</td>\n",
       "      <td>-8.285</td>\n",
       "      <td>True</td>\n",
       "      <td>0.0285</td>\n",
       "      <td>0.80500</td>\n",
       "      <td>0.000000</td>\n",
       "      <td>0.1830</td>\n",
       "      <td>0.276</td>\n",
       "      <td>99.796</td>\n",
       "      <td>86</td>\n",
       "      <td>1996</td>\n",
       "      <td>180</td>\n",
       "    </tr>\n",
       "    <tr>\n",
       "      <th>481</th>\n",
       "      <td>Creep</td>\n",
       "      <td>TLC</td>\n",
       "      <td>3:58</td>\n",
       "      <td>4</td>\n",
       "      <td>0.515</td>\n",
       "      <td>0.430</td>\n",
       "      <td>7</td>\n",
       "      <td>-9.935</td>\n",
       "      <td>True</td>\n",
       "      <td>0.0372</td>\n",
       "      <td>0.00970</td>\n",
       "      <td>0.000133</td>\n",
       "      <td>0.1290</td>\n",
       "      <td>0.104</td>\n",
       "      <td>91.844</td>\n",
       "      <td>86</td>\n",
       "      <td>1995</td>\n",
       "      <td>238</td>\n",
       "    </tr>\n",
       "    <tr>\n",
       "      <th>480</th>\n",
       "      <td>Believe</td>\n",
       "      <td>Elton John</td>\n",
       "      <td>3:24</td>\n",
       "      <td>4</td>\n",
       "      <td>0.776</td>\n",
       "      <td>0.780</td>\n",
       "      <td>10</td>\n",
       "      <td>-4.374</td>\n",
       "      <td>False</td>\n",
       "      <td>0.1280</td>\n",
       "      <td>0.06220</td>\n",
       "      <td>0.000000</td>\n",
       "      <td>0.0810</td>\n",
       "      <td>0.666</td>\n",
       "      <td>124.949</td>\n",
       "      <td>86</td>\n",
       "      <td>1995</td>\n",
       "      <td>204</td>\n",
       "    </tr>\n",
       "    <tr>\n",
       "      <th>645</th>\n",
       "      <td>Pony</td>\n",
       "      <td>Ginuwine</td>\n",
       "      <td>4:18</td>\n",
       "      <td>4</td>\n",
       "      <td>0.610</td>\n",
       "      <td>0.650</td>\n",
       "      <td>6</td>\n",
       "      <td>-6.199</td>\n",
       "      <td>True</td>\n",
       "      <td>0.0474</td>\n",
       "      <td>0.39900</td>\n",
       "      <td>0.000000</td>\n",
       "      <td>0.1100</td>\n",
       "      <td>0.507</td>\n",
       "      <td>106.719</td>\n",
       "      <td>86</td>\n",
       "      <td>1997</td>\n",
       "      <td>258</td>\n",
       "    </tr>\n",
       "    <tr>\n",
       "      <th>735</th>\n",
       "      <td>The Boy Is Mine</td>\n",
       "      <td>Brandy and Monica</td>\n",
       "      <td>2:53</td>\n",
       "      <td>4</td>\n",
       "      <td>0.795</td>\n",
       "      <td>0.630</td>\n",
       "      <td>7</td>\n",
       "      <td>-5.854</td>\n",
       "      <td>False</td>\n",
       "      <td>0.0434</td>\n",
       "      <td>0.15700</td>\n",
       "      <td>0.000000</td>\n",
       "      <td>0.0732</td>\n",
       "      <td>0.447</td>\n",
       "      <td>97.998</td>\n",
       "      <td>86</td>\n",
       "      <td>1998</td>\n",
       "      <td>173</td>\n",
       "    </tr>\n",
       "    <tr>\n",
       "      <th>644</th>\n",
       "      <td>Nobody</td>\n",
       "      <td>Keith Sweat</td>\n",
       "      <td>3:00</td>\n",
       "      <td>3</td>\n",
       "      <td>0.358</td>\n",
       "      <td>0.284</td>\n",
       "      <td>7</td>\n",
       "      <td>-8.285</td>\n",
       "      <td>True</td>\n",
       "      <td>0.0285</td>\n",
       "      <td>0.80500</td>\n",
       "      <td>0.000000</td>\n",
       "      <td>0.1830</td>\n",
       "      <td>0.276</td>\n",
       "      <td>99.796</td>\n",
       "      <td>86</td>\n",
       "      <td>1997</td>\n",
       "      <td>180</td>\n",
       "    </tr>\n",
       "    <tr>\n",
       "      <th>825</th>\n",
       "      <td>All Night Long</td>\n",
       "      <td>Faith Evans featuring Puff Daddy</td>\n",
       "      <td>3:30</td>\n",
       "      <td>4</td>\n",
       "      <td>0.532</td>\n",
       "      <td>0.767</td>\n",
       "      <td>7</td>\n",
       "      <td>-5.509</td>\n",
       "      <td>True</td>\n",
       "      <td>0.0574</td>\n",
       "      <td>0.00287</td>\n",
       "      <td>0.000513</td>\n",
       "      <td>0.3900</td>\n",
       "      <td>0.755</td>\n",
       "      <td>127.361</td>\n",
       "      <td>86</td>\n",
       "      <td>1999</td>\n",
       "      <td>210</td>\n",
       "    </tr>\n",
       "    <tr>\n",
       "      <th>826</th>\n",
       "      <td>All Star</td>\n",
       "      <td>Smash Mouth</td>\n",
       "      <td>3:52</td>\n",
       "      <td>4</td>\n",
       "      <td>0.695</td>\n",
       "      <td>0.633</td>\n",
       "      <td>8</td>\n",
       "      <td>-4.946</td>\n",
       "      <td>True</td>\n",
       "      <td>0.0599</td>\n",
       "      <td>0.06120</td>\n",
       "      <td>0.000195</td>\n",
       "      <td>0.0926</td>\n",
       "      <td>0.557</td>\n",
       "      <td>96.782</td>\n",
       "      <td>86</td>\n",
       "      <td>1999</td>\n",
       "      <td>232</td>\n",
       "    </tr>\n",
       "    <tr>\n",
       "      <th>827</th>\n",
       "      <td>Believe</td>\n",
       "      <td>Cher</td>\n",
       "      <td>3:24</td>\n",
       "      <td>4</td>\n",
       "      <td>0.776</td>\n",
       "      <td>0.780</td>\n",
       "      <td>10</td>\n",
       "      <td>-4.374</td>\n",
       "      <td>False</td>\n",
       "      <td>0.1280</td>\n",
       "      <td>0.06220</td>\n",
       "      <td>0.000000</td>\n",
       "      <td>0.0810</td>\n",
       "      <td>0.666</td>\n",
       "      <td>124.949</td>\n",
       "      <td>86</td>\n",
       "      <td>1999</td>\n",
       "      <td>204</td>\n",
       "    </tr>\n",
       "    <tr>\n",
       "      <th>824</th>\n",
       "      <td>Iris</td>\n",
       "      <td>Goo Goo Dolls</td>\n",
       "      <td>4:49</td>\n",
       "      <td>3</td>\n",
       "      <td>0.315</td>\n",
       "      <td>0.715</td>\n",
       "      <td>11</td>\n",
       "      <td>-8.072</td>\n",
       "      <td>False</td>\n",
       "      <td>0.0362</td>\n",
       "      <td>0.00125</td>\n",
       "      <td>0.000008</td>\n",
       "      <td>0.0942</td>\n",
       "      <td>0.497</td>\n",
       "      <td>155.925</td>\n",
       "      <td>87</td>\n",
       "      <td>1999</td>\n",
       "      <td>289</td>\n",
       "    </tr>\n",
       "    <tr>\n",
       "      <th>823</th>\n",
       "      <td>Have You Ever?</td>\n",
       "      <td>Brandy</td>\n",
       "      <td>2:40</td>\n",
       "      <td>4</td>\n",
       "      <td>0.741</td>\n",
       "      <td>0.697</td>\n",
       "      <td>0</td>\n",
       "      <td>-7.028</td>\n",
       "      <td>True</td>\n",
       "      <td>0.0277</td>\n",
       "      <td>0.06640</td>\n",
       "      <td>0.000023</td>\n",
       "      <td>0.1330</td>\n",
       "      <td>0.774</td>\n",
       "      <td>116.109</td>\n",
       "      <td>87</td>\n",
       "      <td>1999</td>\n",
       "      <td>160</td>\n",
       "    </tr>\n",
       "    <tr>\n",
       "      <th>479</th>\n",
       "      <td>Someone To Love</td>\n",
       "      <td>Jon B. featuring Babyface</td>\n",
       "      <td>3:02</td>\n",
       "      <td>4</td>\n",
       "      <td>0.501</td>\n",
       "      <td>0.405</td>\n",
       "      <td>1</td>\n",
       "      <td>-5.679</td>\n",
       "      <td>True</td>\n",
       "      <td>0.0319</td>\n",
       "      <td>0.75100</td>\n",
       "      <td>0.000000</td>\n",
       "      <td>0.1050</td>\n",
       "      <td>0.446</td>\n",
       "      <td>109.891</td>\n",
       "      <td>87</td>\n",
       "      <td>1995</td>\n",
       "      <td>182</td>\n",
       "    </tr>\n",
       "    <tr>\n",
       "      <th>643</th>\n",
       "      <td>Someone</td>\n",
       "      <td>SWV and Puff Daddy</td>\n",
       "      <td>3:02</td>\n",
       "      <td>4</td>\n",
       "      <td>0.501</td>\n",
       "      <td>0.405</td>\n",
       "      <td>1</td>\n",
       "      <td>-5.679</td>\n",
       "      <td>True</td>\n",
       "      <td>0.0319</td>\n",
       "      <td>0.75100</td>\n",
       "      <td>0.000000</td>\n",
       "      <td>0.1050</td>\n",
       "      <td>0.446</td>\n",
       "      <td>109.891</td>\n",
       "      <td>87</td>\n",
       "      <td>1997</td>\n",
       "      <td>182</td>\n",
       "    </tr>\n",
       "    <tr>\n",
       "      <th>0</th>\n",
       "      <td>Everybody Everybody</td>\n",
       "      <td>Black Box</td>\n",
       "      <td>4:11</td>\n",
       "      <td>4</td>\n",
       "      <td>0.645</td>\n",
       "      <td>0.795</td>\n",
       "      <td>7</td>\n",
       "      <td>-12.095</td>\n",
       "      <td>True</td>\n",
       "      <td>0.0527</td>\n",
       "      <td>0.34700</td>\n",
       "      <td>0.003890</td>\n",
       "      <td>0.1040</td>\n",
       "      <td>0.535</td>\n",
       "      <td>112.067</td>\n",
       "      <td>87</td>\n",
       "      <td>1990</td>\n",
       "      <td>251</td>\n",
       "    </tr>\n",
       "    <tr>\n",
       "      <th>734</th>\n",
       "      <td>My All</td>\n",
       "      <td>Mariah Carey</td>\n",
       "      <td>2:17</td>\n",
       "      <td>4</td>\n",
       "      <td>0.504</td>\n",
       "      <td>0.308</td>\n",
       "      <td>9</td>\n",
       "      <td>-14.958</td>\n",
       "      <td>True</td>\n",
       "      <td>0.0321</td>\n",
       "      <td>0.86800</td>\n",
       "      <td>0.135000</td>\n",
       "      <td>0.1580</td>\n",
       "      <td>0.121</td>\n",
       "      <td>113.950</td>\n",
       "      <td>89</td>\n",
       "      <td>1998</td>\n",
       "      <td>137</td>\n",
       "    </tr>\n",
       "    <tr>\n",
       "      <th>199</th>\n",
       "      <td>The One</td>\n",
       "      <td>Elton John</td>\n",
       "      <td>4:04</td>\n",
       "      <td>4</td>\n",
       "      <td>0.264</td>\n",
       "      <td>0.640</td>\n",
       "      <td>8</td>\n",
       "      <td>-6.221</td>\n",
       "      <td>True</td>\n",
       "      <td>0.0442</td>\n",
       "      <td>0.03930</td>\n",
       "      <td>0.000002</td>\n",
       "      <td>0.1510</td>\n",
       "      <td>0.190</td>\n",
       "      <td>84.828</td>\n",
       "      <td>91</td>\n",
       "      <td>1992</td>\n",
       "      <td>244</td>\n",
       "    </tr>\n",
       "    <tr>\n",
       "      <th>733</th>\n",
       "      <td>One Week</td>\n",
       "      <td>Barenaked Ladies</td>\n",
       "      <td>4:04</td>\n",
       "      <td>4</td>\n",
       "      <td>0.264</td>\n",
       "      <td>0.640</td>\n",
       "      <td>8</td>\n",
       "      <td>-6.221</td>\n",
       "      <td>True</td>\n",
       "      <td>0.0442</td>\n",
       "      <td>0.03930</td>\n",
       "      <td>0.000002</td>\n",
       "      <td>0.1510</td>\n",
       "      <td>0.190</td>\n",
       "      <td>84.828</td>\n",
       "      <td>91</td>\n",
       "      <td>1998</td>\n",
       "      <td>244</td>\n",
       "    </tr>\n",
       "    <tr>\n",
       "      <th>732</th>\n",
       "      <td>Cruel Summer</td>\n",
       "      <td>Ace of Base</td>\n",
       "      <td>2:58</td>\n",
       "      <td>4</td>\n",
       "      <td>0.552</td>\n",
       "      <td>0.702</td>\n",
       "      <td>9</td>\n",
       "      <td>-5.707</td>\n",
       "      <td>True</td>\n",
       "      <td>0.1570</td>\n",
       "      <td>0.11700</td>\n",
       "      <td>0.000021</td>\n",
       "      <td>0.1050</td>\n",
       "      <td>0.564</td>\n",
       "      <td>169.994</td>\n",
       "      <td>92</td>\n",
       "      <td>1998</td>\n",
       "      <td>178</td>\n",
       "    </tr>\n",
       "  </tbody>\n",
       "</table>\n",
       "</div>"
      ]
     },
     "execution_count": 13,
     "metadata": {},
     "output_type": "execute_result"
    }
   ],
   "execution_count": 13
  },
  {
   "metadata": {},
   "cell_type": "markdown",
   "source": "Ahora las menos populares!"
  },
  {
   "metadata": {
    "ExecuteTime": {
     "end_time": "2024-09-29T19:02:42.312436Z",
     "start_time": "2024-09-29T19:02:42.293251Z"
    }
   },
   "cell_type": "code",
   "source": [
    "menos_populares =  copy_covers_ds[covers_dataset['Popularity'] < 15].sort_values('Popularity')\n",
    "menos_populares"
   ],
   "outputs": [
    {
     "data": {
      "text/plain": [
       "                                              Track  \\\n",
       "198                     I Can’t Wait Another Minute   \n",
       "98                             I’ll Be Your Shelter   \n",
       "97                          I’ll Be Your Everything   \n",
       "96     (CAN’T Live Without Your) Love And Affection   \n",
       "387                        That’s The Way Love Goes   \n",
       "386       I’ll Never Get Over You (GETTING Over Me)   \n",
       "293                         That’s What Love Is For   \n",
       "563          I’d Lie For You (AND That’s The Truth)   \n",
       "641           Old Man And Me (WHEN I Get To Heaven)   \n",
       "642                              Tonite’s Tha Night   \n",
       "918                         It Ain’t My Fault 1 & 2   \n",
       "822                   We’re Not Making Love No More   \n",
       "564  I’ll Be There For You/You’re All I Need To Get   \n",
       "640                    C’mon N’ Ride It (THE Train)   \n",
       "292                                Let’s Get Rocked   \n",
       "95                            C’mon And Get My Love   \n",
       "384                             Cat’s In The Cradle   \n",
       "94                                   Girls Nite Out   \n",
       "385                         That’s What Love Can Do   \n",
       "731                       Can’t Nobody Hold Me Down   \n",
       "821                            How’s It Going To Be   \n",
       "730                                  It’s Your Love   \n",
       "93                               She Ain’t Worth It   \n",
       "383                                     Shoop (#5*)   \n",
       "639                                         Tell Me   \n",
       "382                       Nothin’ My Love Can’t Fix   \n",
       "729                     Macarena (BAYSIDE Boys Mix)   \n",
       "92                      This One’s For The Children   \n",
       "638                  Let’s Make A Night To Remember   \n",
       "819              Are U Still Down / They Don’t Know   \n",
       "820                               It’s All About Me   \n",
       "\n",
       "                                    Artist Duration  Time_Signature  \\\n",
       "198                                Hi-Five     4:37               4   \n",
       "98                            Taylor Dayne     4:39               4   \n",
       "97                              Tommy Page     3:13               4   \n",
       "96                                  Nelson     4:03               4   \n",
       "387                          Janet Jackson     1:57               4   \n",
       "386                                 Exposé     3:48               4   \n",
       "293                              Amy Grant     3:25               4   \n",
       "563                              Meat Loaf     4:26               4   \n",
       "641                  Hootie & the Blowfish     4:29               4   \n",
       "642                             Kris Kross     3:20               4   \n",
       "918   Silkk the Shocker Featuring Mystikal     3:30               4   \n",
       "822                               Dru Hill     4:34               4   \n",
       "564  by Method Man featuring Mary J. Blige     1:40               4   \n",
       "640                         Quad City DJ’s     4:36               4   \n",
       "292                            Def Leppard     5:02               4   \n",
       "95            D Mob featuring Cathy Dennis     4:11               4   \n",
       "384                           Ugly Kid Joe     5:15               3   \n",
       "94                           Tyler Collins     4:13               4   \n",
       "385                              Boy Krazy     5:56               4   \n",
       "731              Puff Daddy featuring Mase     3:51               4   \n",
       "821                        Third Eye Blind     4:04               4   \n",
       "730              Tim McGraw and Faith Hill     3:25               3   \n",
       "93          Glenn Medeiros and Bobby Brown     3:26               4   \n",
       "383                           Salt N’ Pepa     3:56               4   \n",
       "639                          Groove Theory     4:15               4   \n",
       "382                          Joey Lawrence     4:35               4   \n",
       "729                            Los del Río     3:24               4   \n",
       "92                   New Kids on the Block     3:09               4   \n",
       "638                            Bryan Adams     5:54               4   \n",
       "819                                 Jon B.     4:26               4   \n",
       "820                          Mýa and Sisqo     3:14               4   \n",
       "\n",
       "     Danceability  Energy  Key  Loudness   Mode  Speechiness  Acousticness  \\\n",
       "198         0.640   0.448    8   -15.519   True       0.0556      0.202000   \n",
       "98          0.467   0.392    8    -7.556   True       0.0280      0.105000   \n",
       "97          0.516   0.663    6    -6.027  False       0.0365      0.000180   \n",
       "96          0.852   0.907    4    -5.571   True       0.0439      0.259000   \n",
       "387         0.558   0.310    7   -14.463   True       0.0318      0.921000   \n",
       "386         0.405   0.394    8    -7.692   True       0.0289      0.139000   \n",
       "293         0.529   0.758    9    -5.950   True       0.0372      0.116000   \n",
       "563         0.483   0.544    2   -10.597   True       0.0343      0.610000   \n",
       "641         0.466   0.612    4    -9.155   True       0.0355      0.527000   \n",
       "642         0.570   0.634    8   -17.278   True       0.0314      0.015700   \n",
       "918         0.743   0.567    4   -12.468  False       0.2570      0.196000   \n",
       "822         0.617   0.590    3    -5.347  False       0.0328      0.597000   \n",
       "564         0.629   0.646    2    -7.775  False       0.1120      0.000088   \n",
       "640         0.801   0.755   11    -5.170   True       0.0326      0.053600   \n",
       "292         0.578   0.780   10    -6.608   True       0.0428      0.145000   \n",
       "95          0.517   0.999    9    -6.013   True       0.2920      0.001410   \n",
       "384         0.519   0.423    9    -7.051   True       0.0303      0.093800   \n",
       "94          0.794   0.856    5    -4.780  False       0.0793      0.068300   \n",
       "385         0.712   0.981    5    -5.711   True       0.0565      0.000317   \n",
       "731         0.928   0.772    3    -5.936  False       0.2500      0.102000   \n",
       "821         0.691   0.603    0   -10.260   True       0.1120      0.011400   \n",
       "730         0.502   0.729    6    -8.110  False       0.0692      0.065000   \n",
       "93          0.812   0.694   11    -7.903  False       0.0842      0.586000   \n",
       "383         0.938   0.657    0    -7.615   True       0.2360      0.092500   \n",
       "639         0.553   0.670    4   -12.251  False       0.0329      0.104000   \n",
       "382         0.457   0.767    0    -7.318   True       0.0729      0.014500   \n",
       "729         0.766   0.740    1    -8.581   True       0.0417      0.018500   \n",
       "92          0.815   0.105    0   -20.005   True       0.2570      0.990000   \n",
       "638         0.601   0.365    0   -14.312   True       0.0320      0.369000   \n",
       "819         0.728   0.526    4    -8.672  False       0.0532      0.013900   \n",
       "820         0.426   0.937    8    -3.259   True       0.1120      0.053400   \n",
       "\n",
       "     Instrumentalness  Liveness  Valence    Tempo  Popularity  Year  \\\n",
       "198          0.000000    0.0680   0.6840  148.076           0  1991   \n",
       "98           0.001430    0.1180   0.3240  129.850           0  1990   \n",
       "97           0.829000    0.1030   0.6220  193.990           0  1990   \n",
       "96           0.000188    0.0667   0.9640  120.043           0  1990   \n",
       "387          0.001850    0.5910   0.4020   97.253           0  1993   \n",
       "386          0.000000    0.2570   0.0984  171.999           0  1993   \n",
       "293          0.004950    0.1610   0.7980   97.865           0  1992   \n",
       "563          0.709000    0.1010   0.2980  171.923           0  1995   \n",
       "641          0.000000    0.0948   0.7810   98.014           0  1996   \n",
       "642          0.931000    0.2570   0.5650  140.022           0  1996   \n",
       "918          0.000000    0.2280   0.7550   90.096           0  1999   \n",
       "822          0.000000    0.0588   0.2040  114.018           0  1998   \n",
       "564          0.880000    0.0990   0.1700  219.973           0  1995   \n",
       "640          0.000000    0.0482   0.9190  140.010           1  1996   \n",
       "292          0.000000    0.3450   0.3790   90.947           1  1992   \n",
       "95           0.016200    0.1970   0.2000  133.399           1  1990   \n",
       "384          0.000018    0.1080   0.2240  144.597           2  1993   \n",
       "94           0.000016    0.3030   0.8810  102.017           2  1990   \n",
       "385          0.000305    0.0738   0.8550  130.006           2  1993   \n",
       "731          0.000011    0.3380   0.6750   93.993           2  1997   \n",
       "821          0.000002    0.2550   0.6150  118.469           3  1998   \n",
       "730          0.000031    0.0651   0.1080  170.771           3  1997   \n",
       "93           0.002820    0.0833   0.7300  109.122           3  1990   \n",
       "383          0.000000    0.1180   0.7860   96.930           4  1993   \n",
       "639          0.160000    0.0648   0.9360  148.260          10  1996   \n",
       "382          0.000000    0.9070   0.4530  108.581          10  1993   \n",
       "729          0.695000    0.0576   0.9020  112.979          10  1997   \n",
       "92           0.934000    0.1130   0.5430   96.860          11  1990   \n",
       "638          0.002140    0.0572   0.6670  179.563          11  1996   \n",
       "819          0.000025    0.2740   0.4290   91.059          14  1998   \n",
       "820          0.000000    0.1080   0.4940  156.959          14  1998   \n",
       "\n",
       "     DURATION(s)  \n",
       "198          277  \n",
       "98           279  \n",
       "97           193  \n",
       "96           243  \n",
       "387          117  \n",
       "386          228  \n",
       "293          205  \n",
       "563          266  \n",
       "641          269  \n",
       "642          200  \n",
       "918          210  \n",
       "822          274  \n",
       "564          100  \n",
       "640          276  \n",
       "292          302  \n",
       "95           251  \n",
       "384          315  \n",
       "94           253  \n",
       "385          356  \n",
       "731          231  \n",
       "821          244  \n",
       "730          205  \n",
       "93           206  \n",
       "383          236  \n",
       "639          255  \n",
       "382          275  \n",
       "729          204  \n",
       "92           189  \n",
       "638          354  \n",
       "819          266  \n",
       "820          194  "
      ],
      "text/html": [
       "<div>\n",
       "<style scoped>\n",
       "    .dataframe tbody tr th:only-of-type {\n",
       "        vertical-align: middle;\n",
       "    }\n",
       "\n",
       "    .dataframe tbody tr th {\n",
       "        vertical-align: top;\n",
       "    }\n",
       "\n",
       "    .dataframe thead th {\n",
       "        text-align: right;\n",
       "    }\n",
       "</style>\n",
       "<table border=\"1\" class=\"dataframe\">\n",
       "  <thead>\n",
       "    <tr style=\"text-align: right;\">\n",
       "      <th></th>\n",
       "      <th>Track</th>\n",
       "      <th>Artist</th>\n",
       "      <th>Duration</th>\n",
       "      <th>Time_Signature</th>\n",
       "      <th>Danceability</th>\n",
       "      <th>Energy</th>\n",
       "      <th>Key</th>\n",
       "      <th>Loudness</th>\n",
       "      <th>Mode</th>\n",
       "      <th>Speechiness</th>\n",
       "      <th>Acousticness</th>\n",
       "      <th>Instrumentalness</th>\n",
       "      <th>Liveness</th>\n",
       "      <th>Valence</th>\n",
       "      <th>Tempo</th>\n",
       "      <th>Popularity</th>\n",
       "      <th>Year</th>\n",
       "      <th>DURATION(s)</th>\n",
       "    </tr>\n",
       "  </thead>\n",
       "  <tbody>\n",
       "    <tr>\n",
       "      <th>198</th>\n",
       "      <td>I Can’t Wait Another Minute</td>\n",
       "      <td>Hi-Five</td>\n",
       "      <td>4:37</td>\n",
       "      <td>4</td>\n",
       "      <td>0.640</td>\n",
       "      <td>0.448</td>\n",
       "      <td>8</td>\n",
       "      <td>-15.519</td>\n",
       "      <td>True</td>\n",
       "      <td>0.0556</td>\n",
       "      <td>0.202000</td>\n",
       "      <td>0.000000</td>\n",
       "      <td>0.0680</td>\n",
       "      <td>0.6840</td>\n",
       "      <td>148.076</td>\n",
       "      <td>0</td>\n",
       "      <td>1991</td>\n",
       "      <td>277</td>\n",
       "    </tr>\n",
       "    <tr>\n",
       "      <th>98</th>\n",
       "      <td>I’ll Be Your Shelter</td>\n",
       "      <td>Taylor Dayne</td>\n",
       "      <td>4:39</td>\n",
       "      <td>4</td>\n",
       "      <td>0.467</td>\n",
       "      <td>0.392</td>\n",
       "      <td>8</td>\n",
       "      <td>-7.556</td>\n",
       "      <td>True</td>\n",
       "      <td>0.0280</td>\n",
       "      <td>0.105000</td>\n",
       "      <td>0.001430</td>\n",
       "      <td>0.1180</td>\n",
       "      <td>0.3240</td>\n",
       "      <td>129.850</td>\n",
       "      <td>0</td>\n",
       "      <td>1990</td>\n",
       "      <td>279</td>\n",
       "    </tr>\n",
       "    <tr>\n",
       "      <th>97</th>\n",
       "      <td>I’ll Be Your Everything</td>\n",
       "      <td>Tommy Page</td>\n",
       "      <td>3:13</td>\n",
       "      <td>4</td>\n",
       "      <td>0.516</td>\n",
       "      <td>0.663</td>\n",
       "      <td>6</td>\n",
       "      <td>-6.027</td>\n",
       "      <td>False</td>\n",
       "      <td>0.0365</td>\n",
       "      <td>0.000180</td>\n",
       "      <td>0.829000</td>\n",
       "      <td>0.1030</td>\n",
       "      <td>0.6220</td>\n",
       "      <td>193.990</td>\n",
       "      <td>0</td>\n",
       "      <td>1990</td>\n",
       "      <td>193</td>\n",
       "    </tr>\n",
       "    <tr>\n",
       "      <th>96</th>\n",
       "      <td>(CAN’T Live Without Your) Love And Affection</td>\n",
       "      <td>Nelson</td>\n",
       "      <td>4:03</td>\n",
       "      <td>4</td>\n",
       "      <td>0.852</td>\n",
       "      <td>0.907</td>\n",
       "      <td>4</td>\n",
       "      <td>-5.571</td>\n",
       "      <td>True</td>\n",
       "      <td>0.0439</td>\n",
       "      <td>0.259000</td>\n",
       "      <td>0.000188</td>\n",
       "      <td>0.0667</td>\n",
       "      <td>0.9640</td>\n",
       "      <td>120.043</td>\n",
       "      <td>0</td>\n",
       "      <td>1990</td>\n",
       "      <td>243</td>\n",
       "    </tr>\n",
       "    <tr>\n",
       "      <th>387</th>\n",
       "      <td>That’s The Way Love Goes</td>\n",
       "      <td>Janet Jackson</td>\n",
       "      <td>1:57</td>\n",
       "      <td>4</td>\n",
       "      <td>0.558</td>\n",
       "      <td>0.310</td>\n",
       "      <td>7</td>\n",
       "      <td>-14.463</td>\n",
       "      <td>True</td>\n",
       "      <td>0.0318</td>\n",
       "      <td>0.921000</td>\n",
       "      <td>0.001850</td>\n",
       "      <td>0.5910</td>\n",
       "      <td>0.4020</td>\n",
       "      <td>97.253</td>\n",
       "      <td>0</td>\n",
       "      <td>1993</td>\n",
       "      <td>117</td>\n",
       "    </tr>\n",
       "    <tr>\n",
       "      <th>386</th>\n",
       "      <td>I’ll Never Get Over You (GETTING Over Me)</td>\n",
       "      <td>Exposé</td>\n",
       "      <td>3:48</td>\n",
       "      <td>4</td>\n",
       "      <td>0.405</td>\n",
       "      <td>0.394</td>\n",
       "      <td>8</td>\n",
       "      <td>-7.692</td>\n",
       "      <td>True</td>\n",
       "      <td>0.0289</td>\n",
       "      <td>0.139000</td>\n",
       "      <td>0.000000</td>\n",
       "      <td>0.2570</td>\n",
       "      <td>0.0984</td>\n",
       "      <td>171.999</td>\n",
       "      <td>0</td>\n",
       "      <td>1993</td>\n",
       "      <td>228</td>\n",
       "    </tr>\n",
       "    <tr>\n",
       "      <th>293</th>\n",
       "      <td>That’s What Love Is For</td>\n",
       "      <td>Amy Grant</td>\n",
       "      <td>3:25</td>\n",
       "      <td>4</td>\n",
       "      <td>0.529</td>\n",
       "      <td>0.758</td>\n",
       "      <td>9</td>\n",
       "      <td>-5.950</td>\n",
       "      <td>True</td>\n",
       "      <td>0.0372</td>\n",
       "      <td>0.116000</td>\n",
       "      <td>0.004950</td>\n",
       "      <td>0.1610</td>\n",
       "      <td>0.7980</td>\n",
       "      <td>97.865</td>\n",
       "      <td>0</td>\n",
       "      <td>1992</td>\n",
       "      <td>205</td>\n",
       "    </tr>\n",
       "    <tr>\n",
       "      <th>563</th>\n",
       "      <td>I’d Lie For You (AND That’s The Truth)</td>\n",
       "      <td>Meat Loaf</td>\n",
       "      <td>4:26</td>\n",
       "      <td>4</td>\n",
       "      <td>0.483</td>\n",
       "      <td>0.544</td>\n",
       "      <td>2</td>\n",
       "      <td>-10.597</td>\n",
       "      <td>True</td>\n",
       "      <td>0.0343</td>\n",
       "      <td>0.610000</td>\n",
       "      <td>0.709000</td>\n",
       "      <td>0.1010</td>\n",
       "      <td>0.2980</td>\n",
       "      <td>171.923</td>\n",
       "      <td>0</td>\n",
       "      <td>1995</td>\n",
       "      <td>266</td>\n",
       "    </tr>\n",
       "    <tr>\n",
       "      <th>641</th>\n",
       "      <td>Old Man And Me (WHEN I Get To Heaven)</td>\n",
       "      <td>Hootie &amp; the Blowfish</td>\n",
       "      <td>4:29</td>\n",
       "      <td>4</td>\n",
       "      <td>0.466</td>\n",
       "      <td>0.612</td>\n",
       "      <td>4</td>\n",
       "      <td>-9.155</td>\n",
       "      <td>True</td>\n",
       "      <td>0.0355</td>\n",
       "      <td>0.527000</td>\n",
       "      <td>0.000000</td>\n",
       "      <td>0.0948</td>\n",
       "      <td>0.7810</td>\n",
       "      <td>98.014</td>\n",
       "      <td>0</td>\n",
       "      <td>1996</td>\n",
       "      <td>269</td>\n",
       "    </tr>\n",
       "    <tr>\n",
       "      <th>642</th>\n",
       "      <td>Tonite’s Tha Night</td>\n",
       "      <td>Kris Kross</td>\n",
       "      <td>3:20</td>\n",
       "      <td>4</td>\n",
       "      <td>0.570</td>\n",
       "      <td>0.634</td>\n",
       "      <td>8</td>\n",
       "      <td>-17.278</td>\n",
       "      <td>True</td>\n",
       "      <td>0.0314</td>\n",
       "      <td>0.015700</td>\n",
       "      <td>0.931000</td>\n",
       "      <td>0.2570</td>\n",
       "      <td>0.5650</td>\n",
       "      <td>140.022</td>\n",
       "      <td>0</td>\n",
       "      <td>1996</td>\n",
       "      <td>200</td>\n",
       "    </tr>\n",
       "    <tr>\n",
       "      <th>918</th>\n",
       "      <td>It Ain’t My Fault 1 &amp; 2</td>\n",
       "      <td>Silkk the Shocker Featuring Mystikal</td>\n",
       "      <td>3:30</td>\n",
       "      <td>4</td>\n",
       "      <td>0.743</td>\n",
       "      <td>0.567</td>\n",
       "      <td>4</td>\n",
       "      <td>-12.468</td>\n",
       "      <td>False</td>\n",
       "      <td>0.2570</td>\n",
       "      <td>0.196000</td>\n",
       "      <td>0.000000</td>\n",
       "      <td>0.2280</td>\n",
       "      <td>0.7550</td>\n",
       "      <td>90.096</td>\n",
       "      <td>0</td>\n",
       "      <td>1999</td>\n",
       "      <td>210</td>\n",
       "    </tr>\n",
       "    <tr>\n",
       "      <th>822</th>\n",
       "      <td>We’re Not Making Love No More</td>\n",
       "      <td>Dru Hill</td>\n",
       "      <td>4:34</td>\n",
       "      <td>4</td>\n",
       "      <td>0.617</td>\n",
       "      <td>0.590</td>\n",
       "      <td>3</td>\n",
       "      <td>-5.347</td>\n",
       "      <td>False</td>\n",
       "      <td>0.0328</td>\n",
       "      <td>0.597000</td>\n",
       "      <td>0.000000</td>\n",
       "      <td>0.0588</td>\n",
       "      <td>0.2040</td>\n",
       "      <td>114.018</td>\n",
       "      <td>0</td>\n",
       "      <td>1998</td>\n",
       "      <td>274</td>\n",
       "    </tr>\n",
       "    <tr>\n",
       "      <th>564</th>\n",
       "      <td>I’ll Be There For You/You’re All I Need To Get</td>\n",
       "      <td>by Method Man featuring Mary J. Blige</td>\n",
       "      <td>1:40</td>\n",
       "      <td>4</td>\n",
       "      <td>0.629</td>\n",
       "      <td>0.646</td>\n",
       "      <td>2</td>\n",
       "      <td>-7.775</td>\n",
       "      <td>False</td>\n",
       "      <td>0.1120</td>\n",
       "      <td>0.000088</td>\n",
       "      <td>0.880000</td>\n",
       "      <td>0.0990</td>\n",
       "      <td>0.1700</td>\n",
       "      <td>219.973</td>\n",
       "      <td>0</td>\n",
       "      <td>1995</td>\n",
       "      <td>100</td>\n",
       "    </tr>\n",
       "    <tr>\n",
       "      <th>640</th>\n",
       "      <td>C’mon N’ Ride It (THE Train)</td>\n",
       "      <td>Quad City DJ’s</td>\n",
       "      <td>4:36</td>\n",
       "      <td>4</td>\n",
       "      <td>0.801</td>\n",
       "      <td>0.755</td>\n",
       "      <td>11</td>\n",
       "      <td>-5.170</td>\n",
       "      <td>True</td>\n",
       "      <td>0.0326</td>\n",
       "      <td>0.053600</td>\n",
       "      <td>0.000000</td>\n",
       "      <td>0.0482</td>\n",
       "      <td>0.9190</td>\n",
       "      <td>140.010</td>\n",
       "      <td>1</td>\n",
       "      <td>1996</td>\n",
       "      <td>276</td>\n",
       "    </tr>\n",
       "    <tr>\n",
       "      <th>292</th>\n",
       "      <td>Let’s Get Rocked</td>\n",
       "      <td>Def Leppard</td>\n",
       "      <td>5:02</td>\n",
       "      <td>4</td>\n",
       "      <td>0.578</td>\n",
       "      <td>0.780</td>\n",
       "      <td>10</td>\n",
       "      <td>-6.608</td>\n",
       "      <td>True</td>\n",
       "      <td>0.0428</td>\n",
       "      <td>0.145000</td>\n",
       "      <td>0.000000</td>\n",
       "      <td>0.3450</td>\n",
       "      <td>0.3790</td>\n",
       "      <td>90.947</td>\n",
       "      <td>1</td>\n",
       "      <td>1992</td>\n",
       "      <td>302</td>\n",
       "    </tr>\n",
       "    <tr>\n",
       "      <th>95</th>\n",
       "      <td>C’mon And Get My Love</td>\n",
       "      <td>D Mob featuring Cathy Dennis</td>\n",
       "      <td>4:11</td>\n",
       "      <td>4</td>\n",
       "      <td>0.517</td>\n",
       "      <td>0.999</td>\n",
       "      <td>9</td>\n",
       "      <td>-6.013</td>\n",
       "      <td>True</td>\n",
       "      <td>0.2920</td>\n",
       "      <td>0.001410</td>\n",
       "      <td>0.016200</td>\n",
       "      <td>0.1970</td>\n",
       "      <td>0.2000</td>\n",
       "      <td>133.399</td>\n",
       "      <td>1</td>\n",
       "      <td>1990</td>\n",
       "      <td>251</td>\n",
       "    </tr>\n",
       "    <tr>\n",
       "      <th>384</th>\n",
       "      <td>Cat’s In The Cradle</td>\n",
       "      <td>Ugly Kid Joe</td>\n",
       "      <td>5:15</td>\n",
       "      <td>3</td>\n",
       "      <td>0.519</td>\n",
       "      <td>0.423</td>\n",
       "      <td>9</td>\n",
       "      <td>-7.051</td>\n",
       "      <td>True</td>\n",
       "      <td>0.0303</td>\n",
       "      <td>0.093800</td>\n",
       "      <td>0.000018</td>\n",
       "      <td>0.1080</td>\n",
       "      <td>0.2240</td>\n",
       "      <td>144.597</td>\n",
       "      <td>2</td>\n",
       "      <td>1993</td>\n",
       "      <td>315</td>\n",
       "    </tr>\n",
       "    <tr>\n",
       "      <th>94</th>\n",
       "      <td>Girls Nite Out</td>\n",
       "      <td>Tyler Collins</td>\n",
       "      <td>4:13</td>\n",
       "      <td>4</td>\n",
       "      <td>0.794</td>\n",
       "      <td>0.856</td>\n",
       "      <td>5</td>\n",
       "      <td>-4.780</td>\n",
       "      <td>False</td>\n",
       "      <td>0.0793</td>\n",
       "      <td>0.068300</td>\n",
       "      <td>0.000016</td>\n",
       "      <td>0.3030</td>\n",
       "      <td>0.8810</td>\n",
       "      <td>102.017</td>\n",
       "      <td>2</td>\n",
       "      <td>1990</td>\n",
       "      <td>253</td>\n",
       "    </tr>\n",
       "    <tr>\n",
       "      <th>385</th>\n",
       "      <td>That’s What Love Can Do</td>\n",
       "      <td>Boy Krazy</td>\n",
       "      <td>5:56</td>\n",
       "      <td>4</td>\n",
       "      <td>0.712</td>\n",
       "      <td>0.981</td>\n",
       "      <td>5</td>\n",
       "      <td>-5.711</td>\n",
       "      <td>True</td>\n",
       "      <td>0.0565</td>\n",
       "      <td>0.000317</td>\n",
       "      <td>0.000305</td>\n",
       "      <td>0.0738</td>\n",
       "      <td>0.8550</td>\n",
       "      <td>130.006</td>\n",
       "      <td>2</td>\n",
       "      <td>1993</td>\n",
       "      <td>356</td>\n",
       "    </tr>\n",
       "    <tr>\n",
       "      <th>731</th>\n",
       "      <td>Can’t Nobody Hold Me Down</td>\n",
       "      <td>Puff Daddy featuring Mase</td>\n",
       "      <td>3:51</td>\n",
       "      <td>4</td>\n",
       "      <td>0.928</td>\n",
       "      <td>0.772</td>\n",
       "      <td>3</td>\n",
       "      <td>-5.936</td>\n",
       "      <td>False</td>\n",
       "      <td>0.2500</td>\n",
       "      <td>0.102000</td>\n",
       "      <td>0.000011</td>\n",
       "      <td>0.3380</td>\n",
       "      <td>0.6750</td>\n",
       "      <td>93.993</td>\n",
       "      <td>2</td>\n",
       "      <td>1997</td>\n",
       "      <td>231</td>\n",
       "    </tr>\n",
       "    <tr>\n",
       "      <th>821</th>\n",
       "      <td>How’s It Going To Be</td>\n",
       "      <td>Third Eye Blind</td>\n",
       "      <td>4:04</td>\n",
       "      <td>4</td>\n",
       "      <td>0.691</td>\n",
       "      <td>0.603</td>\n",
       "      <td>0</td>\n",
       "      <td>-10.260</td>\n",
       "      <td>True</td>\n",
       "      <td>0.1120</td>\n",
       "      <td>0.011400</td>\n",
       "      <td>0.000002</td>\n",
       "      <td>0.2550</td>\n",
       "      <td>0.6150</td>\n",
       "      <td>118.469</td>\n",
       "      <td>3</td>\n",
       "      <td>1998</td>\n",
       "      <td>244</td>\n",
       "    </tr>\n",
       "    <tr>\n",
       "      <th>730</th>\n",
       "      <td>It’s Your Love</td>\n",
       "      <td>Tim McGraw and Faith Hill</td>\n",
       "      <td>3:25</td>\n",
       "      <td>3</td>\n",
       "      <td>0.502</td>\n",
       "      <td>0.729</td>\n",
       "      <td>6</td>\n",
       "      <td>-8.110</td>\n",
       "      <td>False</td>\n",
       "      <td>0.0692</td>\n",
       "      <td>0.065000</td>\n",
       "      <td>0.000031</td>\n",
       "      <td>0.0651</td>\n",
       "      <td>0.1080</td>\n",
       "      <td>170.771</td>\n",
       "      <td>3</td>\n",
       "      <td>1997</td>\n",
       "      <td>205</td>\n",
       "    </tr>\n",
       "    <tr>\n",
       "      <th>93</th>\n",
       "      <td>She Ain’t Worth It</td>\n",
       "      <td>Glenn Medeiros and Bobby Brown</td>\n",
       "      <td>3:26</td>\n",
       "      <td>4</td>\n",
       "      <td>0.812</td>\n",
       "      <td>0.694</td>\n",
       "      <td>11</td>\n",
       "      <td>-7.903</td>\n",
       "      <td>False</td>\n",
       "      <td>0.0842</td>\n",
       "      <td>0.586000</td>\n",
       "      <td>0.002820</td>\n",
       "      <td>0.0833</td>\n",
       "      <td>0.7300</td>\n",
       "      <td>109.122</td>\n",
       "      <td>3</td>\n",
       "      <td>1990</td>\n",
       "      <td>206</td>\n",
       "    </tr>\n",
       "    <tr>\n",
       "      <th>383</th>\n",
       "      <td>Shoop (#5*)</td>\n",
       "      <td>Salt N’ Pepa</td>\n",
       "      <td>3:56</td>\n",
       "      <td>4</td>\n",
       "      <td>0.938</td>\n",
       "      <td>0.657</td>\n",
       "      <td>0</td>\n",
       "      <td>-7.615</td>\n",
       "      <td>True</td>\n",
       "      <td>0.2360</td>\n",
       "      <td>0.092500</td>\n",
       "      <td>0.000000</td>\n",
       "      <td>0.1180</td>\n",
       "      <td>0.7860</td>\n",
       "      <td>96.930</td>\n",
       "      <td>4</td>\n",
       "      <td>1993</td>\n",
       "      <td>236</td>\n",
       "    </tr>\n",
       "    <tr>\n",
       "      <th>639</th>\n",
       "      <td>Tell Me</td>\n",
       "      <td>Groove Theory</td>\n",
       "      <td>4:15</td>\n",
       "      <td>4</td>\n",
       "      <td>0.553</td>\n",
       "      <td>0.670</td>\n",
       "      <td>4</td>\n",
       "      <td>-12.251</td>\n",
       "      <td>False</td>\n",
       "      <td>0.0329</td>\n",
       "      <td>0.104000</td>\n",
       "      <td>0.160000</td>\n",
       "      <td>0.0648</td>\n",
       "      <td>0.9360</td>\n",
       "      <td>148.260</td>\n",
       "      <td>10</td>\n",
       "      <td>1996</td>\n",
       "      <td>255</td>\n",
       "    </tr>\n",
       "    <tr>\n",
       "      <th>382</th>\n",
       "      <td>Nothin’ My Love Can’t Fix</td>\n",
       "      <td>Joey Lawrence</td>\n",
       "      <td>4:35</td>\n",
       "      <td>4</td>\n",
       "      <td>0.457</td>\n",
       "      <td>0.767</td>\n",
       "      <td>0</td>\n",
       "      <td>-7.318</td>\n",
       "      <td>True</td>\n",
       "      <td>0.0729</td>\n",
       "      <td>0.014500</td>\n",
       "      <td>0.000000</td>\n",
       "      <td>0.9070</td>\n",
       "      <td>0.4530</td>\n",
       "      <td>108.581</td>\n",
       "      <td>10</td>\n",
       "      <td>1993</td>\n",
       "      <td>275</td>\n",
       "    </tr>\n",
       "    <tr>\n",
       "      <th>729</th>\n",
       "      <td>Macarena (BAYSIDE Boys Mix)</td>\n",
       "      <td>Los del Río</td>\n",
       "      <td>3:24</td>\n",
       "      <td>4</td>\n",
       "      <td>0.766</td>\n",
       "      <td>0.740</td>\n",
       "      <td>1</td>\n",
       "      <td>-8.581</td>\n",
       "      <td>True</td>\n",
       "      <td>0.0417</td>\n",
       "      <td>0.018500</td>\n",
       "      <td>0.695000</td>\n",
       "      <td>0.0576</td>\n",
       "      <td>0.9020</td>\n",
       "      <td>112.979</td>\n",
       "      <td>10</td>\n",
       "      <td>1997</td>\n",
       "      <td>204</td>\n",
       "    </tr>\n",
       "    <tr>\n",
       "      <th>92</th>\n",
       "      <td>This One’s For The Children</td>\n",
       "      <td>New Kids on the Block</td>\n",
       "      <td>3:09</td>\n",
       "      <td>4</td>\n",
       "      <td>0.815</td>\n",
       "      <td>0.105</td>\n",
       "      <td>0</td>\n",
       "      <td>-20.005</td>\n",
       "      <td>True</td>\n",
       "      <td>0.2570</td>\n",
       "      <td>0.990000</td>\n",
       "      <td>0.934000</td>\n",
       "      <td>0.1130</td>\n",
       "      <td>0.5430</td>\n",
       "      <td>96.860</td>\n",
       "      <td>11</td>\n",
       "      <td>1990</td>\n",
       "      <td>189</td>\n",
       "    </tr>\n",
       "    <tr>\n",
       "      <th>638</th>\n",
       "      <td>Let’s Make A Night To Remember</td>\n",
       "      <td>Bryan Adams</td>\n",
       "      <td>5:54</td>\n",
       "      <td>4</td>\n",
       "      <td>0.601</td>\n",
       "      <td>0.365</td>\n",
       "      <td>0</td>\n",
       "      <td>-14.312</td>\n",
       "      <td>True</td>\n",
       "      <td>0.0320</td>\n",
       "      <td>0.369000</td>\n",
       "      <td>0.002140</td>\n",
       "      <td>0.0572</td>\n",
       "      <td>0.6670</td>\n",
       "      <td>179.563</td>\n",
       "      <td>11</td>\n",
       "      <td>1996</td>\n",
       "      <td>354</td>\n",
       "    </tr>\n",
       "    <tr>\n",
       "      <th>819</th>\n",
       "      <td>Are U Still Down / They Don’t Know</td>\n",
       "      <td>Jon B.</td>\n",
       "      <td>4:26</td>\n",
       "      <td>4</td>\n",
       "      <td>0.728</td>\n",
       "      <td>0.526</td>\n",
       "      <td>4</td>\n",
       "      <td>-8.672</td>\n",
       "      <td>False</td>\n",
       "      <td>0.0532</td>\n",
       "      <td>0.013900</td>\n",
       "      <td>0.000025</td>\n",
       "      <td>0.2740</td>\n",
       "      <td>0.4290</td>\n",
       "      <td>91.059</td>\n",
       "      <td>14</td>\n",
       "      <td>1998</td>\n",
       "      <td>266</td>\n",
       "    </tr>\n",
       "    <tr>\n",
       "      <th>820</th>\n",
       "      <td>It’s All About Me</td>\n",
       "      <td>Mýa and Sisqo</td>\n",
       "      <td>3:14</td>\n",
       "      <td>4</td>\n",
       "      <td>0.426</td>\n",
       "      <td>0.937</td>\n",
       "      <td>8</td>\n",
       "      <td>-3.259</td>\n",
       "      <td>True</td>\n",
       "      <td>0.1120</td>\n",
       "      <td>0.053400</td>\n",
       "      <td>0.000000</td>\n",
       "      <td>0.1080</td>\n",
       "      <td>0.4940</td>\n",
       "      <td>156.959</td>\n",
       "      <td>14</td>\n",
       "      <td>1998</td>\n",
       "      <td>194</td>\n",
       "    </tr>\n",
       "  </tbody>\n",
       "</table>\n",
       "</div>"
      ]
     },
     "execution_count": 14,
     "metadata": {},
     "output_type": "execute_result"
    }
   ],
   "execution_count": 14
  },
  {
   "metadata": {
    "ExecuteTime": {
     "end_time": "2024-09-29T19:05:58.003191Z",
     "start_time": "2024-09-29T19:05:57.913171Z"
    }
   },
   "cell_type": "code",
   "source": [
    "# Nos quedamos solo con la columna Danceability\n",
    "popularity = covers_dataset[\"Popularity\"]\n",
    "\n",
    "# Creamos el boxplot\n",
    "plt.figure(figsize=(8, 6))\n",
    "sns.boxplot(x=popularity)\n",
    "plt.title(\"Boxplot de Popularity\")\n",
    "plt.xlabel(\"Popularity\")\n",
    "plt.show()"
   ],
   "outputs": [
    {
     "data": {
      "text/plain": [
       "<Figure size 800x600 with 1 Axes>"
      ],
      "image/png": "[encoded data removed]"
     },
     "metadata": {},
     "output_type": "display_data"
    }
   ],
   "execution_count": 15
  },
  {
   "metadata": {},
   "cell_type": "markdown",
   "source": "Podrian eliminarse las canciones con pupularidad cerna a 0, tampco exageremos y borremos todas, pero cancion con una popularidad de 0 no nos inspira muchha confianza."
  },
  {
   "metadata": {},
   "cell_type": "markdown",
   "source": "El box plot confirma una tendencia a valores mas altos de popularidad y tambien detecta algunos outliers. En el histograma se veia una concentracion de canciones con popularidad entre 0 y 5. No son canciones conocidas las que se concentran ahi pero nos resulta un poco raro. La variable en si es rara, no sabemos en base a que fue medida la popularidad de la cancion. Los valores pueden estar condicionados debido a que el dataset esta acotado a covers de los 90s, si los datos fueron recuperados cercanamente a la decada de los noventa por ejemplo los 2000s las personas escucharian estos covers mas que si nos alejaramos de los 90s y a medida que saldrian nuevas canciones y covers los valores se verian disminuidos  .Quizas recolectaron datos de otra aplicacion o de alguna plataforma de musica. Tampcoo sabemos que usaron de parametro para medirla, si las escuchas mensuales, discos vendidos, me gustas etc."
  },
  {
   "cell_type": "markdown",
   "metadata": {},
   "source": [
    "### Analisis de ```Danceability```"
   ]
  },
  {
   "cell_type": "markdown",
   "metadata": {},
   "source": [
    "Con el método ```value_counts()``` no se vió nada extraño. Por lo tanto, vamos a hacer un boxplot para ver mas en detalle la distribución de la variable."
   ]
  },
  {
   "cell_type": "code",
   "execution_count": 99,
   "metadata": {
    "ExecuteTime": {
     "end_time": "2024-09-27T17:38:55.370153Z",
     "start_time": "2024-09-27T17:38:55.275068Z"
    }
   },
   "outputs": [
    {
     "data": {
      "image/png": "[encoded data removed]",
      "text/plain": [
       "<Figure size 800x600 with 1 Axes>"
      ]
     },
     "metadata": {},
     "output_type": "display_data"
    }
   ],
   "source": [
    "# Nos quedamos solo con la columna Danceability\n",
    "danceability = covers_dataset[\"Danceability\"]\n",
    "\n",
    "# Creamos el boxplot\n",
    "plt.figure(figsize=(8, 6))\n",
    "sns.boxplot(x=danceability)\n",
    "plt.title(\"Boxplot de Danceability\")\n",
    "plt.xlabel(\"Danceability\")\n",
    "plt.show()"
   ]
  },
  {
   "cell_type": "code",
   "execution_count": 100,
   "metadata": {
    "ExecuteTime": {
     "end_time": "2024-09-27T17:38:55.416679Z",
     "start_time": "2024-09-27T17:38:55.406692Z"
    }
   },
   "outputs": [
    {
     "data": {
      "text/html": [
       "<div>\n",
       "<style scoped>\n",
       "    .dataframe tbody tr th:only-of-type {\n",
       "        vertical-align: middle;\n",
       "    }\n",
       "\n",
       "    .dataframe tbody tr th {\n",
       "        vertical-align: top;\n",
       "    }\n",
       "\n",
       "    .dataframe thead th {\n",
       "        text-align: right;\n",
       "    }\n",
       "</style>\n",
       "<table border=\"1\" class=\"dataframe\">\n",
       "  <thead>\n",
       "    <tr style=\"text-align: right;\">\n",
       "      <th></th>\n",
       "      <th>Track</th>\n",
       "      <th>Artist</th>\n",
       "      <th>Duration</th>\n",
       "      <th>Time_Signature</th>\n",
       "      <th>Danceability</th>\n",
       "      <th>Energy</th>\n",
       "      <th>Key</th>\n",
       "      <th>Loudness</th>\n",
       "      <th>Mode</th>\n",
       "      <th>Speechiness</th>\n",
       "      <th>Acousticness</th>\n",
       "      <th>Instrumentalness</th>\n",
       "      <th>Liveness</th>\n",
       "      <th>Valence</th>\n",
       "      <th>Tempo</th>\n",
       "      <th>Popularity</th>\n",
       "      <th>Year</th>\n",
       "      <th>DURATION(s)</th>\n",
       "    </tr>\n",
       "  </thead>\n",
       "  <tbody>\n",
       "    <tr>\n",
       "      <th>323</th>\n",
       "      <td>Connected</td>\n",
       "      <td>Stereo MC’s</td>\n",
       "      <td>3:16</td>\n",
       "      <td>4</td>\n",
       "      <td>0.135</td>\n",
       "      <td>0.00134</td>\n",
       "      <td>2</td>\n",
       "      <td>-42.95</td>\n",
       "      <td>Escala Mayor</td>\n",
       "      <td>0.0496</td>\n",
       "      <td>0.969</td>\n",
       "      <td>0.972</td>\n",
       "      <td>0.0884</td>\n",
       "      <td>0.0372</td>\n",
       "      <td>141.488</td>\n",
       "      <td>66</td>\n",
       "      <td>1993</td>\n",
       "      <td>196</td>\n",
       "    </tr>\n",
       "  </tbody>\n",
       "</table>\n",
       "</div>"
      ],
      "text/plain": [
       "         Track       Artist Duration  Time_Signature  Danceability   Energy  \\\n",
       "323  Connected  Stereo MC’s     3:16               4         0.135  0.00134   \n",
       "\n",
       "     Key  Loudness          Mode  Speechiness  Acousticness  Instrumentalness  \\\n",
       "323    2    -42.95  Escala Mayor       0.0496         0.969             0.972   \n",
       "\n",
       "     Liveness  Valence    Tempo  Popularity  Year  DURATION(s)  \n",
       "323    0.0884   0.0372  141.488          66  1993          196  "
      ]
     },
     "execution_count": 100,
     "metadata": {},
     "output_type": "execute_result"
    }
   ],
   "source": [
    "min = copy_covers_ds[\"Danceability\"].min()\n",
    "copy_covers_ds[copy_covers_ds[\"Danceability\"] == min]"
   ]
  },
  {
   "cell_type": "markdown",
   "metadata": {},
   "source": [
    "Parece que hay unos valores del lado izquierdo, podrian ser posibles outliers. "
   ]
  },
  {
   "cell_type": "markdown",
   "metadata": {},
   "source": [
    "Podemos observar esta distribución de una forma más clara mediante un histograma"
   ]
  },
  {
   "cell_type": "code",
   "execution_count": 101,
   "metadata": {
    "ExecuteTime": {
     "end_time": "2024-09-27T17:38:55.702801Z",
     "start_time": "2024-09-27T17:38:55.579325Z"
    }
   },
   "outputs": [
    {
     "data": {
      "image/png": "[encoded data removed]",
      "text/plain": [
       "<Figure size 640x480 with 1 Axes>"
      ]
     },
     "metadata": {},
     "output_type": "display_data"
    }
   ],
   "source": [
    "bins = 40\n",
    "\n",
    "plt.hist(copy_covers_ds['Danceability'], bins = bins)\n",
    "\n",
    "plt.xlabel('Danceability')\n",
    "plt.ylabel('Cantidad de canciones')\n",
    "plt.title('Histograma de la bailabilidad')\n",
    "plt.show()"
   ]
  },
  {
   "metadata": {
    "ExecuteTime": {
     "end_time": "2024-09-27T23:15:50.748891Z",
     "start_time": "2024-09-27T23:15:50.590859Z"
    }
   },
   "cell_type": "code",
   "source": [
    "#Vamos a mirar quiénes son las canciones que son poco bailables\n",
    "poco_bailables = copy_covers_ds[copy_covers_ds[\"Danceability\"] < 0.2]\n",
    "poco_bailables"
   ],
   "outputs": [
    {
     "data": {
      "text/plain": [
       "          Track                              Artist Duration  Time_Signature  \\\n",
       "53   Release Me                     Wilson Phillips     2:49               1   \n",
       "323   Connected                         Stereo MC’s     3:16               4   \n",
       "336     Dre Day  Dr. Dre featuring Snoop Doggy Dogg     1:55               4   \n",
       "394      Always                            Bon Jovi     3:43               4   \n",
       "395      Always                             Erasure     3:43               4   \n",
       "544  Ask Of You                      Raphael Saadiq     4:54               3   \n",
       "762      Frozen                             Madonna     2:41               4   \n",
       "\n",
       "     Danceability   Energy  Key  Loudness  Mode  Speechiness  Acousticness  \\\n",
       "53          0.152  0.00504    0   -34.183     1       0.0432       0.95300   \n",
       "323         0.135  0.00134    2   -42.950     1       0.0496       0.96900   \n",
       "336         0.188  0.84700    8    -3.268     1       0.0340       0.07680   \n",
       "394         0.174  0.74200    8    -5.930     1       0.0485       0.00181   \n",
       "395         0.174  0.74200    8    -5.930     1       0.0485       0.00181   \n",
       "544         0.194  0.11900    1   -20.926     1       0.0398       0.85400   \n",
       "762         0.179  0.00580    0   -37.260     1       0.0481       0.92400   \n",
       "\n",
       "     Instrumentalness  Liveness  Valence    Tempo  Popularity  Year  \n",
       "53           0.928000    0.1020   0.0303  136.702          57  1990  \n",
       "323          0.972000    0.0884   0.0372  141.488          66  1993  \n",
       "336          0.320000    0.1210   0.3890   88.494          61  1993  \n",
       "394          0.281000    0.1980   0.3600  163.378          78  1994  \n",
       "395          0.281000    0.1980   0.3600  163.378          78  1994  \n",
       "544          0.000737    0.1090   0.1400   85.698          52  1995  \n",
       "762          0.929000    0.1060   0.0314   72.177          67  1998  "
      ],
      "text/html": [
       "<div>\n",
       "<style scoped>\n",
       "    .dataframe tbody tr th:only-of-type {\n",
       "        vertical-align: middle;\n",
       "    }\n",
       "\n",
       "    .dataframe tbody tr th {\n",
       "        vertical-align: top;\n",
       "    }\n",
       "\n",
       "    .dataframe thead th {\n",
       "        text-align: right;\n",
       "    }\n",
       "</style>\n",
       "<table border=\"1\" class=\"dataframe\">\n",
       "  <thead>\n",
       "    <tr style=\"text-align: right;\">\n",
       "      <th></th>\n",
       "      <th>Track</th>\n",
       "      <th>Artist</th>\n",
       "      <th>Duration</th>\n",
       "      <th>Time_Signature</th>\n",
       "      <th>Danceability</th>\n",
       "      <th>Energy</th>\n",
       "      <th>Key</th>\n",
       "      <th>Loudness</th>\n",
       "      <th>Mode</th>\n",
       "      <th>Speechiness</th>\n",
       "      <th>Acousticness</th>\n",
       "      <th>Instrumentalness</th>\n",
       "      <th>Liveness</th>\n",
       "      <th>Valence</th>\n",
       "      <th>Tempo</th>\n",
       "      <th>Popularity</th>\n",
       "      <th>Year</th>\n",
       "    </tr>\n",
       "  </thead>\n",
       "  <tbody>\n",
       "    <tr>\n",
       "      <th>53</th>\n",
       "      <td>Release Me</td>\n",
       "      <td>Wilson Phillips</td>\n",
       "      <td>2:49</td>\n",
       "      <td>1</td>\n",
       "      <td>0.152</td>\n",
       "      <td>0.00504</td>\n",
       "      <td>0</td>\n",
       "      <td>-34.183</td>\n",
       "      <td>1</td>\n",
       "      <td>0.0432</td>\n",
       "      <td>0.95300</td>\n",
       "      <td>0.928000</td>\n",
       "      <td>0.1020</td>\n",
       "      <td>0.0303</td>\n",
       "      <td>136.702</td>\n",
       "      <td>57</td>\n",
       "      <td>1990</td>\n",
       "    </tr>\n",
       "    <tr>\n",
       "      <th>323</th>\n",
       "      <td>Connected</td>\n",
       "      <td>Stereo MC’s</td>\n",
       "      <td>3:16</td>\n",
       "      <td>4</td>\n",
       "      <td>0.135</td>\n",
       "      <td>0.00134</td>\n",
       "      <td>2</td>\n",
       "      <td>-42.950</td>\n",
       "      <td>1</td>\n",
       "      <td>0.0496</td>\n",
       "      <td>0.96900</td>\n",
       "      <td>0.972000</td>\n",
       "      <td>0.0884</td>\n",
       "      <td>0.0372</td>\n",
       "      <td>141.488</td>\n",
       "      <td>66</td>\n",
       "      <td>1993</td>\n",
       "    </tr>\n",
       "    <tr>\n",
       "      <th>336</th>\n",
       "      <td>Dre Day</td>\n",
       "      <td>Dr. Dre featuring Snoop Doggy Dogg</td>\n",
       "      <td>1:55</td>\n",
       "      <td>4</td>\n",
       "      <td>0.188</td>\n",
       "      <td>0.84700</td>\n",
       "      <td>8</td>\n",
       "      <td>-3.268</td>\n",
       "      <td>1</td>\n",
       "      <td>0.0340</td>\n",
       "      <td>0.07680</td>\n",
       "      <td>0.320000</td>\n",
       "      <td>0.1210</td>\n",
       "      <td>0.3890</td>\n",
       "      <td>88.494</td>\n",
       "      <td>61</td>\n",
       "      <td>1993</td>\n",
       "    </tr>\n",
       "    <tr>\n",
       "      <th>394</th>\n",
       "      <td>Always</td>\n",
       "      <td>Bon Jovi</td>\n",
       "      <td>3:43</td>\n",
       "      <td>4</td>\n",
       "      <td>0.174</td>\n",
       "      <td>0.74200</td>\n",
       "      <td>8</td>\n",
       "      <td>-5.930</td>\n",
       "      <td>1</td>\n",
       "      <td>0.0485</td>\n",
       "      <td>0.00181</td>\n",
       "      <td>0.281000</td>\n",
       "      <td>0.1980</td>\n",
       "      <td>0.3600</td>\n",
       "      <td>163.378</td>\n",
       "      <td>78</td>\n",
       "      <td>1994</td>\n",
       "    </tr>\n",
       "    <tr>\n",
       "      <th>395</th>\n",
       "      <td>Always</td>\n",
       "      <td>Erasure</td>\n",
       "      <td>3:43</td>\n",
       "      <td>4</td>\n",
       "      <td>0.174</td>\n",
       "      <td>0.74200</td>\n",
       "      <td>8</td>\n",
       "      <td>-5.930</td>\n",
       "      <td>1</td>\n",
       "      <td>0.0485</td>\n",
       "      <td>0.00181</td>\n",
       "      <td>0.281000</td>\n",
       "      <td>0.1980</td>\n",
       "      <td>0.3600</td>\n",
       "      <td>163.378</td>\n",
       "      <td>78</td>\n",
       "      <td>1994</td>\n",
       "    </tr>\n",
       "    <tr>\n",
       "      <th>544</th>\n",
       "      <td>Ask Of You</td>\n",
       "      <td>Raphael Saadiq</td>\n",
       "      <td>4:54</td>\n",
       "      <td>3</td>\n",
       "      <td>0.194</td>\n",
       "      <td>0.11900</td>\n",
       "      <td>1</td>\n",
       "      <td>-20.926</td>\n",
       "      <td>1</td>\n",
       "      <td>0.0398</td>\n",
       "      <td>0.85400</td>\n",
       "      <td>0.000737</td>\n",
       "      <td>0.1090</td>\n",
       "      <td>0.1400</td>\n",
       "      <td>85.698</td>\n",
       "      <td>52</td>\n",
       "      <td>1995</td>\n",
       "    </tr>\n",
       "    <tr>\n",
       "      <th>762</th>\n",
       "      <td>Frozen</td>\n",
       "      <td>Madonna</td>\n",
       "      <td>2:41</td>\n",
       "      <td>4</td>\n",
       "      <td>0.179</td>\n",
       "      <td>0.00580</td>\n",
       "      <td>0</td>\n",
       "      <td>-37.260</td>\n",
       "      <td>1</td>\n",
       "      <td>0.0481</td>\n",
       "      <td>0.92400</td>\n",
       "      <td>0.929000</td>\n",
       "      <td>0.1060</td>\n",
       "      <td>0.0314</td>\n",
       "      <td>72.177</td>\n",
       "      <td>67</td>\n",
       "      <td>1998</td>\n",
       "    </tr>\n",
       "  </tbody>\n",
       "</table>\n",
       "</div>"
      ]
     },
     "execution_count": 8,
     "metadata": {},
     "output_type": "execute_result"
    }
   ],
   "execution_count": 8
  },
  {
   "cell_type": "markdown",
   "metadata": {},
   "source": [
    "Podemos ver que, por ejemplo, \"Frozen\" de Madonna es una canción poco bailable. En particular, 3 de las 7 canciones menos bailables son también poco enérgicas, por lo que valdría la pena en un futuro análisis corroborar si existe una correlación fuerte entre ```Danceability``` y ```Energy```"
   ]
  },
  {
   "cell_type": "markdown",
   "metadata": {},
   "source": [
    "### Analisis de ```Duration```"
   ]
  },
  {
   "cell_type": "code",
   "execution_count": 102,
   "metadata": {
    "ExecuteTime": {
     "end_time": "2024-09-27T17:38:55.906194Z",
     "start_time": "2024-09-27T17:38:55.785973Z"
    }
   },
   "outputs": [
    {
     "data": {
      "image/png": "[encoded data removed]",
      "text/plain": [
       "<Figure size 640x480 with 1 Axes>"
      ]
     },
     "metadata": {},
     "output_type": "display_data"
    }
   ],
   "source": [
    "bins = 40\n",
    "\n",
    "plt.hist(copy_covers_ds['DURATION(s)'], bins = bins)\n",
    "\n",
    "plt.xlabel('Duración (s)')\n",
    "plt.ylabel('Cantidad de canciones')\n",
    "plt.title('Histograma de duración de las canciones')\n",
    "plt.xticks(range(0, 450, 50))\n",
    "plt.show()"
   ]
  },
  {
   "cell_type": "markdown",
   "metadata": {},
   "source": [
    "Se puede ver que la mayoría de las canciones duran entre 150 y 300 segundos(2:30 y 5:00 minutos). Hay algunos outliers que superan los 500 segundos(8:33 minutos) y hay que corroborrar que sean correctos"
   ]
  },
  {
   "cell_type": "code",
   "execution_count": 103,
   "metadata": {
    "ExecuteTime": {
     "end_time": "2024-09-27T17:38:55.925642Z",
     "start_time": "2024-09-27T17:38:55.915194Z"
    }
   },
   "outputs": [
    {
     "data": {
      "text/html": [
       "<div>\n",
       "<style scoped>\n",
       "    .dataframe tbody tr th:only-of-type {\n",
       "        vertical-align: middle;\n",
       "    }\n",
       "\n",
       "    .dataframe tbody tr th {\n",
       "        vertical-align: top;\n",
       "    }\n",
       "\n",
       "    .dataframe thead th {\n",
       "        text-align: right;\n",
       "    }\n",
       "</style>\n",
       "<table border=\"1\" class=\"dataframe\">\n",
       "  <thead>\n",
       "    <tr style=\"text-align: right;\">\n",
       "      <th></th>\n",
       "      <th>Track</th>\n",
       "      <th>Artist</th>\n",
       "      <th>Duration</th>\n",
       "      <th>Time_Signature</th>\n",
       "      <th>Danceability</th>\n",
       "      <th>Energy</th>\n",
       "      <th>Key</th>\n",
       "      <th>Loudness</th>\n",
       "      <th>Mode</th>\n",
       "      <th>Speechiness</th>\n",
       "      <th>Acousticness</th>\n",
       "      <th>Instrumentalness</th>\n",
       "      <th>Liveness</th>\n",
       "      <th>Valence</th>\n",
       "      <th>Tempo</th>\n",
       "      <th>Popularity</th>\n",
       "      <th>Year</th>\n",
       "      <th>DURATION(s)</th>\n",
       "    </tr>\n",
       "  </thead>\n",
       "  <tbody>\n",
       "    <tr>\n",
       "      <th>699</th>\n",
       "      <td>Feels So Good</td>\n",
       "      <td>Mase</td>\n",
       "      <td>9:42</td>\n",
       "      <td>4</td>\n",
       "      <td>0.576</td>\n",
       "      <td>0.603</td>\n",
       "      <td>5</td>\n",
       "      <td>-9.603</td>\n",
       "      <td>True</td>\n",
       "      <td>0.0329</td>\n",
       "      <td>0.455</td>\n",
       "      <td>0.0537</td>\n",
       "      <td>0.0406</td>\n",
       "      <td>0.524</td>\n",
       "      <td>103.658</td>\n",
       "      <td>51</td>\n",
       "      <td>1997</td>\n",
       "      <td>582</td>\n",
       "    </tr>\n",
       "  </tbody>\n",
       "</table>\n",
       "</div>"
      ],
      "text/plain": [
       "             Track Artist Duration  Time_Signature  Danceability  Energy  Key  \\\n",
       "699  Feels So Good   Mase     9:42               4         0.576   0.603    5   \n",
       "\n",
       "     Loudness  Mode  Speechiness  Acousticness  Instrumentalness  Liveness  \\\n",
       "699    -9.603  True       0.0329         0.455            0.0537    0.0406   \n",
       "\n",
       "     Valence    Tempo  Popularity  Year  DURATION(s)  \n",
       "699    0.524  103.658          51  1997          582  "
      ]
     },
     "execution_count": 103,
     "metadata": {},
     "output_type": "execute_result"
    }
   ],
   "source": [
    "max = copy_covers_ds[\"DURATION(s)\"].max()\n",
    "copy_covers_ds[copy_covers_ds[\"DURATION(s)\"] == max]"
   ]
  },
  {
   "cell_type": "markdown",
   "metadata": {},
   "source": [
    "Corroboramos en internet que la canción dura 3:29 minutos, paro no meter mano en los datos podemos simplemente borrar estos tres outliers para que no molesten."
   ]
  },
  {
   "cell_type": "code",
   "execution_count": 104,
   "metadata": {
    "ExecuteTime": {
     "end_time": "2024-09-27T17:38:55.979783Z",
     "start_time": "2024-09-27T17:38:55.969775Z"
    }
   },
   "outputs": [
    {
     "data": {
      "text/html": [
       "<div>\n",
       "<style scoped>\n",
       "    .dataframe tbody tr th:only-of-type {\n",
       "        vertical-align: middle;\n",
       "    }\n",
       "\n",
       "    .dataframe tbody tr th {\n",
       "        vertical-align: top;\n",
       "    }\n",
       "\n",
       "    .dataframe thead th {\n",
       "        text-align: right;\n",
       "    }\n",
       "</style>\n",
       "<table border=\"1\" class=\"dataframe\">\n",
       "  <thead>\n",
       "    <tr style=\"text-align: right;\">\n",
       "      <th></th>\n",
       "      <th>Track</th>\n",
       "      <th>Artist</th>\n",
       "      <th>Duration</th>\n",
       "      <th>Time_Signature</th>\n",
       "      <th>Danceability</th>\n",
       "      <th>Energy</th>\n",
       "      <th>Key</th>\n",
       "      <th>Loudness</th>\n",
       "      <th>Mode</th>\n",
       "      <th>Speechiness</th>\n",
       "      <th>Acousticness</th>\n",
       "      <th>Instrumentalness</th>\n",
       "      <th>Liveness</th>\n",
       "      <th>Valence</th>\n",
       "      <th>Tempo</th>\n",
       "      <th>Popularity</th>\n",
       "      <th>Year</th>\n",
       "      <th>DURATION(s)</th>\n",
       "    </tr>\n",
       "  </thead>\n",
       "  <tbody>\n",
       "    <tr>\n",
       "      <th>204</th>\n",
       "      <td>November Rain</td>\n",
       "      <td>Guns N’ Roses</td>\n",
       "      <td>8:56</td>\n",
       "      <td>4</td>\n",
       "      <td>0.294</td>\n",
       "      <td>0.640</td>\n",
       "      <td>11</td>\n",
       "      <td>-9.316</td>\n",
       "      <td>Escala Mayor</td>\n",
       "      <td>0.0291</td>\n",
       "      <td>0.016</td>\n",
       "      <td>0.22000</td>\n",
       "      <td>0.1120</td>\n",
       "      <td>0.226</td>\n",
       "      <td>79.790</td>\n",
       "      <td>78</td>\n",
       "      <td>1992</td>\n",
       "      <td>536</td>\n",
       "    </tr>\n",
       "    <tr>\n",
       "      <th>485</th>\n",
       "      <td>Runaway</td>\n",
       "      <td>Janet Jackson</td>\n",
       "      <td>9:07</td>\n",
       "      <td>4</td>\n",
       "      <td>0.374</td>\n",
       "      <td>0.568</td>\n",
       "      <td>1</td>\n",
       "      <td>-3.825</td>\n",
       "      <td>Escala Menor</td>\n",
       "      <td>0.1090</td>\n",
       "      <td>0.219</td>\n",
       "      <td>0.00219</td>\n",
       "      <td>0.5130</td>\n",
       "      <td>0.111</td>\n",
       "      <td>84.733</td>\n",
       "      <td>80</td>\n",
       "      <td>1995</td>\n",
       "      <td>547</td>\n",
       "    </tr>\n",
       "    <tr>\n",
       "      <th>699</th>\n",
       "      <td>Feels So Good</td>\n",
       "      <td>Mase</td>\n",
       "      <td>9:42</td>\n",
       "      <td>4</td>\n",
       "      <td>0.576</td>\n",
       "      <td>0.603</td>\n",
       "      <td>5</td>\n",
       "      <td>-9.603</td>\n",
       "      <td>Escala Mayor</td>\n",
       "      <td>0.0329</td>\n",
       "      <td>0.455</td>\n",
       "      <td>0.05370</td>\n",
       "      <td>0.0406</td>\n",
       "      <td>0.524</td>\n",
       "      <td>103.658</td>\n",
       "      <td>51</td>\n",
       "      <td>1997</td>\n",
       "      <td>582</td>\n",
       "    </tr>\n",
       "  </tbody>\n",
       "</table>\n",
       "</div>"
      ],
      "text/plain": [
       "             Track         Artist Duration  Time_Signature  Danceability  \\\n",
       "204  November Rain  Guns N’ Roses     8:56               4         0.294   \n",
       "485        Runaway  Janet Jackson     9:07               4         0.374   \n",
       "699  Feels So Good           Mase     9:42               4         0.576   \n",
       "\n",
       "     Energy  Key  Loudness          Mode  Speechiness  Acousticness  \\\n",
       "204   0.640   11    -9.316  Escala Mayor       0.0291         0.016   \n",
       "485   0.568    1    -3.825  Escala Menor       0.1090         0.219   \n",
       "699   0.603    5    -9.603  Escala Mayor       0.0329         0.455   \n",
       "\n",
       "     Instrumentalness  Liveness  Valence    Tempo  Popularity  Year  \\\n",
       "204           0.22000    0.1120    0.226   79.790          78  1992   \n",
       "485           0.00219    0.5130    0.111   84.733          80  1995   \n",
       "699           0.05370    0.0406    0.524  103.658          51  1997   \n",
       "\n",
       "     DURATION(s)  \n",
       "204          536  \n",
       "485          547  \n",
       "699          582  "
      ]
     },
     "execution_count": 104,
     "metadata": {},
     "output_type": "execute_result"
    }
   ],
   "source": [
    "copy_covers_ds[copy_covers_ds['DURATION(s)'] > 500]"
   ]
  },
  {
   "cell_type": "markdown",
   "metadata": {},
   "source": [
    "La segunda canción más larga es \"November Rain\" de Guns 'n Roses y su duración concuerda con el dataset"
   ]
  },
  {
   "cell_type": "markdown",
   "metadata": {},
   "source": [
    "Podemos tomar como medida eliminar estos tres outliers que nos estan afectando la distribucion en la curva."
   ]
  },
  {
   "cell_type": "code",
   "execution_count": 105,
   "metadata": {
    "ExecuteTime": {
     "end_time": "2024-09-27T17:38:56.022341Z",
     "start_time": "2024-09-27T17:38:56.019084Z"
    }
   },
   "outputs": [],
   "source": [
    "copy_covers_ds = copy_covers_ds[copy_covers_ds['DURATION(s)'] < 500]"
   ]
  },
  {
   "cell_type": "code",
   "execution_count": 106,
   "metadata": {
    "ExecuteTime": {
     "end_time": "2024-09-27T17:38:56.291086Z",
     "start_time": "2024-09-27T17:38:56.157964Z"
    }
   },
   "outputs": [
    {
     "data": {
      "image/png": "[encoded data removed]",
      "text/plain": [
       "<Figure size 640x480 with 1 Axes>"
      ]
     },
     "metadata": {},
     "output_type": "display_data"
    }
   ],
   "source": [
    "bins = 40\n",
    "\n",
    "plt.hist(copy_covers_ds['DURATION(s)'], bins = bins)\n",
    "\n",
    "plt.xlabel('Duración (s)')\n",
    "plt.ylabel('Cantidad de canciones')\n",
    "plt.title('Histograma de duración de las canciones')\n",
    "plt.xticks(range(0, 450, 50))\n",
    "plt.show()"
   ]
  },
  {
   "cell_type": "markdown",
   "metadata": {},
   "source": [
    "Ahora si ;)"
   ]
  },
  {
   "cell_type": "markdown",
   "metadata": {},
   "source": "### Analisis de ```Loudness```"
  },
  {
   "cell_type": "code",
   "execution_count": 90,
   "metadata": {
    "ExecuteTime": {
     "end_time": "2024-09-27T19:53:09.001512Z",
     "start_time": "2024-09-27T19:53:08.887674Z"
    }
   },
   "outputs": [
    {
     "data": {
      "image/png": "[encoded data removed]",
      "text/plain": [
       "<Figure size 640x480 with 1 Axes>"
      ]
     },
     "metadata": {},
     "output_type": "display_data"
    }
   ],
   "source": [
    "bins = 10\n",
    "\n",
    "plt.hist(copy_covers_ds['Loudness'], bins = bins)\n",
    "\n",
    "plt.xlabel('Loudness')\n",
    "plt.ylabel('Cantidad de canciones')\n",
    "plt.title('Histograma de loudness')\n",
    "plt.xticks(range(-50, 5, 5))\n",
    "plt.show()"
   ]
  },
  {
   "cell_type": "markdown",
   "metadata": {},
   "source": [
    "Podemos ver que hay algunos valores que son minoria abajo de -20db, veamos quienes son."
   ]
  },
  {
   "cell_type": "code",
   "execution_count": 91,
   "metadata": {
    "ExecuteTime": {
     "end_time": "2024-09-27T19:54:34.020848Z",
     "start_time": "2024-09-27T19:54:34.007836Z"
    }
   },
   "outputs": [
    {
     "data": {
      "text/html": [
       "<div>\n",
       "<style scoped>\n",
       "    .dataframe tbody tr th:only-of-type {\n",
       "        vertical-align: middle;\n",
       "    }\n",
       "\n",
       "    .dataframe tbody tr th {\n",
       "        vertical-align: top;\n",
       "    }\n",
       "\n",
       "    .dataframe thead th {\n",
       "        text-align: right;\n",
       "    }\n",
       "</style>\n",
       "<table border=\"1\" class=\"dataframe\">\n",
       "  <thead>\n",
       "    <tr style=\"text-align: right;\">\n",
       "      <th></th>\n",
       "      <th>Track</th>\n",
       "      <th>Artist</th>\n",
       "      <th>Duration</th>\n",
       "      <th>Time_Signature</th>\n",
       "      <th>Danceability</th>\n",
       "      <th>Energy</th>\n",
       "      <th>Key</th>\n",
       "      <th>Loudness</th>\n",
       "      <th>Mode</th>\n",
       "      <th>Speechiness</th>\n",
       "      <th>Acousticness</th>\n",
       "      <th>Instrumentalness</th>\n",
       "      <th>Liveness</th>\n",
       "      <th>Valence</th>\n",
       "      <th>Tempo</th>\n",
       "      <th>Popularity</th>\n",
       "      <th>Year</th>\n",
       "      <th>DURATION(s)</th>\n",
       "      <th>Instrumentalness Type</th>\n",
       "    </tr>\n",
       "  </thead>\n",
       "  <tbody>\n",
       "    <tr>\n",
       "      <th>53</th>\n",
       "      <td>Release Me</td>\n",
       "      <td>Wilson Phillips</td>\n",
       "      <td>2:49</td>\n",
       "      <td>1</td>\n",
       "      <td>0.152</td>\n",
       "      <td>0.00504</td>\n",
       "      <td>0</td>\n",
       "      <td>-34.183</td>\n",
       "      <td>Escala Mayor</td>\n",
       "      <td>0.0432</td>\n",
       "      <td>0.953</td>\n",
       "      <td>0.928000</td>\n",
       "      <td>0.1020</td>\n",
       "      <td>0.03030</td>\n",
       "      <td>136.702</td>\n",
       "      <td>57</td>\n",
       "      <td>1990</td>\n",
       "      <td>169</td>\n",
       "      <td>alta</td>\n",
       "    </tr>\n",
       "    <tr>\n",
       "      <th>92</th>\n",
       "      <td>This One’s For The Children</td>\n",
       "      <td>New Kids on the Block</td>\n",
       "      <td>3:09</td>\n",
       "      <td>4</td>\n",
       "      <td>0.815</td>\n",
       "      <td>0.10500</td>\n",
       "      <td>0</td>\n",
       "      <td>-20.005</td>\n",
       "      <td>Escala Mayor</td>\n",
       "      <td>0.2570</td>\n",
       "      <td>0.990</td>\n",
       "      <td>0.934000</td>\n",
       "      <td>0.1130</td>\n",
       "      <td>0.54300</td>\n",
       "      <td>96.860</td>\n",
       "      <td>11</td>\n",
       "      <td>1990</td>\n",
       "      <td>189</td>\n",
       "      <td>alta</td>\n",
       "    </tr>\n",
       "    <tr>\n",
       "      <th>226</th>\n",
       "      <td>When A Man Loves A Woman</td>\n",
       "      <td>Michael Bolton</td>\n",
       "      <td>2:53</td>\n",
       "      <td>3</td>\n",
       "      <td>0.516</td>\n",
       "      <td>0.15000</td>\n",
       "      <td>1</td>\n",
       "      <td>-20.410</td>\n",
       "      <td>Escala Mayor</td>\n",
       "      <td>0.0272</td>\n",
       "      <td>0.130</td>\n",
       "      <td>0.075500</td>\n",
       "      <td>0.1220</td>\n",
       "      <td>0.20500</td>\n",
       "      <td>97.398</td>\n",
       "      <td>66</td>\n",
       "      <td>1992</td>\n",
       "      <td>173</td>\n",
       "      <td>baja</td>\n",
       "    </tr>\n",
       "    <tr>\n",
       "      <th>235</th>\n",
       "      <td>Beauty And The Beast</td>\n",
       "      <td>Celine Dion and Peabo Bryson</td>\n",
       "      <td>2:47</td>\n",
       "      <td>4</td>\n",
       "      <td>0.432</td>\n",
       "      <td>0.08770</td>\n",
       "      <td>8</td>\n",
       "      <td>-27.006</td>\n",
       "      <td>Escala Mayor</td>\n",
       "      <td>0.0680</td>\n",
       "      <td>0.995</td>\n",
       "      <td>0.922000</td>\n",
       "      <td>0.1170</td>\n",
       "      <td>0.14900</td>\n",
       "      <td>79.203</td>\n",
       "      <td>60</td>\n",
       "      <td>1992</td>\n",
       "      <td>167</td>\n",
       "      <td>alta</td>\n",
       "    </tr>\n",
       "    <tr>\n",
       "      <th>266</th>\n",
       "      <td>Thinkin’ Back</td>\n",
       "      <td>Color Me Badd</td>\n",
       "      <td>2:04</td>\n",
       "      <td>4</td>\n",
       "      <td>0.648</td>\n",
       "      <td>0.04060</td>\n",
       "      <td>9</td>\n",
       "      <td>-22.391</td>\n",
       "      <td>Escala Mayor</td>\n",
       "      <td>0.0459</td>\n",
       "      <td>0.983</td>\n",
       "      <td>0.931000</td>\n",
       "      <td>0.1030</td>\n",
       "      <td>0.67200</td>\n",
       "      <td>77.071</td>\n",
       "      <td>49</td>\n",
       "      <td>1992</td>\n",
       "      <td>124</td>\n",
       "      <td>alta</td>\n",
       "    </tr>\n",
       "    <tr>\n",
       "      <th>295</th>\n",
       "      <td>Rain</td>\n",
       "      <td>Madonna</td>\n",
       "      <td>2:11</td>\n",
       "      <td>5</td>\n",
       "      <td>0.231</td>\n",
       "      <td>0.97600</td>\n",
       "      <td>10</td>\n",
       "      <td>-27.426</td>\n",
       "      <td>Escala Menor</td>\n",
       "      <td>0.0487</td>\n",
       "      <td>0.152</td>\n",
       "      <td>0.987000</td>\n",
       "      <td>0.4800</td>\n",
       "      <td>0.00672</td>\n",
       "      <td>96.552</td>\n",
       "      <td>81</td>\n",
       "      <td>1993</td>\n",
       "      <td>131</td>\n",
       "      <td>alta</td>\n",
       "    </tr>\n",
       "    <tr>\n",
       "      <th>323</th>\n",
       "      <td>Connected</td>\n",
       "      <td>Stereo MC’s</td>\n",
       "      <td>3:16</td>\n",
       "      <td>4</td>\n",
       "      <td>0.135</td>\n",
       "      <td>0.00134</td>\n",
       "      <td>2</td>\n",
       "      <td>-42.950</td>\n",
       "      <td>Escala Mayor</td>\n",
       "      <td>0.0496</td>\n",
       "      <td>0.969</td>\n",
       "      <td>0.972000</td>\n",
       "      <td>0.0884</td>\n",
       "      <td>0.03720</td>\n",
       "      <td>141.488</td>\n",
       "      <td>66</td>\n",
       "      <td>1993</td>\n",
       "      <td>196</td>\n",
       "      <td>alta</td>\n",
       "    </tr>\n",
       "    <tr>\n",
       "      <th>544</th>\n",
       "      <td>Ask Of You</td>\n",
       "      <td>Raphael Saadiq</td>\n",
       "      <td>4:54</td>\n",
       "      <td>3</td>\n",
       "      <td>0.194</td>\n",
       "      <td>0.11900</td>\n",
       "      <td>1</td>\n",
       "      <td>-20.926</td>\n",
       "      <td>Escala Mayor</td>\n",
       "      <td>0.0398</td>\n",
       "      <td>0.854</td>\n",
       "      <td>0.000737</td>\n",
       "      <td>0.1090</td>\n",
       "      <td>0.14000</td>\n",
       "      <td>85.698</td>\n",
       "      <td>52</td>\n",
       "      <td>1995</td>\n",
       "      <td>294</td>\n",
       "      <td>baja</td>\n",
       "    </tr>\n",
       "    <tr>\n",
       "      <th>557</th>\n",
       "      <td>No More I Love You’s</td>\n",
       "      <td>Annie Lennox</td>\n",
       "      <td>3:07</td>\n",
       "      <td>4</td>\n",
       "      <td>0.364</td>\n",
       "      <td>0.02920</td>\n",
       "      <td>3</td>\n",
       "      <td>-21.088</td>\n",
       "      <td>Escala Mayor</td>\n",
       "      <td>0.0594</td>\n",
       "      <td>0.991</td>\n",
       "      <td>0.963000</td>\n",
       "      <td>0.0912</td>\n",
       "      <td>0.14600</td>\n",
       "      <td>166.335</td>\n",
       "      <td>40</td>\n",
       "      <td>1995</td>\n",
       "      <td>187</td>\n",
       "      <td>alta</td>\n",
       "    </tr>\n",
       "    <tr>\n",
       "      <th>762</th>\n",
       "      <td>Frozen</td>\n",
       "      <td>Madonna</td>\n",
       "      <td>2:41</td>\n",
       "      <td>4</td>\n",
       "      <td>0.179</td>\n",
       "      <td>0.00580</td>\n",
       "      <td>0</td>\n",
       "      <td>-37.260</td>\n",
       "      <td>Escala Mayor</td>\n",
       "      <td>0.0481</td>\n",
       "      <td>0.924</td>\n",
       "      <td>0.929000</td>\n",
       "      <td>0.1060</td>\n",
       "      <td>0.03140</td>\n",
       "      <td>72.177</td>\n",
       "      <td>67</td>\n",
       "      <td>1998</td>\n",
       "      <td>161</td>\n",
       "      <td>alta</td>\n",
       "    </tr>\n",
       "    <tr>\n",
       "      <th>777</th>\n",
       "      <td>Kiss The Rain</td>\n",
       "      <td>Billie Myers</td>\n",
       "      <td>4:20</td>\n",
       "      <td>4</td>\n",
       "      <td>0.560</td>\n",
       "      <td>0.05190</td>\n",
       "      <td>8</td>\n",
       "      <td>-22.616</td>\n",
       "      <td>Escala Mayor</td>\n",
       "      <td>0.0423</td>\n",
       "      <td>0.990</td>\n",
       "      <td>0.905000</td>\n",
       "      <td>0.1170</td>\n",
       "      <td>0.18200</td>\n",
       "      <td>132.691</td>\n",
       "      <td>60</td>\n",
       "      <td>1998</td>\n",
       "      <td>260</td>\n",
       "      <td>alta</td>\n",
       "    </tr>\n",
       "    <tr>\n",
       "      <th>811</th>\n",
       "      <td>You’re Still The One</td>\n",
       "      <td>Shania Twain</td>\n",
       "      <td>2:40</td>\n",
       "      <td>4</td>\n",
       "      <td>0.440</td>\n",
       "      <td>0.02080</td>\n",
       "      <td>2</td>\n",
       "      <td>-29.104</td>\n",
       "      <td>Escala Mayor</td>\n",
       "      <td>0.0498</td>\n",
       "      <td>0.994</td>\n",
       "      <td>0.935000</td>\n",
       "      <td>0.0988</td>\n",
       "      <td>0.34000</td>\n",
       "      <td>59.926</td>\n",
       "      <td>39</td>\n",
       "      <td>1998</td>\n",
       "      <td>160</td>\n",
       "      <td>alta</td>\n",
       "    </tr>\n",
       "  </tbody>\n",
       "</table>\n",
       "</div>"
      ],
      "text/plain": [
       "                           Track                        Artist Duration  \\\n",
       "53                    Release Me               Wilson Phillips     2:49   \n",
       "92   This One’s For The Children         New Kids on the Block     3:09   \n",
       "226     When A Man Loves A Woman                Michael Bolton     2:53   \n",
       "235         Beauty And The Beast  Celine Dion and Peabo Bryson     2:47   \n",
       "266                Thinkin’ Back                 Color Me Badd     2:04   \n",
       "295                         Rain                       Madonna     2:11   \n",
       "323                    Connected                   Stereo MC’s     3:16   \n",
       "544                   Ask Of You                Raphael Saadiq     4:54   \n",
       "557         No More I Love You’s                  Annie Lennox     3:07   \n",
       "762                       Frozen                       Madonna     2:41   \n",
       "777                Kiss The Rain                  Billie Myers     4:20   \n",
       "811         You’re Still The One                  Shania Twain     2:40   \n",
       "\n",
       "     Time_Signature  Danceability   Energy  Key  Loudness          Mode  \\\n",
       "53                1         0.152  0.00504    0   -34.183  Escala Mayor   \n",
       "92                4         0.815  0.10500    0   -20.005  Escala Mayor   \n",
       "226               3         0.516  0.15000    1   -20.410  Escala Mayor   \n",
       "235               4         0.432  0.08770    8   -27.006  Escala Mayor   \n",
       "266               4         0.648  0.04060    9   -22.391  Escala Mayor   \n",
       "295               5         0.231  0.97600   10   -27.426  Escala Menor   \n",
       "323               4         0.135  0.00134    2   -42.950  Escala Mayor   \n",
       "544               3         0.194  0.11900    1   -20.926  Escala Mayor   \n",
       "557               4         0.364  0.02920    3   -21.088  Escala Mayor   \n",
       "762               4         0.179  0.00580    0   -37.260  Escala Mayor   \n",
       "777               4         0.560  0.05190    8   -22.616  Escala Mayor   \n",
       "811               4         0.440  0.02080    2   -29.104  Escala Mayor   \n",
       "\n",
       "     Speechiness  Acousticness  Instrumentalness  Liveness  Valence    Tempo  \\\n",
       "53        0.0432         0.953          0.928000    0.1020  0.03030  136.702   \n",
       "92        0.2570         0.990          0.934000    0.1130  0.54300   96.860   \n",
       "226       0.0272         0.130          0.075500    0.1220  0.20500   97.398   \n",
       "235       0.0680         0.995          0.922000    0.1170  0.14900   79.203   \n",
       "266       0.0459         0.983          0.931000    0.1030  0.67200   77.071   \n",
       "295       0.0487         0.152          0.987000    0.4800  0.00672   96.552   \n",
       "323       0.0496         0.969          0.972000    0.0884  0.03720  141.488   \n",
       "544       0.0398         0.854          0.000737    0.1090  0.14000   85.698   \n",
       "557       0.0594         0.991          0.963000    0.0912  0.14600  166.335   \n",
       "762       0.0481         0.924          0.929000    0.1060  0.03140   72.177   \n",
       "777       0.0423         0.990          0.905000    0.1170  0.18200  132.691   \n",
       "811       0.0498         0.994          0.935000    0.0988  0.34000   59.926   \n",
       "\n",
       "     Popularity  Year  DURATION(s) Instrumentalness Type  \n",
       "53           57  1990          169                  alta  \n",
       "92           11  1990          189                  alta  \n",
       "226          66  1992          173                  baja  \n",
       "235          60  1992          167                  alta  \n",
       "266          49  1992          124                  alta  \n",
       "295          81  1993          131                  alta  \n",
       "323          66  1993          196                  alta  \n",
       "544          52  1995          294                  baja  \n",
       "557          40  1995          187                  alta  \n",
       "762          67  1998          161                  alta  \n",
       "777          60  1998          260                  alta  \n",
       "811          39  1998          160                  alta  "
      ]
     },
     "execution_count": 91,
     "metadata": {},
     "output_type": "execute_result"
    }
   ],
   "source": [
    "copy_covers_ds[copy_covers_ds['Loudness'] < -20]\n"
   ]
  },
  {
   "cell_type": "markdown",
   "metadata": {},
   "source": [
    "Son en total 12 canciones, de las cuales hay un valor min. Cercano a -40."
   ]
  },
  {
   "cell_type": "code",
   "execution_count": 95,
   "metadata": {
    "ExecuteTime": {
     "end_time": "2024-09-27T19:58:26.266827Z",
     "start_time": "2024-09-27T19:58:26.261964Z"
    }
   },
   "outputs": [
    {
     "data": {
      "text/plain": [
       "count    916.000000\n",
       "mean      -8.351585\n",
       "std        3.895975\n",
       "min      -42.950000\n",
       "25%      -10.172000\n",
       "50%       -7.596500\n",
       "75%       -5.753500\n",
       "max        0.919000\n",
       "Name: Loudness, dtype: float64"
      ]
     },
     "execution_count": 95,
     "metadata": {},
     "output_type": "execute_result"
    }
   ],
   "source": [
    "loudness = copy_covers_ds['Loudness']\n",
    "loudness.describe()"
   ]
  },
  {
   "cell_type": "markdown",
   "metadata": {},
   "source": [
    "Vemos que hay un valor minimo de -42. La verdad que no sabemos bien en base a que fue medida esta variable ni que usaron de referencia.\n",
    " Si sacamos concluciones podriamos decir que es una medida en base al umbral de audicion humano o es en base a que en 0db la cancion se deberia escuchar bien, en valores negativos bajo y en valores positivos alto.La primera opcion puede ser descartada ya que si seria en base a nuetra audicion un valor de -42db significaria que directamente no escuchamos la cancion cosa que no nos parece consistente.Consideremos entonces que es en base a una escala en la que 0 db es lo recomendado para que la cancion se escuche bien.Saquemos los valores dudosos!"
   ]
  },
  {
   "cell_type": "code",
   "execution_count": 107,
   "metadata": {
    "ExecuteTime": {
     "end_time": "2024-09-27T20:07:59.860130Z",
     "start_time": "2024-09-27T20:07:59.856125Z"
    }
   },
   "outputs": [],
   "source": [
    "copy_covers_ds = covers_dataset[covers_dataset['Loudness'] > -20]"
   ]
  },
  {
   "cell_type": "code",
   "execution_count": 109,
   "metadata": {
    "ExecuteTime": {
     "end_time": "2024-09-27T20:08:05.742196Z",
     "start_time": "2024-09-27T20:08:05.644682Z"
    }
   },
   "outputs": [
    {
     "data": {
      "image/png": "[encoded data removed]",
      "text/plain": [
       "<Figure size 640x480 with 1 Axes>"
      ]
     },
     "metadata": {},
     "output_type": "display_data"
    }
   ],
   "source": [
    "bins = 10\n",
    "\n",
    "plt.hist(copy_covers_ds['Loudness'], bins = bins)\n",
    "\n",
    "plt.xlabel('Loudness')\n",
    "plt.ylabel('Cantidad de canciones')\n",
    "plt.title('Histograma de loudness')\n",
    "plt.xticks(range(-20, 5, 5))\n",
    "plt.show()"
   ]
  },
  {
   "cell_type": "markdown",
   "metadata": {},
   "source": [
    "La gran mayoria de los valores se encuentran entre -10 y -5, y se puede apreciar un ligero sesgo hacia la izquierda. Igualmente nos resultan raro tantos valores de decibeles negativos. "
   ]
  },
  {
   "cell_type": "markdown",
   "metadata": {},
   "source": [
    "### Analisis de ```Instrumentalness```"
   ]
  },
  {
   "cell_type": "code",
   "execution_count": 107,
   "metadata": {
    "ExecuteTime": {
     "end_time": "2024-09-27T17:38:56.402897Z",
     "start_time": "2024-09-27T17:38:56.316218Z"
    }
   },
   "outputs": [
    {
     "data": {
      "image/png": "[encoded data removed]",
      "text/plain": [
       "<Figure size 640x480 with 1 Axes>"
      ]
     },
     "metadata": {},
     "output_type": "display_data"
    }
   ],
   "source": [
    "bins = 5\n",
    "\n",
    "plt.hist(copy_covers_ds['Instrumentalness'], bins = bins)\n",
    "\n",
    "plt.xlabel('Instrumentalness')\n",
    "plt.ylabel('Cantidad de canciones')\n",
    "plt.title('Histograma de Instrumentalizacion de las canciones')\n",
    "plt.xticks(range(0, 1, 1))\n",
    "plt.show()"
   ]
  },
  {
   "cell_type": "markdown",
   "metadata": {},
   "source": [
    "Podriamos discretizar la variable, por ejemplo utilizar una escala \"nula, baja, media, alta\""
   ]
  },
  {
   "cell_type": "code",
   "execution_count": 108,
   "metadata": {
    "ExecuteTime": {
     "end_time": "2024-09-27T17:38:56.494201Z",
     "start_time": "2024-09-27T17:38:56.447258Z"
    }
   },
   "outputs": [
    {
     "data": {
      "text/html": [
       "<div>\n",
       "<style scoped>\n",
       "    .dataframe tbody tr th:only-of-type {\n",
       "        vertical-align: middle;\n",
       "    }\n",
       "\n",
       "    .dataframe tbody tr th {\n",
       "        vertical-align: top;\n",
       "    }\n",
       "\n",
       "    .dataframe thead th {\n",
       "        text-align: right;\n",
       "    }\n",
       "</style>\n",
       "<table border=\"1\" class=\"dataframe\">\n",
       "  <thead>\n",
       "    <tr style=\"text-align: right;\">\n",
       "      <th></th>\n",
       "      <th>Track</th>\n",
       "      <th>Artist</th>\n",
       "      <th>Duration</th>\n",
       "      <th>Time_Signature</th>\n",
       "      <th>Danceability</th>\n",
       "      <th>Energy</th>\n",
       "      <th>Key</th>\n",
       "      <th>Loudness</th>\n",
       "      <th>Mode</th>\n",
       "      <th>Speechiness</th>\n",
       "      <th>Acousticness</th>\n",
       "      <th>Instrumentalness</th>\n",
       "      <th>Liveness</th>\n",
       "      <th>Valence</th>\n",
       "      <th>Tempo</th>\n",
       "      <th>Popularity</th>\n",
       "      <th>Year</th>\n",
       "      <th>DURATION(s)</th>\n",
       "      <th>Instrumentalness Type</th>\n",
       "    </tr>\n",
       "  </thead>\n",
       "  <tbody>\n",
       "    <tr>\n",
       "      <th>0</th>\n",
       "      <td>Everybody Everybody</td>\n",
       "      <td>Black Box</td>\n",
       "      <td>4:11</td>\n",
       "      <td>4</td>\n",
       "      <td>0.645</td>\n",
       "      <td>0.795</td>\n",
       "      <td>7</td>\n",
       "      <td>-12.095</td>\n",
       "      <td>Escala Mayor</td>\n",
       "      <td>0.0527</td>\n",
       "      <td>0.3470</td>\n",
       "      <td>0.003890</td>\n",
       "      <td>0.1040</td>\n",
       "      <td>0.535</td>\n",
       "      <td>112.067</td>\n",
       "      <td>87</td>\n",
       "      <td>1990</td>\n",
       "      <td>251</td>\n",
       "      <td>baja</td>\n",
       "    </tr>\n",
       "    <tr>\n",
       "      <th>1</th>\n",
       "      <td>Close To You</td>\n",
       "      <td>Maxi Priest</td>\n",
       "      <td>3:45</td>\n",
       "      <td>4</td>\n",
       "      <td>0.590</td>\n",
       "      <td>0.727</td>\n",
       "      <td>6</td>\n",
       "      <td>-7.955</td>\n",
       "      <td>Escala Mayor</td>\n",
       "      <td>0.0706</td>\n",
       "      <td>0.0259</td>\n",
       "      <td>0.000065</td>\n",
       "      <td>0.0827</td>\n",
       "      <td>0.356</td>\n",
       "      <td>121.966</td>\n",
       "      <td>85</td>\n",
       "      <td>1990</td>\n",
       "      <td>225</td>\n",
       "      <td>baja</td>\n",
       "    </tr>\n",
       "    <tr>\n",
       "      <th>2</th>\n",
       "      <td>Do Me!</td>\n",
       "      <td>Bell Biv DeVoe</td>\n",
       "      <td>3:56</td>\n",
       "      <td>4</td>\n",
       "      <td>0.615</td>\n",
       "      <td>0.534</td>\n",
       "      <td>9</td>\n",
       "      <td>-6.719</td>\n",
       "      <td>Escala Menor</td>\n",
       "      <td>0.0386</td>\n",
       "      <td>0.1060</td>\n",
       "      <td>0.000018</td>\n",
       "      <td>0.0607</td>\n",
       "      <td>0.193</td>\n",
       "      <td>135.917</td>\n",
       "      <td>84</td>\n",
       "      <td>1990</td>\n",
       "      <td>236</td>\n",
       "      <td>baja</td>\n",
       "    </tr>\n",
       "    <tr>\n",
       "      <th>3</th>\n",
       "      <td>Everything</td>\n",
       "      <td>Jody Watley</td>\n",
       "      <td>4:05</td>\n",
       "      <td>4</td>\n",
       "      <td>0.704</td>\n",
       "      <td>0.225</td>\n",
       "      <td>6</td>\n",
       "      <td>-14.454</td>\n",
       "      <td>Escala Menor</td>\n",
       "      <td>0.0994</td>\n",
       "      <td>0.9020</td>\n",
       "      <td>0.657000</td>\n",
       "      <td>0.1060</td>\n",
       "      <td>0.243</td>\n",
       "      <td>120.006</td>\n",
       "      <td>82</td>\n",
       "      <td>1990</td>\n",
       "      <td>245</td>\n",
       "      <td>media</td>\n",
       "    </tr>\n",
       "    <tr>\n",
       "      <th>4</th>\n",
       "      <td>What It Takes</td>\n",
       "      <td>Aerosmith</td>\n",
       "      <td>3:21</td>\n",
       "      <td>4</td>\n",
       "      <td>0.672</td>\n",
       "      <td>0.655</td>\n",
       "      <td>10</td>\n",
       "      <td>-5.021</td>\n",
       "      <td>Escala Menor</td>\n",
       "      <td>0.0310</td>\n",
       "      <td>0.0362</td>\n",
       "      <td>0.000000</td>\n",
       "      <td>0.1170</td>\n",
       "      <td>0.555</td>\n",
       "      <td>134.948</td>\n",
       "      <td>82</td>\n",
       "      <td>1990</td>\n",
       "      <td>201</td>\n",
       "      <td>nula</td>\n",
       "    </tr>\n",
       "  </tbody>\n",
       "</table>\n",
       "</div>"
      ],
      "text/plain": [
       "                 Track          Artist Duration  Time_Signature  Danceability  \\\n",
       "0  Everybody Everybody       Black Box     4:11               4         0.645   \n",
       "1         Close To You     Maxi Priest     3:45               4         0.590   \n",
       "2               Do Me!  Bell Biv DeVoe     3:56               4         0.615   \n",
       "3           Everything     Jody Watley     4:05               4         0.704   \n",
       "4        What It Takes       Aerosmith     3:21               4         0.672   \n",
       "\n",
       "   Energy  Key  Loudness          Mode  Speechiness  Acousticness  \\\n",
       "0   0.795    7   -12.095  Escala Mayor       0.0527        0.3470   \n",
       "1   0.727    6    -7.955  Escala Mayor       0.0706        0.0259   \n",
       "2   0.534    9    -6.719  Escala Menor       0.0386        0.1060   \n",
       "3   0.225    6   -14.454  Escala Menor       0.0994        0.9020   \n",
       "4   0.655   10    -5.021  Escala Menor       0.0310        0.0362   \n",
       "\n",
       "   Instrumentalness  Liveness  Valence    Tempo  Popularity  Year  \\\n",
       "0          0.003890    0.1040    0.535  112.067          87  1990   \n",
       "1          0.000065    0.0827    0.356  121.966          85  1990   \n",
       "2          0.000018    0.0607    0.193  135.917          84  1990   \n",
       "3          0.657000    0.1060    0.243  120.006          82  1990   \n",
       "4          0.000000    0.1170    0.555  134.948          82  1990   \n",
       "\n",
       "   DURATION(s) Instrumentalness Type  \n",
       "0          251                  baja  \n",
       "1          225                  baja  \n",
       "2          236                  baja  \n",
       "3          245                 media  \n",
       "4          201                  nula  "
      ]
     },
     "execution_count": 108,
     "metadata": {},
     "output_type": "execute_result"
    }
   ],
   "source": [
    "#Creamos la nueva columna con las variable discretizada(todavia no hay nada) y la inicializamos en nulo.\n",
    "copy_covers_ds['Instrumentalness Type'] = pd.NA\n",
    "#Por cada registro hacemos:\n",
    "for index,row in copy_covers_ds.iterrows():\n",
    "    #Consideramos los 4 casos(intervalos) y asignamos el nueva valor segun corresponda\n",
    "    instrulmentalness_original = row['Instrumentalness']\n",
    "    if(instrulmentalness_original == 0):\n",
    "        instrulmentalness_nueva = 'nula'\n",
    "    elif(instrulmentalness_original > 0 and instrulmentalness_original <= 0.4 ) :\n",
    "        instrulmentalness_nueva = 'baja'\n",
    "    elif(instrulmentalness_original > 0.4 and instrulmentalness_original <= 0.7) :\n",
    "        instrulmentalness_nueva = 'media'\n",
    "    elif(instrulmentalness_original > 0.7 and instrulmentalness_original <= 1) :\n",
    "        instrulmentalness_nueva = 'alta'\n",
    "        \n",
    "    copy_covers_ds.at[index,'Instrumentalness Type'] = instrulmentalness_nueva\n",
    "\n",
    "copy_covers_ds.head()"
   ]
  },
  {
   "cell_type": "code",
   "execution_count": 109,
   "metadata": {
    "ExecuteTime": {
     "end_time": "2024-09-27T17:38:56.618920Z",
     "start_time": "2024-09-27T17:38:56.525336Z"
    }
   },
   "outputs": [
    {
     "data": {
      "image/png": "[encoded data removed]",
      "text/plain": [
       "<Figure size 800x600 with 1 Axes>"
      ]
     },
     "metadata": {},
     "output_type": "display_data"
    }
   ],
   "source": [
    "# Contar la cantidad de cada tipo de 'Instrumentalness Type'\n",
    "instrumentalness_counts = copy_covers_ds['Instrumentalness Type'].value_counts()\n",
    "\n",
    "# Crear el gráfico de barras\n",
    "plt.figure(figsize=(8, 6))\n",
    "instrumentalness_counts.plot(kind='bar')\n",
    "plt.title('Distribución de Instrumentalness')\n",
    "plt.xlabel('Instrumentalness Type')\n",
    "plt.ylabel('Cantidad de canciones')\n",
    "plt.show()"
   ]
  },
  {
   "cell_type": "markdown",
   "metadata": {},
   "source": [
    "Podemos ver que hay muchas canciones con instrumentalizacion baja(cuidado que el intervalo para bajo es un poco mayor(0.1). Y que tambien hay muchas canciones con una instrumentalizacion nula(0 de instrumentalizacion)"
   ]
  },
  {
   "cell_type": "markdown",
   "metadata": {},
   "source": [
    "### ```Analisis Time Signature```"
   ]
  },
  {
   "cell_type": "code",
   "execution_count": 110,
   "metadata": {
    "ExecuteTime": {
     "end_time": "2024-09-27T17:38:56.748891Z",
     "start_time": "2024-09-27T17:38:56.658328Z"
    }
   },
   "outputs": [
    {
     "data": {
      "image/png": "[encoded data removed]",
      "text/plain": [
       "<Figure size 600x600 with 1 Axes>"
      ]
     },
     "metadata": {},
     "output_type": "display_data"
    }
   ],
   "source": [
    "# Contar la cantidad de cada tipo de 'Instrumentalness Type'\n",
    "Time_signature_counts = copy_covers_ds['Time_Signature'].value_counts()\n",
    "\n",
    "plt.figure(figsize=(6,6))\n",
    "Time_signature_counts.plot(kind = 'bar', color='skyblue')\n",
    "plt.yticks(range(0,901,100))\n",
    "plt.xticks(rotation = 0)\n",
    "plt.title('Cantidad de canciones por pulsaciones por compás')\n",
    "plt.xlabel('Signatura', fontsize=12)\n",
    "plt.ylabel('Frecuencia', fontsize=12)\n",
    "plt.show()"
   ]
  },
  {
   "cell_type": "markdown",
   "metadata": {},
   "source": "Observamos que la gran mayoria de las canciones tienen 4 pulsaciones por compas, es un compas muy comun. Aquí dejo una captura sacada de la siguiente [página](https://www.skoove.com/blog/es/compases-musicales-conceptos-importantes-y-tipos-de-compases/), contiene informacion de otros compases también. Seria interesente ver si el compas tiene que ver "
  },
  {
   "cell_type": "markdown",
   "metadata": {},
   "source": [
    "![\"Compas 4/4\"](compas44.png)"
   ]
  },
  {
   "cell_type": "markdown",
   "metadata": {},
   "source": "### ```Analisis Liveness```"
  },
  {
   "cell_type": "code",
   "metadata": {
    "ExecuteTime": {
     "end_time": "2024-09-27T23:14:07.239884Z",
     "start_time": "2024-09-27T23:14:05.429336Z"
    }
   },
   "source": [
    "bins = 10\n",
    "\n",
    "plt.hist(copy_covers_ds['Liveness'], bins = bins,color='green')\n",
    "\n",
    "plt.xlabel('Liveness')\n",
    "plt.ylabel('Cantidad de canciones')\n",
    "plt.title('Histograma de la Liveness de las canciones')\n",
    "plt.xticks(np.arange(0, 1, 0.1))\n",
    "plt.show()"
   ],
   "outputs": [
    {
     "data": {
      "text/plain": [
       "<Figure size 640x480 with 1 Axes>"
      ],
      "image/png": "[encoded data removed]"
     },
     "metadata": {},
     "output_type": "display_data"
    }
   ],
   "execution_count": 7
  },
  {
   "cell_type": "markdown",
   "metadata": {},
   "source": [
    "Vemos una distribucion muy sesgada hacia la derecha, lo que quiere decir que probablemente haya muchas canciones con poca presencia de la audiencia. Hay un par de valor que podrian ser posibles outliers ariba de 0.9 pero realmente no nos parece significante."
   ]
  },
  {
   "cell_type": "markdown",
   "metadata": {},
   "source": [
    "### ```Analisis Energy```\n"
   ]
  },
  {
   "cell_type": "code",
   "metadata": {
    "ExecuteTime": {
     "end_time": "2024-09-27T23:13:25.256779Z",
     "start_time": "2024-09-27T23:13:23.763964Z"
    }
   },
   "source": [
    "bins = 10\n",
    "\n",
    "plt.hist(copy_covers_ds['Energy'], bins = bins,color='yellow')\n",
    "\n",
    "plt.xlabel('Energy')\n",
    "plt.ylabel('Cantidad de canciones')\n",
    "plt.title('Histograma de la Energy de las canciones')\n",
    "plt.xticks(np.arange(0, 1, 0.1))\n",
    "plt.show()"
   ],
   "outputs": [
    {
     "data": {
      "text/plain": [
       "<Figure size 640x480 with 1 Axes>"
      ],
      "image/png": "[encoded data removed]"
     },
     "metadata": {},
     "output_type": "display_data"
    }
   ],
   "execution_count": 6
  },
  {
   "cell_type": "markdown",
   "metadata": {},
   "source": [
    "Podemos observar una cuerva bastante ```sesgada hacia la derecha```, lo que indica una gran presencia de canciones energeticas. Sinceramente como con muchas otras variables no sabemos como es que fueron medidas, como pasa en el caso de esta variable. ¿Como midieron la energia de la cancion? ¿estara ligada al ritmo?"
   ]
  },
  {
   "cell_type": "markdown",
   "metadata": {},
   "source": [
    "Algunas canciones con un valor de ```energia bajo``` son:"
   ]
  },
  {
   "cell_type": "code",
   "execution_count": null,
   "metadata": {},
   "outputs": [],
   "source": [
    "copy_covers_ds[copy_covers_ds['Energy'] < 0.1]"
   ]
  },
  {
   "cell_type": "code",
   "execution_count": null,
   "metadata": {},
   "outputs": [],
   "source": [
    "# Nos quedamos solo con la columna Energy\n",
    "energy = covers_dataset[\"Energy\"]\n",
    "\n",
    "# Creamos el boxplot\n",
    "plt.figure(figsize=(8, 6))\n",
    "sns.boxplot(x=energy)\n",
    "plt.title(\"Boxplot de Energy\")\n",
    "plt.xlabel(\"Energy\")\n",
    "plt.show()"
   ]
  },
  {
   "cell_type": "markdown",
   "metadata": {},
   "source": "### ```Analisis de Key```"
  },
  {
   "metadata": {},
   "cell_type": "markdown",
   "source": "Esta variable es cuantitativa discreta, con valores de 0 a 11 y representan la clave de la canción"
  },
  {
   "cell_type": "code",
   "execution_count": 112,
   "metadata": {
    "ExecuteTime": {
     "end_time": "2024-09-27T17:39:08.306545Z",
     "start_time": "2024-09-27T17:39:08.191347Z"
    }
   },
   "outputs": [
    {
     "data": {
      "image/png": "[encoded data removed]",
      "text/plain": [
       "<Figure size 800x600 with 1 Axes>"
      ]
     },
     "metadata": {},
     "output_type": "display_data"
    }
   ],
   "source": [
    "# Contar la cantidad de cada tipo de 'Key'\n",
    "key_counts = copy_covers_ds['Key'].value_counts().sort_index()\n",
    "\n",
    "# Crear el gráfico de barras\n",
    "plt.figure(figsize=(8, 6))\n",
    "key_counts.plot(kind='bar')\n",
    "plt.title('Distribución de Key')\n",
    "plt.xlabel('Key')\n",
    "plt.ylabel('Cantidad de canciones')\n",
    "plt.show()"
   ]
  },
  {
   "cell_type": "code",
   "execution_count": 45,
   "metadata": {
    "ExecuteTime": {
     "end_time": "2024-09-27T17:38:56.941084100Z",
     "start_time": "2024-09-27T17:37:18.068844Z"
    }
   },
   "outputs": [
    {
     "data": {
      "image/png": "[encoded data removed]",
      "text/plain": [
       "<Figure size 800x600 with 1 Axes>"
      ]
     },
     "metadata": {},
     "output_type": "display_data"
    }
   ],
   "source": [
    "# Contar la cantidad de cada tipo de 'Key'\n",
    "key_counts = copy_covers_ds['Key'].value_counts().sort_values()\n",
    "\n",
    "# Crear el gráfico de barras\n",
    "plt.figure(figsize=(8, 6))\n",
    "key_counts.plot(kind='bar')\n",
    "plt.title('Distribución de Key')\n",
    "plt.xlabel('Key')\n",
    "plt.ylabel('Cantidad de canciones')\n",
    "plt.show()"
   ]
  },
  {
   "metadata": {},
   "cell_type": "markdown",
   "source": ""
  },
  {
   "cell_type": "markdown",
   "metadata": {},
   "source": "### Analisis de ```Speechiness```"
  },
  {
   "cell_type": "markdown",
   "metadata": {},
   "source": [
    "Es la medida de presencia de palabras habladas en las canciones, valores altos indican una alta presencia de estas palabras."
   ]
  },
  {
   "cell_type": "code",
   "execution_count": 11,
   "metadata": {},
   "outputs": [
    {
     "data": {
      "text/plain": [
       "count    919.000000\n",
       "mean       0.075793\n",
       "std        0.079570\n",
       "min        0.023000\n",
       "25%        0.032400\n",
       "50%        0.042900\n",
       "75%        0.075600\n",
       "max        0.529000\n",
       "Name: Speechiness, dtype: float64"
      ]
     },
     "execution_count": 11,
     "metadata": {},
     "output_type": "execute_result"
    }
   ],
   "source": [
    "copy_covers_ds['Speechiness'].describe()"
   ]
  },
  {
   "cell_type": "markdown",
   "metadata": {},
   "source": [
    "Es una variable cuantitativa continua\n",
    "\n",
    "De la funcion describe() se puede ver que hasta el 75% de los datos son valores muy bajos debajo de 0.1\n",
    "\n",
    "Esto podria significar que la mayoria de las canciones no tienen casi palabras habladas. Con palabras habladas pensamos que una cancion con valores altos seria una cancion de rap por ejemplo. \n",
    "\n",
    "Aunque tampoco hay ninguna que sea totalmente hablada, ya que el maximo llega a 0.529."
   ]
  },
  {
   "cell_type": "code",
   "execution_count": 20,
   "metadata": {},
   "outputs": [
    {
     "data": {
      "image/png": "[encoded data removed]",
      "text/plain": [
       "<Figure size 640x480 with 1 Axes>"
      ]
     },
     "metadata": {},
     "output_type": "display_data"
    }
   ],
   "source": [
    "bins = 15\n",
    "\n",
    "plt.hist(copy_covers_ds['Speechiness'], bins = bins)\n",
    "\n",
    "plt.xlabel('Speechiness')\n",
    "plt.ylabel('Cantidad de canciones')\n",
    "plt.title('Histograma de Speechiness')\n",
    "plt.grid()\n",
    "plt.show()"
   ]
  },
  {
   "cell_type": "markdown",
   "metadata": {},
   "source": [
    "Luego de realizar el histograma volvemos a confirmar que hay muchiiisimas canciones con valores bajos."
   ]
  },
  {
   "cell_type": "code",
   "execution_count": 22,
   "metadata": {},
   "outputs": [
    {
     "data": {
      "image/png": "[encoded data removed]",
      "text/plain": [
       "<Figure size 600x600 with 1 Axes>"
      ]
     },
     "metadata": {},
     "output_type": "display_data"
    }
   ],
   "source": [
    "plt.figure(figsize=(6, 6))\n",
    "plt.boxplot(copy_covers_ds['Speechiness'])\n",
    "plt.ylabel('Speechiness')\n",
    "plt.show()"
   ]
  },
  {
   "cell_type": "markdown",
   "metadata": {},
   "source": [
    "Realizamos el boxplot para ver si quizas habia un valor solo alejado, pero en verdad esta distribuido medio parejo los valores mas alla del 75%. "
   ]
  },
  {
   "cell_type": "code",
   "execution_count": 29,
   "metadata": {},
   "outputs": [
    {
     "data": {
      "text/html": [
       "<div>\n",
       "<style scoped>\n",
       "    .dataframe tbody tr th:only-of-type {\n",
       "        vertical-align: middle;\n",
       "    }\n",
       "\n",
       "    .dataframe tbody tr th {\n",
       "        vertical-align: top;\n",
       "    }\n",
       "\n",
       "    .dataframe thead th {\n",
       "        text-align: right;\n",
       "    }\n",
       "</style>\n",
       "<table border=\"1\" class=\"dataframe\">\n",
       "  <thead>\n",
       "    <tr style=\"text-align: right;\">\n",
       "      <th></th>\n",
       "      <th>Track</th>\n",
       "      <th>Artist</th>\n",
       "      <th>Duration</th>\n",
       "      <th>Time_Signature</th>\n",
       "      <th>Danceability</th>\n",
       "      <th>Energy</th>\n",
       "      <th>Key</th>\n",
       "      <th>Loudness</th>\n",
       "      <th>Mode</th>\n",
       "      <th>Speechiness</th>\n",
       "      <th>Acousticness</th>\n",
       "      <th>Instrumentalness</th>\n",
       "      <th>Liveness</th>\n",
       "      <th>Valence</th>\n",
       "      <th>Tempo</th>\n",
       "      <th>Popularity</th>\n",
       "      <th>Year</th>\n",
       "    </tr>\n",
       "  </thead>\n",
       "  <tbody>\n",
       "    <tr>\n",
       "      <th>873</th>\n",
       "      <td>Steal My Sunshine</td>\n",
       "      <td>Len</td>\n",
       "      <td>4:25</td>\n",
       "      <td>4</td>\n",
       "      <td>0.412</td>\n",
       "      <td>0.829</td>\n",
       "      <td>4</td>\n",
       "      <td>-11.112</td>\n",
       "      <td>1</td>\n",
       "      <td>0.529</td>\n",
       "      <td>0.394</td>\n",
       "      <td>0.0</td>\n",
       "      <td>0.108</td>\n",
       "      <td>0.677</td>\n",
       "      <td>191.476</td>\n",
       "      <td>63</td>\n",
       "      <td>1999</td>\n",
       "    </tr>\n",
       "  </tbody>\n",
       "</table>\n",
       "</div>"
      ],
      "text/plain": [
       "                 Track Artist Duration  Time_Signature  Danceability  Energy  \\\n",
       "873  Steal My Sunshine    Len     4:25               4         0.412   0.829   \n",
       "\n",
       "     Key  Loudness  Mode  Speechiness  Acousticness  Instrumentalness  \\\n",
       "873    4   -11.112     1        0.529         0.394               0.0   \n",
       "\n",
       "     Liveness  Valence    Tempo  Popularity  Year  \n",
       "873     0.108    0.677  191.476          63  1999  "
      ]
     },
     "execution_count": 29,
     "metadata": {},
     "output_type": "execute_result"
    }
   ],
   "source": [
    "max = copy_covers_ds[\"Speechiness\"].max()\n",
    "copy_covers_ds[copy_covers_ds[\"Speechiness\"] == max]"
   ]
  },
  {
   "cell_type": "code",
   "execution_count": 28,
   "metadata": {},
   "outputs": [
    {
     "data": {
      "text/html": [
       "<div>\n",
       "<style scoped>\n",
       "    .dataframe tbody tr th:only-of-type {\n",
       "        vertical-align: middle;\n",
       "    }\n",
       "\n",
       "    .dataframe tbody tr th {\n",
       "        vertical-align: top;\n",
       "    }\n",
       "\n",
       "    .dataframe thead th {\n",
       "        text-align: right;\n",
       "    }\n",
       "</style>\n",
       "<table border=\"1\" class=\"dataframe\">\n",
       "  <thead>\n",
       "    <tr style=\"text-align: right;\">\n",
       "      <th></th>\n",
       "      <th>Track</th>\n",
       "      <th>Artist</th>\n",
       "      <th>Duration</th>\n",
       "      <th>Time_Signature</th>\n",
       "      <th>Danceability</th>\n",
       "      <th>Energy</th>\n",
       "      <th>Key</th>\n",
       "      <th>Loudness</th>\n",
       "      <th>Mode</th>\n",
       "      <th>Speechiness</th>\n",
       "      <th>Acousticness</th>\n",
       "      <th>Instrumentalness</th>\n",
       "      <th>Liveness</th>\n",
       "      <th>Valence</th>\n",
       "      <th>Tempo</th>\n",
       "      <th>Popularity</th>\n",
       "      <th>Year</th>\n",
       "    </tr>\n",
       "  </thead>\n",
       "  <tbody>\n",
       "    <tr>\n",
       "      <th>695</th>\n",
       "      <td>Building A Mystery</td>\n",
       "      <td>Sarah McLachlan</td>\n",
       "      <td>4:07</td>\n",
       "      <td>4</td>\n",
       "      <td>0.505</td>\n",
       "      <td>0.518</td>\n",
       "      <td>2</td>\n",
       "      <td>-8.601</td>\n",
       "      <td>1</td>\n",
       "      <td>0.023</td>\n",
       "      <td>0.403</td>\n",
       "      <td>0.0</td>\n",
       "      <td>0.129</td>\n",
       "      <td>0.472</td>\n",
       "      <td>81.019</td>\n",
       "      <td>52</td>\n",
       "      <td>1997</td>\n",
       "    </tr>\n",
       "  </tbody>\n",
       "</table>\n",
       "</div>"
      ],
      "text/plain": [
       "                  Track           Artist Duration  Time_Signature  \\\n",
       "695  Building A Mystery  Sarah McLachlan     4:07               4   \n",
       "\n",
       "     Danceability  Energy  Key  Loudness  Mode  Speechiness  Acousticness  \\\n",
       "695         0.505   0.518    2    -8.601     1        0.023         0.403   \n",
       "\n",
       "     Instrumentalness  Liveness  Valence   Tempo  Popularity  Year  \n",
       "695               0.0     0.129    0.472  81.019          52  1997  "
      ]
     },
     "execution_count": 28,
     "metadata": {},
     "output_type": "execute_result"
    }
   ],
   "source": [
    "min = copy_covers_ds[\"Speechiness\"].min()\n",
    "copy_covers_ds[copy_covers_ds[\"Speechiness\"] == min]"
   ]
  },
  {
   "cell_type": "markdown",
   "metadata": {},
   "source": [
    "Para chusmear un poco más, la cancion con el maximo de Speechiness es algo como Hip Hop, Pop Rap según lo que buscamos. Tiene sentido quiza que este ahi pero tampoco es que sea re hablada, es un valor de 0.529.\n",
    "\n",
    "Y la cancion con el minimo de Speechiness tiene una onda triste, lenta y bien cantada. Pd: descubrimos que la artista es la que canta \"When She Loved Me\" de Toy Story 2 c':"
   ]
  },
  {
   "cell_type": "markdown",
   "metadata": {},
   "source": [
    "### ```Análisis de Mode```"
   ]
  },
  {
   "cell_type": "markdown",
   "metadata": {},
   "source": [
    "Como tenemos una variable categórica, podemos modelarla mediante un gráfico de barras, donde podamos apreciar la cantidad de canciones de cada categoría"
   ]
  },
  {
   "cell_type": "code",
   "execution_count": 110,
   "metadata": {
    "ExecuteTime": {
     "end_time": "2024-09-27T20:23:56.014506Z",
     "start_time": "2024-09-27T20:23:55.964605Z"
    }
   },
   "outputs": [
    {
     "data": {
      "image/png": "[encoded data removed]",
      "text/plain": [
       "<Figure size 800x600 with 1 Axes>"
      ]
     },
     "metadata": {},
     "output_type": "display_data"
    }
   ],
   "source": [
    "#Contamos la cantidad de canciones de cada tipo\n",
    "mode_values = copy_covers_ds['Mode'].value_counts()\n",
    "\n",
    "plt.figure(figsize=(8, 6))\n",
    "mode_values.plot(kind='pie', color='green')\n",
    "plt.title('Cantidad de canciones según su modo')\n",
    "plt.xticks(rotation=0)\n",
    "plt.xlabel('Mode')\n",
    "plt.ylabel('Cantidad de canciones')\n",
    "plt.show()\n"
   ]
  },
  {
   "cell_type": "markdown",
   "metadata": {},
   "source": [
    "Se aprecia que hay muchas más canciones escritas en escala mayor que en escala menor. Según esta [página](https://www.artsmusica.net/teoria-musical/diferencia-entre-escalas-mayores-y-menores/), una canción compuesta por una escala mayor da una sensación de alegría, mientras que a las que se conforman por escalas menores se les atribuye sentimientos más tristes o depresivos. Por lo tanto, sería de especial interés comprobar si existe una relación entre ```Mode``` con la variable que mide los niveles de positividad de la canción, ```Valance```."
   ]
  },
  {
   "cell_type": "markdown",
   "metadata": {},
   "source": [
    "### ```Análisis de Acoustiness```"
   ]
  },
  {
   "cell_type": "markdown",
   "metadata": {},
   "source": [
    "Ahora vamos a realizar el análisis sobre la variable que mide que tan acústica es una canción. Como se trata de una variable cuantitativa continua, vamos a discretizarla de manera tal de poder modelar su distribución en un histograma y/o boxplot "
   ]
  },
  {
   "cell_type": "code",
   "execution_count": null,
   "metadata": {},
   "outputs": [],
   "source": [
    "copy_covers_ds['Acousticness'].value_counts()"
   ]
  },
  {
   "cell_type": "code",
   "execution_count": null,
   "metadata": {},
   "outputs": [],
   "source": [
    "copy_covers_ds['Acousticness'].describe()"
   ]
  },
  {
   "cell_type": "markdown",
   "metadata": {},
   "source": [
    "* Como se puede ver, el 75% de los datos se encuentran en el rango de 0.00 a 0.34 aprox mientras que el otro 25% se encuentra entre 0.34 y 0.99, por lo tanto, si se la grafica se podría apreciar un sesgo a derecha debido a ese porcentaje de datos restante\n",
    "* Aunque la mayoría de los datos son pequeños, hay cierta dispersión y unos cuantos valores más altos que contribuyen a que la desviación estándar un poco más alta en comparación con la media"
   ]
  },
  {
   "cell_type": "markdown",
   "metadata": {},
   "source": [
    "Ahora que conocemos la distribución de los datos, podemos optar por realizar una discretización de la variable de dos formas: equal-depth o entropy-based(equal-width no debido a que no maneja bien distribuciones sesgadas)<br>\n",
    "Como tenemos 919 datos, podemos hacer 20 intervalos con, aproximadamente, 46 valores en cada uno"
   ]
  },
  {
   "cell_type": "markdown",
   "metadata": {},
   "source": [
    "**_Preguntar si cada bin tiene la misma cantidad de datos y, en caso contrario, como lo podemos hacer para que eso_**"
   ]
  },
  {
   "cell_type": "code",
   "metadata": {
    "ExecuteTime": {
     "end_time": "2024-09-27T23:03:47.420073Z",
     "start_time": "2024-09-27T23:03:44.379925Z"
    }
   },
   "source": [
    "import numpy as np\n",
    "\n",
    "# Ordenamos los datos\n",
    "acousticness_sort = copy_covers_ds['Acousticness'].sort_values()\n",
    "\n",
    "# Definimos el número de intervalos (bins)\n",
    "bins = 20\n",
    "\n",
    "# Graficamos el histograma\n",
    "plt.figure(figsize=(10, 6))\n",
    "plt.hist(acousticness_sort, bins=bins, color='grey', edgecolor='black')\n",
    "\n",
    "# Añadimos título y etiquetas\n",
    "plt.title('Histograma de Acousticness')\n",
    "plt.xlabel('Acousticness')\n",
    "plt.ylabel('Cantidad de canciones')\n",
    "plt.xticks(np.arange(0,1.05,0.05))\n",
    "\n",
    "# Mostramos el gráfico\n",
    "plt.show()\n",
    "##"
   ],
   "outputs": [
    {
     "data": {
      "text/plain": [
       "<Figure size 1000x600 with 1 Axes>"
      ],
      "image/png": "[encoded data removed]"
     },
     "metadata": {},
     "output_type": "display_data"
    }
   ],
   "execution_count": 4
  },
  {
   "cell_type": "markdown",
   "metadata": {},
   "source": [
    "El gráfico confirma lo que ya pensabamos, existe un fuerte sesgo a derecha. La mayoría de las canciones tienen un nivel acústico muy leve. Es decir, pocas canciones usan instrumentos acústicos(ej: violin, corno francés, trombón, saxofón, guitarra acústica, etc."
   ]
  },
  {
   "metadata": {},
   "cell_type": "markdown",
   "source": "### Análisis de ```Year```"
  },
  {
   "metadata": {},
   "cell_type": "markdown",
   "source": "El año de lanzamiento es una variable de tipo cuantitativa discreta. Debido a que es un dataset de los años '90, tenemos canciones del 90 al 99."
  },
  {
   "metadata": {
    "ExecuteTime": {
     "end_time": "2024-09-29T19:04:13.445662Z",
     "start_time": "2024-09-29T19:04:13.136154Z"
    }
   },
   "cell_type": "code",
   "source": [
    "Year_counts = copy_covers_ds['Year'].value_counts().sort_index()\n",
    "\n",
    "plt.figure(figsize=(6, 6))\n",
    "Year_counts.plot(kind='bar', color='pink', edgecolor='black' )\n",
    "plt.xlabel('Year')\n",
    "plt.ylabel('Cantidad de canciones')\n",
    "plt.title('Cantidad de canciones por año de lanzamiento')\n",
    "plt.xticks(rotation=0)\n",
    "plt.show()"
   ],
   "outputs": [
    {
     "data": {
      "text/plain": [
       "<Figure size 600x600 with 1 Axes>"
      ],
      "image/png": "[encoded data removed]"
     },
     "metadata": {},
     "output_type": "display_data"
    }
   ],
   "execution_count": 23
  },
  {
   "metadata": {},
   "cell_type": "markdown",
   "source": "Podemos ver que se lanzaron más canciones en el año 1991, y menos en el 1996. En un futuro podríamos ver como se relaciona esto con la popularidad de las canciones."
  },
  {
   "metadata": {
    "ExecuteTime": {
     "end_time": "2024-09-29T20:32:59.465808Z",
     "start_time": "2024-09-29T20:32:59.304259Z"
    }
   },
   "cell_type": "code",
   "source": "copy_covers_ds.()",
   "outputs": [
    {
     "data": {
      "text/plain": [
       "0      False\n",
       "1      False\n",
       "2      False\n",
       "3      False\n",
       "4      False\n",
       "       ...  \n",
       "914    False\n",
       "915    False\n",
       "916    False\n",
       "917    False\n",
       "918    False\n",
       "Length: 919, dtype: bool"
      ]
     },
     "execution_count": 4,
     "metadata": {},
     "output_type": "execute_result"
    }
   ],
   "execution_count": 4
  }
 ],
 "metadata": {
  "kernelspec": {
   "display_name": "tpe",
   "language": "python",
   "name": "python3"
  },
  "language_info": {
   "codemirror_mode": {
    "name": "ipython",
    "version": 3
   },
   "file_extension": ".py",
   "mimetype": "text/x-python",
   "name": "python",
   "nbconvert_exporter": "python",
   "pygments_lexer": "ipython3",
   "version": "3.12.5"
  }
 },
 "nbformat": 4,
 "nbformat_minor": 2
}
