{
 "cells": [
  {
   "cell_type": "markdown",
   "metadata": {},
   "source": [
    "# _TP especial Fundamentos de la Ciencia de Datos_<br>\n",
    "### _Grupo 7: Buralli, Todesco, Antúnez_\n"
   ]
  },
  {
   "cell_type": "markdown",
   "metadata": {},
   "source": [
    "### <u>Descarga y lectura de archivos<u>"
   ]
  },
  {
   "cell_type": "markdown",
   "metadata": {},
   "source": [
    "Empezaremos descargando y leyendo los archivos mandados por la cátedra"
   ]
  },
  {
   "cell_type": "code",
   "metadata": {
    "ExecuteTime": {
     "end_time": "2024-09-27T18:19:09.374128Z",
     "start_time": "2024-09-27T18:19:09.356825Z"
    }
   },
   "source": [
    "import pandas as pd\n",
    "import seaborn as sns\n",
    "import matplotlib.pyplot as plt\n",
    "\n",
    "covers_dataset = pd.read_csv('Covers.csv')"
   ],
   "outputs": [],
   "execution_count": 2
  },
  {
   "cell_type": "markdown",
   "metadata": {},
   "source": [
    "Hacemos una vista general para saber de que se trata el dataset, que significan cada una de sus columnas"
   ]
  },
  {
   "cell_type": "code",
   "execution_count": 74,
   "metadata": {
    "ExecuteTime": {
     "end_time": "2024-09-27T17:38:51.122637Z",
     "start_time": "2024-09-27T17:38:51.111470Z"
    }
   },
   "outputs": [
    {
     "data": {
      "text/html": [
       "<div>\n",
       "<style scoped>\n",
       "    .dataframe tbody tr th:only-of-type {\n",
       "        vertical-align: middle;\n",
       "    }\n",
       "\n",
       "    .dataframe tbody tr th {\n",
       "        vertical-align: top;\n",
       "    }\n",
       "\n",
       "    .dataframe thead th {\n",
       "        text-align: right;\n",
       "    }\n",
       "</style>\n",
       "<table border=\"1\" class=\"dataframe\">\n",
       "  <thead>\n",
       "    <tr style=\"text-align: right;\">\n",
       "      <th></th>\n",
       "      <th>Track</th>\n",
       "      <th>Artist</th>\n",
       "      <th>Duration</th>\n",
       "      <th>Time_Signature</th>\n",
       "      <th>Danceability</th>\n",
       "      <th>Energy</th>\n",
       "      <th>Key</th>\n",
       "      <th>Loudness</th>\n",
       "      <th>Mode</th>\n",
       "      <th>Speechiness</th>\n",
       "      <th>Acousticness</th>\n",
       "      <th>Instrumentalness</th>\n",
       "      <th>Liveness</th>\n",
       "      <th>Valence</th>\n",
       "      <th>Tempo</th>\n",
       "      <th>Popularity</th>\n",
       "      <th>Year</th>\n",
       "    </tr>\n",
       "  </thead>\n",
       "  <tbody>\n",
       "    <tr>\n",
       "      <th>0</th>\n",
       "      <td>Everybody Everybody</td>\n",
       "      <td>Black Box</td>\n",
       "      <td>4:11</td>\n",
       "      <td>4</td>\n",
       "      <td>0.645</td>\n",
       "      <td>0.795</td>\n",
       "      <td>7</td>\n",
       "      <td>-12.095</td>\n",
       "      <td>1</td>\n",
       "      <td>0.0527</td>\n",
       "      <td>0.3470</td>\n",
       "      <td>0.003890</td>\n",
       "      <td>0.1040</td>\n",
       "      <td>0.535</td>\n",
       "      <td>112.067</td>\n",
       "      <td>87</td>\n",
       "      <td>1990</td>\n",
       "    </tr>\n",
       "    <tr>\n",
       "      <th>1</th>\n",
       "      <td>Close To You</td>\n",
       "      <td>Maxi Priest</td>\n",
       "      <td>3:45</td>\n",
       "      <td>4</td>\n",
       "      <td>0.590</td>\n",
       "      <td>0.727</td>\n",
       "      <td>6</td>\n",
       "      <td>-7.955</td>\n",
       "      <td>1</td>\n",
       "      <td>0.0706</td>\n",
       "      <td>0.0259</td>\n",
       "      <td>0.000065</td>\n",
       "      <td>0.0827</td>\n",
       "      <td>0.356</td>\n",
       "      <td>121.966</td>\n",
       "      <td>85</td>\n",
       "      <td>1990</td>\n",
       "    </tr>\n",
       "    <tr>\n",
       "      <th>2</th>\n",
       "      <td>Do Me!</td>\n",
       "      <td>Bell Biv DeVoe</td>\n",
       "      <td>3:56</td>\n",
       "      <td>4</td>\n",
       "      <td>0.615</td>\n",
       "      <td>0.534</td>\n",
       "      <td>9</td>\n",
       "      <td>-6.719</td>\n",
       "      <td>0</td>\n",
       "      <td>0.0386</td>\n",
       "      <td>0.1060</td>\n",
       "      <td>0.000018</td>\n",
       "      <td>0.0607</td>\n",
       "      <td>0.193</td>\n",
       "      <td>135.917</td>\n",
       "      <td>84</td>\n",
       "      <td>1990</td>\n",
       "    </tr>\n",
       "    <tr>\n",
       "      <th>3</th>\n",
       "      <td>Everything</td>\n",
       "      <td>Jody Watley</td>\n",
       "      <td>4:05</td>\n",
       "      <td>4</td>\n",
       "      <td>0.704</td>\n",
       "      <td>0.225</td>\n",
       "      <td>6</td>\n",
       "      <td>-14.454</td>\n",
       "      <td>0</td>\n",
       "      <td>0.0994</td>\n",
       "      <td>0.9020</td>\n",
       "      <td>0.657000</td>\n",
       "      <td>0.1060</td>\n",
       "      <td>0.243</td>\n",
       "      <td>120.006</td>\n",
       "      <td>82</td>\n",
       "      <td>1990</td>\n",
       "    </tr>\n",
       "    <tr>\n",
       "      <th>4</th>\n",
       "      <td>What It Takes</td>\n",
       "      <td>Aerosmith</td>\n",
       "      <td>3:21</td>\n",
       "      <td>4</td>\n",
       "      <td>0.672</td>\n",
       "      <td>0.655</td>\n",
       "      <td>10</td>\n",
       "      <td>-5.021</td>\n",
       "      <td>0</td>\n",
       "      <td>0.0310</td>\n",
       "      <td>0.0362</td>\n",
       "      <td>0.000000</td>\n",
       "      <td>0.1170</td>\n",
       "      <td>0.555</td>\n",
       "      <td>134.948</td>\n",
       "      <td>82</td>\n",
       "      <td>1990</td>\n",
       "    </tr>\n",
       "  </tbody>\n",
       "</table>\n",
       "</div>"
      ],
      "text/plain": [
       "                 Track          Artist Duration  Time_Signature  Danceability  \\\n",
       "0  Everybody Everybody       Black Box     4:11               4         0.645   \n",
       "1         Close To You     Maxi Priest     3:45               4         0.590   \n",
       "2               Do Me!  Bell Biv DeVoe     3:56               4         0.615   \n",
       "3           Everything     Jody Watley     4:05               4         0.704   \n",
       "4        What It Takes       Aerosmith     3:21               4         0.672   \n",
       "\n",
       "   Energy  Key  Loudness  Mode  Speechiness  Acousticness  Instrumentalness  \\\n",
       "0   0.795    7   -12.095     1       0.0527        0.3470          0.003890   \n",
       "1   0.727    6    -7.955     1       0.0706        0.0259          0.000065   \n",
       "2   0.534    9    -6.719     0       0.0386        0.1060          0.000018   \n",
       "3   0.225    6   -14.454     0       0.0994        0.9020          0.657000   \n",
       "4   0.655   10    -5.021     0       0.0310        0.0362          0.000000   \n",
       "\n",
       "   Liveness  Valence    Tempo  Popularity  Year  \n",
       "0    0.1040    0.535  112.067          87  1990  \n",
       "1    0.0827    0.356  121.966          85  1990  \n",
       "2    0.0607    0.193  135.917          84  1990  \n",
       "3    0.1060    0.243  120.006          82  1990  \n",
       "4    0.1170    0.555  134.948          82  1990  "
      ]
     },
     "execution_count": 74,
     "metadata": {},
     "output_type": "execute_result"
    }
   ],
   "source": [
    "covers_dataset.head()"
   ]
  },
  {
   "cell_type": "markdown",
   "metadata": {},
   "source": [
    "### Descripción de las variables<br>\n",
    "* ```Track```: nombre de la canción\n",
    "* ```Artist```: nombre del artista o intérprete\n",
    "* ```Duration```: duración en minutos de la canción\n",
    "* ```Time_Signature```: número de pulsaciones por compás\n",
    "* ```Danceability```: medida de que tan bailable es la canción(entre 0 y 1)\n",
    "* ```Energy```: medida de que tan enérgica es la canción(entre 0 y 1)\n",
    "* ```Key```: tonalidad de la canción, número entero\n",
    "* ```Loudness```: volumen de la canción, en decibelios\n",
    "* ```Mode```: tono mayor o menor(0 o 1, respectivamente)\n",
    "* ```Speechiness```: medida de presencia de palabras habladas en las canciones, valores altos indican una alta presencia de estas palabras\n",
    "* ```Acoustiness```: mide que tan acústica es la pista\n",
    "* ```Instrumentalness```: mide la presencia de voces en las canciones, valores más altos indican una canción con mayor parte instrumental\n",
    "* ```Liveness```: probabilidad de que dicha canción se haya interpretado en vivo, niveles más altos indican mayor presencia de voces de la audiencia\n",
    "* ```Valance```: medida de la positividad de la canción, niveles más altos indican presencias de mlodías alegres\n",
    "* ```Tempo```: velocidad de la pista, medida en beats por minutos(BPM)\n",
    "* ```Popularity```: puntuación de la canción que mide su popularidad\n",
    "* ```Year```: año de lanzamiento"
   ]
  },
  {
   "cell_type": "markdown",
   "metadata": {},
   "source": "Identificaremos la cantidad de nulos mediante el comando ```isna()```"
  },
  {
   "cell_type": "code",
   "execution_count": 75,
   "metadata": {
    "ExecuteTime": {
     "end_time": "2024-09-27T17:38:51.164480Z",
     "start_time": "2024-09-27T17:38:51.160039Z"
    }
   },
   "outputs": [
    {
     "data": {
      "text/plain": [
       "Track               0\n",
       "Artist              0\n",
       "Duration            0\n",
       "Time_Signature      0\n",
       "Danceability        0\n",
       "Energy              0\n",
       "Key                 0\n",
       "Loudness            0\n",
       "Mode                0\n",
       "Speechiness         0\n",
       "Acousticness        0\n",
       "Instrumentalness    0\n",
       "Liveness            0\n",
       "Valence             0\n",
       "Tempo               0\n",
       "Popularity          0\n",
       "Year                0\n",
       "dtype: int64"
      ]
     },
     "execution_count": 75,
     "metadata": {},
     "output_type": "execute_result"
    }
   ],
   "source": [
    "covers_dataset.isna().sum()"
   ]
  },
  {
   "cell_type": "markdown",
   "metadata": {},
   "source": [
    "Observamos que no hay NaNs, pero esto no descarta la presencia de valores extraños a analizar en las distintas columnas, por lo que verificaremos mediante el método ```value_count()```"
   ]
  },
  {
   "cell_type": "markdown",
   "metadata": {},
   "source": [
    "### <u>Revision de valores<u>"
   ]
  },
  {
   "cell_type": "code",
   "execution_count": 76,
   "metadata": {
    "ExecuteTime": {
     "end_time": "2024-09-27T17:38:51.293602Z",
     "start_time": "2024-09-27T17:38:51.288588Z"
    }
   },
   "outputs": [
    {
     "data": {
      "text/plain": [
       "Track\n",
       "Hold On                    3\n",
       "I’ll Be There              2\n",
       "Crazy                      2\n",
       "Always                     2\n",
       "Everything                 2\n",
       "                          ..\n",
       "I’m Your Angel             1\n",
       "Taking Everything          1\n",
       "What’s It Gonna Be?!       1\n",
       "Almost Doesn’t Count       1\n",
       "It Ain’t My Fault 1 & 2    1\n",
       "Name: count, Length: 892, dtype: int64"
      ]
     },
     "execution_count": 76,
     "metadata": {},
     "output_type": "execute_result"
    }
   ],
   "source": [
    "covers_dataset[\"Track\"].value_counts()"
   ]
  },
  {
   "cell_type": "markdown",
   "metadata": {},
   "source": [
    "En ```Track``` parece no haber presencia de valores raros, si algunos nombres repetidos."
   ]
  },
  {
   "cell_type": "code",
   "execution_count": 77,
   "metadata": {
    "ExecuteTime": {
     "end_time": "2024-09-27T17:38:51.550995Z",
     "start_time": "2024-09-27T17:38:51.545990Z"
    }
   },
   "outputs": [
    {
     "data": {
      "text/plain": [
       "Artist\n",
       "Mariah Carey                       16\n",
       "Madonna                            14\n",
       "Janet Jackson                      13\n",
       "Boyz II Men                        11\n",
       "Whitney Houston                    10\n",
       "                                   ..\n",
       "112 featuring Lil Zane              1\n",
       "LFO                                 1\n",
       "Jive Bunny and the Mastermixers     1\n",
       "Biz Markie                          1\n",
       "the Righteous Brothers              1\n",
       "Name: count, Length: 535, dtype: int64"
      ]
     },
     "execution_count": 77,
     "metadata": {},
     "output_type": "execute_result"
    }
   ],
   "source": [
    "covers_dataset[\"Artist\"].value_counts()"
   ]
  },
  {
   "cell_type": "markdown",
   "metadata": {},
   "source": [
    "Con ```Artist``` parace algo similar, nada extraño a primera vista"
   ]
  },
  {
   "cell_type": "code",
   "execution_count": 78,
   "metadata": {
    "ExecuteTime": {
     "end_time": "2024-09-27T17:38:51.777489Z",
     "start_time": "2024-09-27T17:38:51.773252Z"
    }
   },
   "outputs": [
    {
     "data": {
      "text/plain": [
       "Duration\n",
       "3:48    12\n",
       "3:55    12\n",
       "4:18    11\n",
       "3:59    11\n",
       "3:38    10\n",
       "        ..\n",
       "4:06     1\n",
       "2:55     1\n",
       "2:46     1\n",
       "2:07     1\n",
       "4:46     1\n",
       "Name: count, Length: 253, dtype: int64"
      ]
     },
     "execution_count": 78,
     "metadata": {},
     "output_type": "execute_result"
    }
   ],
   "source": [
    "covers_dataset[\"Duration\"].value_counts()"
   ]
  },
  {
   "cell_type": "markdown",
   "metadata": {},
   "source": [
    "```Duration``` tampoco parece tener valores atípicos, aunque luego abria que convertir el dato a algo numerico."
   ]
  },
  {
   "cell_type": "code",
   "execution_count": 79,
   "metadata": {
    "ExecuteTime": {
     "end_time": "2024-09-27T17:38:51.976264Z",
     "start_time": "2024-09-27T17:38:51.972671Z"
    }
   },
   "outputs": [
    {
     "data": {
      "text/plain": [
       "Time_Signature\n",
       "4    865\n",
       "3     45\n",
       "5      6\n",
       "1      3\n",
       "Name: count, dtype: int64"
      ]
     },
     "execution_count": 79,
     "metadata": {},
     "output_type": "execute_result"
    }
   ],
   "source": [
    "covers_dataset['Time_Signature'].value_counts()"
   ]
  },
  {
   "cell_type": "markdown",
   "metadata": {},
   "source": [
    "```Time_Signature``` parece correcto."
   ]
  },
  {
   "cell_type": "code",
   "metadata": {
    "ExecuteTime": {
     "end_time": "2024-09-27T19:24:31.019012Z",
     "start_time": "2024-09-27T19:24:31.006787Z"
    }
   },
   "source": "covers_dataset['Danceability'].value_counts()",
   "outputs": [
    {
     "data": {
      "text/plain": [
       "Danceability\n",
       "0.648    7\n",
       "0.612    6\n",
       "0.679    6\n",
       "0.547    6\n",
       "0.765    6\n",
       "        ..\n",
       "0.882    1\n",
       "0.465    1\n",
       "0.830    1\n",
       "0.393    1\n",
       "0.600    1\n",
       "Name: count, Length: 462, dtype: int64"
      ]
     },
     "execution_count": 19,
     "metadata": {},
     "output_type": "execute_result"
    }
   ],
   "execution_count": 19
  },
  {
   "cell_type": "markdown",
   "metadata": {},
   "source": "En ```Danceability``` no parece que haya nada raro"
  },
  {
   "cell_type": "code",
   "metadata": {
    "ExecuteTime": {
     "end_time": "2024-09-27T19:30:52.304394Z",
     "start_time": "2024-09-27T19:30:52.295893Z"
    }
   },
   "source": [
    "covers_dataset['Energy'].value_counts()"
   ],
   "outputs": [
    {
     "data": {
      "text/plain": [
       "Energy\n",
       "0.521    8\n",
       "0.453    6\n",
       "0.498    6\n",
       "0.538    6\n",
       "0.611    5\n",
       "        ..\n",
       "0.397    1\n",
       "0.792    1\n",
       "0.844    1\n",
       "0.977    1\n",
       "0.628    1\n",
       "Name: count, Length: 522, dtype: int64"
      ]
     },
     "execution_count": 21,
     "metadata": {},
     "output_type": "execute_result"
    }
   ],
   "execution_count": 21
  },
  {
   "cell_type": "markdown",
   "metadata": {},
   "source": [
    "A primera vista no parece haber valores extraño."
   ]
  },
  {
   "cell_type": "code",
   "execution_count": 83,
   "metadata": {
    "ExecuteTime": {
     "end_time": "2024-09-27T17:38:52.672770Z",
     "start_time": "2024-09-27T17:38:52.669009Z"
    }
   },
   "outputs": [
    {
     "data": {
      "text/plain": [
       "Key\n",
       "1     106\n",
       "7     104\n",
       "5      91\n",
       "9      91\n",
       "0      90\n",
       "6      73\n",
       "11     72\n",
       "10     68\n",
       "2      65\n",
       "4      64\n",
       "8      57\n",
       "3      38\n",
       "Name: count, dtype: int64"
      ]
     },
     "execution_count": 83,
     "metadata": {},
     "output_type": "execute_result"
    }
   ],
   "source": [
    "covers_dataset['Key'].value_counts()"
   ]
  },
  {
   "cell_type": "markdown",
   "metadata": {},
   "source": [
    "Todo parece normal en ```Key```."
   ]
  },
  {
   "cell_type": "code",
   "execution_count": 84,
   "metadata": {
    "ExecuteTime": {
     "end_time": "2024-09-27T17:38:52.842081Z",
     "start_time": "2024-09-27T17:38:52.837421Z"
    }
   },
   "outputs": [
    {
     "data": {
      "text/plain": [
       "Loudness\n",
       "-5.484     3\n",
       "-8.412     3\n",
       "-10.419    3\n",
       "-5.109     3\n",
       "-7.440     3\n",
       "          ..\n",
       "-10.952    1\n",
       "-5.395     1\n",
       "-4.699     1\n",
       "-7.063     1\n",
       "-8.422     1\n",
       "Name: count, Length: 842, dtype: int64"
      ]
     },
     "execution_count": 84,
     "metadata": {},
     "output_type": "execute_result"
    }
   ],
   "source": [
    "covers_dataset['Loudness'].value_counts()"
   ]
  },
  {
   "cell_type": "markdown",
   "metadata": {},
   "source": [
    "Sospechosos los valores que se repiten 3 veces siendo una variable continua pero aceptable..."
   ]
  },
  {
   "cell_type": "code",
   "execution_count": 85,
   "metadata": {
    "ExecuteTime": {
     "end_time": "2024-09-27T17:38:53.033402Z",
     "start_time": "2024-09-27T17:38:53.028924Z"
    }
   },
   "outputs": [
    {
     "data": {
      "text/plain": [
       "Mode\n",
       "1    602\n",
       "0    317\n",
       "Name: count, dtype: int64"
      ]
     },
     "execution_count": 85,
     "metadata": {},
     "output_type": "execute_result"
    }
   ],
   "source": [
    "covers_dataset['Mode'].value_counts()"
   ]
  },
  {
   "cell_type": "markdown",
   "metadata": {},
   "source": [
    "Predominancia del valor de 1 en ```Mode```."
   ]
  },
  {
   "cell_type": "code",
   "execution_count": 86,
   "metadata": {
    "ExecuteTime": {
     "end_time": "2024-09-27T17:38:53.211380Z",
     "start_time": "2024-09-27T17:38:53.206867Z"
    }
   },
   "outputs": [
    {
     "data": {
      "text/plain": [
       "Speechiness\n",
       "0.0352    9\n",
       "0.0321    8\n",
       "0.0270    8\n",
       "0.0277    7\n",
       "0.0279    7\n",
       "         ..\n",
       "0.0670    1\n",
       "0.1550    1\n",
       "0.0383    1\n",
       "0.0384    1\n",
       "0.0632    1\n",
       "Name: count, Length: 488, dtype: int64"
      ]
     },
     "execution_count": 86,
     "metadata": {},
     "output_type": "execute_result"
    }
   ],
   "source": [
    "covers_dataset['Speechiness'].value_counts()"
   ]
  },
  {
   "cell_type": "markdown",
   "metadata": {},
   "source": [
    "Valores repetidos en una variable continua. Candidatos a invertigacion: 0.0352,0.0321,0.0270    "
   ]
  },
  {
   "cell_type": "code",
   "execution_count": 87,
   "metadata": {
    "ExecuteTime": {
     "end_time": "2024-09-27T17:38:53.424206Z",
     "start_time": "2024-09-27T17:38:53.419489Z"
    }
   },
   "outputs": [
    {
     "data": {
      "text/plain": [
       "Acousticness\n",
       "0.11800    5\n",
       "0.21500    5\n",
       "0.13900    4\n",
       "0.20000    4\n",
       "0.11400    4\n",
       "          ..\n",
       "0.48600    1\n",
       "0.00107    1\n",
       "0.06860    1\n",
       "0.01340    1\n",
       "0.85500    1\n",
       "Name: count, Length: 676, dtype: int64"
      ]
     },
     "execution_count": 87,
     "metadata": {},
     "output_type": "execute_result"
    }
   ],
   "source": [
    "covers_dataset['Acousticness'].value_counts()"
   ]
  },
  {
   "cell_type": "markdown",
   "metadata": {},
   "source": [
    "Hay valores repetidos 5 veces, puede investigarse..."
   ]
  },
  {
   "cell_type": "code",
   "execution_count": 88,
   "metadata": {
    "ExecuteTime": {
     "end_time": "2024-09-27T17:38:53.601960Z",
     "start_time": "2024-09-27T17:38:53.597926Z"
    }
   },
   "outputs": [
    {
     "data": {
      "text/plain": [
       "Instrumentalness\n",
       "0.000000    375\n",
       "0.109000      4\n",
       "0.000106      3\n",
       "0.000018      3\n",
       "0.000163      3\n",
       "           ... \n",
       "0.000096      1\n",
       "0.000023      1\n",
       "0.011500      1\n",
       "0.000043      1\n",
       "0.000519      1\n",
       "Name: count, Length: 489, dtype: int64"
      ]
     },
     "execution_count": 88,
     "metadata": {},
     "output_type": "execute_result"
    }
   ],
   "source": [
    "covers_dataset['Instrumentalness'].value_counts()"
   ]
  },
  {
   "cell_type": "markdown",
   "metadata": {},
   "source": [
    "Muchos registros con 0 de ```Instrumentalness```, asumimos que 0 significa que la cancion es \"Acapella\" valores altos de ```instrumentalness``` como bien describimos al principio corresponden o \"deberian\" corresponder a canciones con mayor presencia instrumental. Mientras que valores menores indican lo contrario. Resaltamos el ```deberia``` porque investigando algunas canciones con valores ```instrumentalness``` estas si poseen instrumentacion."
   ]
  },
  {
   "cell_type": "code",
   "execution_count": 89,
   "metadata": {
    "ExecuteTime": {
     "end_time": "2024-09-27T17:38:53.783153Z",
     "start_time": "2024-09-27T17:38:53.779763Z"
    }
   },
   "outputs": [
    {
     "data": {
      "text/plain": [
       "np.float64(0.987)"
      ]
     },
     "execution_count": 89,
     "metadata": {},
     "output_type": "execute_result"
    }
   ],
   "source": [
    "covers_dataset['Instrumentalness'].max()"
   ]
  },
  {
   "cell_type": "code",
   "execution_count": 90,
   "metadata": {
    "ExecuteTime": {
     "end_time": "2024-09-27T17:38:53.984276Z",
     "start_time": "2024-09-27T17:38:53.979327Z"
    }
   },
   "outputs": [
    {
     "data": {
      "text/plain": [
       "Liveness\n",
       "0.1090    14\n",
       "0.1080    13\n",
       "0.1040    12\n",
       "0.1060    11\n",
       "0.1030    11\n",
       "          ..\n",
       "0.0476     1\n",
       "0.0933     1\n",
       "0.0630     1\n",
       "0.0613     1\n",
       "0.0779     1\n",
       "Name: count, Length: 499, dtype: int64"
      ]
     },
     "execution_count": 90,
     "metadata": {},
     "output_type": "execute_result"
    }
   ],
   "source": [
    "covers_dataset['Liveness'].value_counts()"
   ]
  },
  {
   "cell_type": "markdown",
   "metadata": {},
   "source": [
    "A primera vista no sabemos bien la razon pero en ```Liveness``` hay valores repetidos en 0.1xxx osea todos los valores que son 0.1 y algo mas."
   ]
  },
  {
   "cell_type": "code",
   "execution_count": 91,
   "metadata": {
    "ExecuteTime": {
     "end_time": "2024-09-27T17:38:54.094211Z",
     "start_time": "2024-09-27T17:38:54.090086Z"
    }
   },
   "outputs": [
    {
     "data": {
      "text/plain": [
       "Valence\n",
       "0.287    6\n",
       "0.781    5\n",
       "0.510    5\n",
       "0.421    5\n",
       "0.144    5\n",
       "        ..\n",
       "0.342    1\n",
       "0.550    1\n",
       "0.796    1\n",
       "0.624    1\n",
       "0.960    1\n",
       "Name: count, Length: 570, dtype: int64"
      ]
     },
     "execution_count": 91,
     "metadata": {},
     "output_type": "execute_result"
    }
   ],
   "source": [
    "covers_dataset['Valence'].value_counts()"
   ]
  },
  {
   "cell_type": "markdown",
   "metadata": {},
   "source": [
    "Algunos valores repetidos en ```Valence``` pero zafa..."
   ]
  },
  {
   "cell_type": "code",
   "execution_count": 92,
   "metadata": {
    "ExecuteTime": {
     "end_time": "2024-09-27T17:38:54.238235Z",
     "start_time": "2024-09-27T17:38:54.233312Z"
    }
   },
   "outputs": [
    {
     "data": {
      "text/plain": [
       "Tempo\n",
       "118.777    3\n",
       "100.002    3\n",
       "83.943     2\n",
       "118.402    2\n",
       "119.973    2\n",
       "          ..\n",
       "98.572     1\n",
       "113.722    1\n",
       "127.969    1\n",
       "71.582     1\n",
       "132.889    1\n",
       "Name: count, Length: 873, dtype: int64"
      ]
     },
     "execution_count": 92,
     "metadata": {},
     "output_type": "execute_result"
    }
   ],
   "source": [
    "covers_dataset['Tempo'].value_counts()"
   ]
  },
  {
   "cell_type": "markdown",
   "metadata": {},
   "source": [
    "Aceptable, quizas los valores 118.777 y 100.002 podrian revisarse, tampoco que se repitan tanto en ```Tempo```"
   ]
  },
  {
   "cell_type": "code",
   "execution_count": 93,
   "metadata": {
    "ExecuteTime": {
     "end_time": "2024-09-27T17:38:54.427033Z",
     "start_time": "2024-09-27T17:38:54.422833Z"
    }
   },
   "outputs": [
    {
     "data": {
      "text/plain": [
       "Popularity\n",
       "59    30\n",
       "69    28\n",
       "57    27\n",
       "64    27\n",
       "63    27\n",
       "      ..\n",
       "4      1\n",
       "16     1\n",
       "92     1\n",
       "89     1\n",
       "25     1\n",
       "Name: count, Length: 82, dtype: int64"
      ]
     },
     "execution_count": 93,
     "metadata": {},
     "output_type": "execute_result"
    }
   ],
   "source": [
    "covers_dataset['Popularity'].value_counts()"
   ]
  },
  {
   "cell_type": "markdown",
   "metadata": {},
   "source": [
    "Variable discreta asi que esta bien que se repitan cosas. Tampoco exageremos!"
   ]
  },
  {
   "cell_type": "code",
   "execution_count": 94,
   "metadata": {
    "ExecuteTime": {
     "end_time": "2024-09-27T17:38:54.601511Z",
     "start_time": "2024-09-27T17:38:54.597507Z"
    }
   },
   "outputs": [
    {
     "data": {
      "text/plain": [
       "Year\n",
       "1991    100\n",
       "1990     99\n",
       "1999     96\n",
       "1992     95\n",
       "1993     94\n",
       "1994     91\n",
       "1998     91\n",
       "1997     89\n",
       "1995     86\n",
       "1996     78\n",
       "Name: count, dtype: int64"
      ]
     },
     "execution_count": 94,
     "metadata": {},
     "output_type": "execute_result"
    }
   ],
   "source": [
    "covers_dataset['Year'].value_counts()"
   ]
  },
  {
   "cell_type": "markdown",
   "metadata": {},
   "source": [
    "Vemos que todas las canciones son de los '90, pero nada extraño que destacar."
   ]
  },
  {
   "cell_type": "markdown",
   "metadata": {},
   "source": [
    "**Nota: Relacionar las variables Valance y Tempo(¿la velocidad se relaciona a la positividad de la canción?)**"
   ]
  },
  {
   "cell_type": "markdown",
   "metadata": {},
   "source": [
    "### <u>Corrección de tipos<u> "
   ]
  },
  {
   "cell_type": "markdown",
   "metadata": {},
   "source": [
    " Ahora nos ocuparemos de comprobar que los tipos de las variables sean adecuados a lo que representan. Para ello, usamos el método ```info()```"
   ]
  },
  {
   "cell_type": "code",
   "execution_count": 95,
   "metadata": {
    "ExecuteTime": {
     "end_time": "2024-09-27T17:38:54.783983Z",
     "start_time": "2024-09-27T17:38:54.778183Z"
    }
   },
   "outputs": [
    {
     "name": "stdout",
     "output_type": "stream",
     "text": [
      "<class 'pandas.core.frame.DataFrame'>\n",
      "RangeIndex: 919 entries, 0 to 918\n",
      "Data columns (total 17 columns):\n",
      " #   Column            Non-Null Count  Dtype  \n",
      "---  ------            --------------  -----  \n",
      " 0   Track             919 non-null    object \n",
      " 1   Artist            919 non-null    object \n",
      " 2   Duration          919 non-null    object \n",
      " 3   Time_Signature    919 non-null    int64  \n",
      " 4   Danceability      919 non-null    float64\n",
      " 5   Energy            919 non-null    float64\n",
      " 6   Key               919 non-null    int64  \n",
      " 7   Loudness          919 non-null    float64\n",
      " 8   Mode              919 non-null    int64  \n",
      " 9   Speechiness       919 non-null    float64\n",
      " 10  Acousticness      919 non-null    float64\n",
      " 11  Instrumentalness  919 non-null    float64\n",
      " 12  Liveness          919 non-null    float64\n",
      " 13  Valence           919 non-null    float64\n",
      " 14  Tempo             919 non-null    float64\n",
      " 15  Popularity        919 non-null    int64  \n",
      " 16  Year              919 non-null    int64  \n",
      "dtypes: float64(9), int64(5), object(3)\n",
      "memory usage: 122.2+ KB\n"
     ]
    }
   ],
   "source": [
    "covers_dataset.info()"
   ]
  },
  {
   "cell_type": "markdown",
   "metadata": {},
   "source": [
    "Hacemos una copia mediante el método ```copy()``` para no arruinar el dataset original"
   ]
  },
  {
   "cell_type": "code",
   "metadata": {
    "ExecuteTime": {
     "end_time": "2024-09-27T19:51:58.518313Z",
     "start_time": "2024-09-27T19:51:58.515249Z"
    }
   },
   "source": [
    "copy_covers_ds = covers_dataset.copy()"
   ],
   "outputs": [],
   "execution_count": 69
  },
  {
   "cell_type": "markdown",
   "metadata": {},
   "source": "Convertimos el tipo de dato de la columna ```Mode``` de entero a cadena de caracteres para hacer el análisis"
  },
  {
   "cell_type": "code",
   "metadata": {
    "ExecuteTime": {
     "end_time": "2024-09-27T19:51:59.915906Z",
     "start_time": "2024-09-27T19:51:59.910918Z"
    }
   },
   "source": [
    "copy_covers_ds['Mode'] = copy_covers_ds['Mode'].replace({0: 'Escala Menor', 1: 'Escala Mayor'})\n",
    "copy_covers_ds['Mode'] = copy_covers_ds['Mode'].astype(str)"
   ],
   "outputs": [],
   "execution_count": 70
  },
  {
   "cell_type": "markdown",
   "metadata": {},
   "source": [
    "Ahora nos centraremos en arreglar el tipo de la variable ```Duration```, convirtiendolo de string a integer(segundos)"
   ]
  },
  {
   "cell_type": "code",
   "metadata": {
    "ExecuteTime": {
     "end_time": "2024-09-27T19:52:01.021130Z",
     "start_time": "2024-09-27T19:52:00.967852Z"
    }
   },
   "source": [
    "#Por las dudas hacemos un cambio de tipos a string.\n",
    "copy_covers_ds['Duration'] = copy_covers_ds['Duration'].astype(str)\n",
    "#Creamos la nueva columna con los valores correctos convertidos a segundos(todavia no estan los valores).\n",
    "copy_covers_ds['DURATION(s)'] = 0\n",
    "#Por cada registro hacemos:\n",
    "for index,row in copy_covers_ds.iterrows():\n",
    "    #duracion original se vuelve el valor de duracion de la fila.\n",
    "    duracion_original = row['Duration']\n",
    "    #Separamos por : los minutos y segundos.\n",
    "    minutos , segundos = duracion_original.split(':')\n",
    "    #Asignamos los minutos * 60 + los segundos obtenidos a la fila en la columna nueva, casteamos ambos parametros a segundos porque sino hace cualquier cosa.\n",
    "    copy_covers_ds.at[index,'DURATION(s)'] = int(minutos) * 60 + int(segundos)\n",
    "#Mostramos resultados.\n",
    "copy_covers_ds.head()"
   ],
   "outputs": [
    {
     "data": {
      "text/plain": [
       "                 Track          Artist Duration  Time_Signature  Danceability  \\\n",
       "0  Everybody Everybody       Black Box     4:11               4         0.645   \n",
       "1         Close To You     Maxi Priest     3:45               4         0.590   \n",
       "2               Do Me!  Bell Biv DeVoe     3:56               4         0.615   \n",
       "3           Everything     Jody Watley     4:05               4         0.704   \n",
       "4        What It Takes       Aerosmith     3:21               4         0.672   \n",
       "\n",
       "   Energy  Key  Loudness          Mode  Speechiness  Acousticness  \\\n",
       "0   0.795    7   -12.095  Escala Mayor       0.0527        0.3470   \n",
       "1   0.727    6    -7.955  Escala Mayor       0.0706        0.0259   \n",
       "2   0.534    9    -6.719  Escala Menor       0.0386        0.1060   \n",
       "3   0.225    6   -14.454  Escala Menor       0.0994        0.9020   \n",
       "4   0.655   10    -5.021  Escala Menor       0.0310        0.0362   \n",
       "\n",
       "   Instrumentalness  Liveness  Valence    Tempo  Popularity  Year  DURATION(s)  \n",
       "0          0.003890    0.1040    0.535  112.067          87  1990          251  \n",
       "1          0.000065    0.0827    0.356  121.966          85  1990          225  \n",
       "2          0.000018    0.0607    0.193  135.917          84  1990          236  \n",
       "3          0.657000    0.1060    0.243  120.006          82  1990          245  \n",
       "4          0.000000    0.1170    0.555  134.948          82  1990          201  "
      ],
      "text/html": [
       "<div>\n",
       "<style scoped>\n",
       "    .dataframe tbody tr th:only-of-type {\n",
       "        vertical-align: middle;\n",
       "    }\n",
       "\n",
       "    .dataframe tbody tr th {\n",
       "        vertical-align: top;\n",
       "    }\n",
       "\n",
       "    .dataframe thead th {\n",
       "        text-align: right;\n",
       "    }\n",
       "</style>\n",
       "<table border=\"1\" class=\"dataframe\">\n",
       "  <thead>\n",
       "    <tr style=\"text-align: right;\">\n",
       "      <th></th>\n",
       "      <th>Track</th>\n",
       "      <th>Artist</th>\n",
       "      <th>Duration</th>\n",
       "      <th>Time_Signature</th>\n",
       "      <th>Danceability</th>\n",
       "      <th>Energy</th>\n",
       "      <th>Key</th>\n",
       "      <th>Loudness</th>\n",
       "      <th>Mode</th>\n",
       "      <th>Speechiness</th>\n",
       "      <th>Acousticness</th>\n",
       "      <th>Instrumentalness</th>\n",
       "      <th>Liveness</th>\n",
       "      <th>Valence</th>\n",
       "      <th>Tempo</th>\n",
       "      <th>Popularity</th>\n",
       "      <th>Year</th>\n",
       "      <th>DURATION(s)</th>\n",
       "    </tr>\n",
       "  </thead>\n",
       "  <tbody>\n",
       "    <tr>\n",
       "      <th>0</th>\n",
       "      <td>Everybody Everybody</td>\n",
       "      <td>Black Box</td>\n",
       "      <td>4:11</td>\n",
       "      <td>4</td>\n",
       "      <td>0.645</td>\n",
       "      <td>0.795</td>\n",
       "      <td>7</td>\n",
       "      <td>-12.095</td>\n",
       "      <td>Escala Mayor</td>\n",
       "      <td>0.0527</td>\n",
       "      <td>0.3470</td>\n",
       "      <td>0.003890</td>\n",
       "      <td>0.1040</td>\n",
       "      <td>0.535</td>\n",
       "      <td>112.067</td>\n",
       "      <td>87</td>\n",
       "      <td>1990</td>\n",
       "      <td>251</td>\n",
       "    </tr>\n",
       "    <tr>\n",
       "      <th>1</th>\n",
       "      <td>Close To You</td>\n",
       "      <td>Maxi Priest</td>\n",
       "      <td>3:45</td>\n",
       "      <td>4</td>\n",
       "      <td>0.590</td>\n",
       "      <td>0.727</td>\n",
       "      <td>6</td>\n",
       "      <td>-7.955</td>\n",
       "      <td>Escala Mayor</td>\n",
       "      <td>0.0706</td>\n",
       "      <td>0.0259</td>\n",
       "      <td>0.000065</td>\n",
       "      <td>0.0827</td>\n",
       "      <td>0.356</td>\n",
       "      <td>121.966</td>\n",
       "      <td>85</td>\n",
       "      <td>1990</td>\n",
       "      <td>225</td>\n",
       "    </tr>\n",
       "    <tr>\n",
       "      <th>2</th>\n",
       "      <td>Do Me!</td>\n",
       "      <td>Bell Biv DeVoe</td>\n",
       "      <td>3:56</td>\n",
       "      <td>4</td>\n",
       "      <td>0.615</td>\n",
       "      <td>0.534</td>\n",
       "      <td>9</td>\n",
       "      <td>-6.719</td>\n",
       "      <td>Escala Menor</td>\n",
       "      <td>0.0386</td>\n",
       "      <td>0.1060</td>\n",
       "      <td>0.000018</td>\n",
       "      <td>0.0607</td>\n",
       "      <td>0.193</td>\n",
       "      <td>135.917</td>\n",
       "      <td>84</td>\n",
       "      <td>1990</td>\n",
       "      <td>236</td>\n",
       "    </tr>\n",
       "    <tr>\n",
       "      <th>3</th>\n",
       "      <td>Everything</td>\n",
       "      <td>Jody Watley</td>\n",
       "      <td>4:05</td>\n",
       "      <td>4</td>\n",
       "      <td>0.704</td>\n",
       "      <td>0.225</td>\n",
       "      <td>6</td>\n",
       "      <td>-14.454</td>\n",
       "      <td>Escala Menor</td>\n",
       "      <td>0.0994</td>\n",
       "      <td>0.9020</td>\n",
       "      <td>0.657000</td>\n",
       "      <td>0.1060</td>\n",
       "      <td>0.243</td>\n",
       "      <td>120.006</td>\n",
       "      <td>82</td>\n",
       "      <td>1990</td>\n",
       "      <td>245</td>\n",
       "    </tr>\n",
       "    <tr>\n",
       "      <th>4</th>\n",
       "      <td>What It Takes</td>\n",
       "      <td>Aerosmith</td>\n",
       "      <td>3:21</td>\n",
       "      <td>4</td>\n",
       "      <td>0.672</td>\n",
       "      <td>0.655</td>\n",
       "      <td>10</td>\n",
       "      <td>-5.021</td>\n",
       "      <td>Escala Menor</td>\n",
       "      <td>0.0310</td>\n",
       "      <td>0.0362</td>\n",
       "      <td>0.000000</td>\n",
       "      <td>0.1170</td>\n",
       "      <td>0.555</td>\n",
       "      <td>134.948</td>\n",
       "      <td>82</td>\n",
       "      <td>1990</td>\n",
       "      <td>201</td>\n",
       "    </tr>\n",
       "  </tbody>\n",
       "</table>\n",
       "</div>"
      ]
     },
     "execution_count": 71,
     "metadata": {},
     "output_type": "execute_result"
    }
   ],
   "execution_count": 71
  },
  {
   "cell_type": "markdown",
   "metadata": {},
   "source": [
    "### <u>Analisis de distribuciones<u>\n",
    "\n"
   ]
  },
  {
   "cell_type": "markdown",
   "metadata": {},
   "source": [
    "Ahora observaremos como se distribuye cada variable para poder aprender un poco sobre el conjunto de datos y obtener conclusiones. Tomaremos las variables más interesantes para analizar y cuyo gráfico nos pueda aportar algo de valor"
   ]
  },
  {
   "cell_type": "markdown",
   "metadata": {},
   "source": "# Analisis de ```Danceability```"
  },
  {
   "metadata": {},
   "cell_type": "markdown",
   "source": "Con el método ```value_counts()``` no se vió nada extraño. Por lo tanto, vamos a hacer un boxplot para ver mas en detalle la distribución de la variable."
  },
  {
   "cell_type": "code",
   "metadata": {
    "ExecuteTime": {
     "end_time": "2024-09-27T19:52:03.166721Z",
     "start_time": "2024-09-27T19:52:03.083031Z"
    }
   },
   "source": [
    "# Nos quedamos solo con la columna Danceability\n",
    "danceability = covers_dataset[\"Danceability\"]\n",
    "\n",
    "# Creamos el boxplot\n",
    "plt.figure(figsize=(8, 6))\n",
    "sns.boxplot(x=danceability)\n",
    "plt.title(\"Boxplot de Danceability\")\n",
    "plt.xlabel(\"Danceability\")\n",
    "plt.show()"
   ],
   "outputs": [
    {
     "data": {
      "text/plain": [
       "<Figure size 800x600 with 1 Axes>"
      ],
      "image/png": "[encoded data removed]"
     },
     "metadata": {},
     "output_type": "display_data"
    }
   ],
   "execution_count": 72
  },
  {
   "cell_type": "code",
   "metadata": {
    "ExecuteTime": {
     "end_time": "2024-09-27T19:52:04.882546Z",
     "start_time": "2024-09-27T19:52:04.873538Z"
    }
   },
   "source": [
    "min = copy_covers_ds[\"Danceability\"].min()\n",
    "copy_covers_ds[copy_covers_ds[\"Danceability\"] == min]"
   ],
   "outputs": [
    {
     "data": {
      "text/plain": [
       "         Track       Artist Duration  Time_Signature  Danceability   Energy  \\\n",
       "323  Connected  Stereo MC’s     3:16               4         0.135  0.00134   \n",
       "\n",
       "     Key  Loudness          Mode  Speechiness  Acousticness  Instrumentalness  \\\n",
       "323    2    -42.95  Escala Mayor       0.0496         0.969             0.972   \n",
       "\n",
       "     Liveness  Valence    Tempo  Popularity  Year  DURATION(s)  \n",
       "323    0.0884   0.0372  141.488          66  1993          196  "
      ],
      "text/html": [
       "<div>\n",
       "<style scoped>\n",
       "    .dataframe tbody tr th:only-of-type {\n",
       "        vertical-align: middle;\n",
       "    }\n",
       "\n",
       "    .dataframe tbody tr th {\n",
       "        vertical-align: top;\n",
       "    }\n",
       "\n",
       "    .dataframe thead th {\n",
       "        text-align: right;\n",
       "    }\n",
       "</style>\n",
       "<table border=\"1\" class=\"dataframe\">\n",
       "  <thead>\n",
       "    <tr style=\"text-align: right;\">\n",
       "      <th></th>\n",
       "      <th>Track</th>\n",
       "      <th>Artist</th>\n",
       "      <th>Duration</th>\n",
       "      <th>Time_Signature</th>\n",
       "      <th>Danceability</th>\n",
       "      <th>Energy</th>\n",
       "      <th>Key</th>\n",
       "      <th>Loudness</th>\n",
       "      <th>Mode</th>\n",
       "      <th>Speechiness</th>\n",
       "      <th>Acousticness</th>\n",
       "      <th>Instrumentalness</th>\n",
       "      <th>Liveness</th>\n",
       "      <th>Valence</th>\n",
       "      <th>Tempo</th>\n",
       "      <th>Popularity</th>\n",
       "      <th>Year</th>\n",
       "      <th>DURATION(s)</th>\n",
       "    </tr>\n",
       "  </thead>\n",
       "  <tbody>\n",
       "    <tr>\n",
       "      <th>323</th>\n",
       "      <td>Connected</td>\n",
       "      <td>Stereo MC’s</td>\n",
       "      <td>3:16</td>\n",
       "      <td>4</td>\n",
       "      <td>0.135</td>\n",
       "      <td>0.00134</td>\n",
       "      <td>2</td>\n",
       "      <td>-42.95</td>\n",
       "      <td>Escala Mayor</td>\n",
       "      <td>0.0496</td>\n",
       "      <td>0.969</td>\n",
       "      <td>0.972</td>\n",
       "      <td>0.0884</td>\n",
       "      <td>0.0372</td>\n",
       "      <td>141.488</td>\n",
       "      <td>66</td>\n",
       "      <td>1993</td>\n",
       "      <td>196</td>\n",
       "    </tr>\n",
       "  </tbody>\n",
       "</table>\n",
       "</div>"
      ]
     },
     "execution_count": 73,
     "metadata": {},
     "output_type": "execute_result"
    }
   ],
   "execution_count": 73
  },
  {
   "cell_type": "markdown",
   "metadata": {},
   "source": [
    "Parece que hay unos valores del lado izquierdo, podrian ser posibles outliers. "
   ]
  },
  {
   "cell_type": "markdown",
   "metadata": {},
   "source": [
    "Podemos observar esta distribución de una forma más clara mediante un histograma"
   ]
  },
  {
   "cell_type": "code",
   "metadata": {
    "ExecuteTime": {
     "end_time": "2024-09-27T19:52:06.111506Z",
     "start_time": "2024-09-27T19:52:05.997762Z"
    }
   },
   "source": [
    "bins = 40\n",
    "\n",
    "plt.hist(copy_covers_ds['Danceability'], bins = bins)\n",
    "\n",
    "plt.xlabel('Danceability')\n",
    "plt.ylabel('Cantidad de canciones')\n",
    "plt.title('Histograma de la bailabilidad')\n",
    "plt.show()"
   ],
   "outputs": [
    {
     "data": {
      "text/plain": [
       "<Figure size 640x480 with 1 Axes>"
      ],
      "image/png": "[encoded data removed]"
     },
     "metadata": {},
     "output_type": "display_data"
    }
   ],
   "execution_count": 74
  },
  {
   "metadata": {
    "ExecuteTime": {
     "end_time": "2024-09-27T19:52:08.821847Z",
     "start_time": "2024-09-27T19:52:08.811022Z"
    }
   },
   "cell_type": "code",
   "source": [
    "#Vamos a mirar quiénes son las canciones que son poco bailables\n",
    "poco_bailables = copy_covers_ds[copy_covers_ds[\"Danceability\"] < 0.2]\n",
    "poco_bailables"
   ],
   "outputs": [
    {
     "data": {
      "text/plain": [
       "          Track                              Artist Duration  Time_Signature  \\\n",
       "53   Release Me                     Wilson Phillips     2:49               1   \n",
       "323   Connected                         Stereo MC’s     3:16               4   \n",
       "336     Dre Day  Dr. Dre featuring Snoop Doggy Dogg     1:55               4   \n",
       "394      Always                            Bon Jovi     3:43               4   \n",
       "395      Always                             Erasure     3:43               4   \n",
       "544  Ask Of You                      Raphael Saadiq     4:54               3   \n",
       "762      Frozen                             Madonna     2:41               4   \n",
       "\n",
       "     Danceability   Energy  Key  Loudness          Mode  Speechiness  \\\n",
       "53          0.152  0.00504    0   -34.183  Escala Mayor       0.0432   \n",
       "323         0.135  0.00134    2   -42.950  Escala Mayor       0.0496   \n",
       "336         0.188  0.84700    8    -3.268  Escala Mayor       0.0340   \n",
       "394         0.174  0.74200    8    -5.930  Escala Mayor       0.0485   \n",
       "395         0.174  0.74200    8    -5.930  Escala Mayor       0.0485   \n",
       "544         0.194  0.11900    1   -20.926  Escala Mayor       0.0398   \n",
       "762         0.179  0.00580    0   -37.260  Escala Mayor       0.0481   \n",
       "\n",
       "     Acousticness  Instrumentalness  Liveness  Valence    Tempo  Popularity  \\\n",
       "53        0.95300          0.928000    0.1020   0.0303  136.702          57   \n",
       "323       0.96900          0.972000    0.0884   0.0372  141.488          66   \n",
       "336       0.07680          0.320000    0.1210   0.3890   88.494          61   \n",
       "394       0.00181          0.281000    0.1980   0.3600  163.378          78   \n",
       "395       0.00181          0.281000    0.1980   0.3600  163.378          78   \n",
       "544       0.85400          0.000737    0.1090   0.1400   85.698          52   \n",
       "762       0.92400          0.929000    0.1060   0.0314   72.177          67   \n",
       "\n",
       "     Year  DURATION(s)  \n",
       "53   1990          169  \n",
       "323  1993          196  \n",
       "336  1993          115  \n",
       "394  1994          223  \n",
       "395  1994          223  \n",
       "544  1995          294  \n",
       "762  1998          161  "
      ],
      "text/html": [
       "<div>\n",
       "<style scoped>\n",
       "    .dataframe tbody tr th:only-of-type {\n",
       "        vertical-align: middle;\n",
       "    }\n",
       "\n",
       "    .dataframe tbody tr th {\n",
       "        vertical-align: top;\n",
       "    }\n",
       "\n",
       "    .dataframe thead th {\n",
       "        text-align: right;\n",
       "    }\n",
       "</style>\n",
       "<table border=\"1\" class=\"dataframe\">\n",
       "  <thead>\n",
       "    <tr style=\"text-align: right;\">\n",
       "      <th></th>\n",
       "      <th>Track</th>\n",
       "      <th>Artist</th>\n",
       "      <th>Duration</th>\n",
       "      <th>Time_Signature</th>\n",
       "      <th>Danceability</th>\n",
       "      <th>Energy</th>\n",
       "      <th>Key</th>\n",
       "      <th>Loudness</th>\n",
       "      <th>Mode</th>\n",
       "      <th>Speechiness</th>\n",
       "      <th>Acousticness</th>\n",
       "      <th>Instrumentalness</th>\n",
       "      <th>Liveness</th>\n",
       "      <th>Valence</th>\n",
       "      <th>Tempo</th>\n",
       "      <th>Popularity</th>\n",
       "      <th>Year</th>\n",
       "      <th>DURATION(s)</th>\n",
       "    </tr>\n",
       "  </thead>\n",
       "  <tbody>\n",
       "    <tr>\n",
       "      <th>53</th>\n",
       "      <td>Release Me</td>\n",
       "      <td>Wilson Phillips</td>\n",
       "      <td>2:49</td>\n",
       "      <td>1</td>\n",
       "      <td>0.152</td>\n",
       "      <td>0.00504</td>\n",
       "      <td>0</td>\n",
       "      <td>-34.183</td>\n",
       "      <td>Escala Mayor</td>\n",
       "      <td>0.0432</td>\n",
       "      <td>0.95300</td>\n",
       "      <td>0.928000</td>\n",
       "      <td>0.1020</td>\n",
       "      <td>0.0303</td>\n",
       "      <td>136.702</td>\n",
       "      <td>57</td>\n",
       "      <td>1990</td>\n",
       "      <td>169</td>\n",
       "    </tr>\n",
       "    <tr>\n",
       "      <th>323</th>\n",
       "      <td>Connected</td>\n",
       "      <td>Stereo MC’s</td>\n",
       "      <td>3:16</td>\n",
       "      <td>4</td>\n",
       "      <td>0.135</td>\n",
       "      <td>0.00134</td>\n",
       "      <td>2</td>\n",
       "      <td>-42.950</td>\n",
       "      <td>Escala Mayor</td>\n",
       "      <td>0.0496</td>\n",
       "      <td>0.96900</td>\n",
       "      <td>0.972000</td>\n",
       "      <td>0.0884</td>\n",
       "      <td>0.0372</td>\n",
       "      <td>141.488</td>\n",
       "      <td>66</td>\n",
       "      <td>1993</td>\n",
       "      <td>196</td>\n",
       "    </tr>\n",
       "    <tr>\n",
       "      <th>336</th>\n",
       "      <td>Dre Day</td>\n",
       "      <td>Dr. Dre featuring Snoop Doggy Dogg</td>\n",
       "      <td>1:55</td>\n",
       "      <td>4</td>\n",
       "      <td>0.188</td>\n",
       "      <td>0.84700</td>\n",
       "      <td>8</td>\n",
       "      <td>-3.268</td>\n",
       "      <td>Escala Mayor</td>\n",
       "      <td>0.0340</td>\n",
       "      <td>0.07680</td>\n",
       "      <td>0.320000</td>\n",
       "      <td>0.1210</td>\n",
       "      <td>0.3890</td>\n",
       "      <td>88.494</td>\n",
       "      <td>61</td>\n",
       "      <td>1993</td>\n",
       "      <td>115</td>\n",
       "    </tr>\n",
       "    <tr>\n",
       "      <th>394</th>\n",
       "      <td>Always</td>\n",
       "      <td>Bon Jovi</td>\n",
       "      <td>3:43</td>\n",
       "      <td>4</td>\n",
       "      <td>0.174</td>\n",
       "      <td>0.74200</td>\n",
       "      <td>8</td>\n",
       "      <td>-5.930</td>\n",
       "      <td>Escala Mayor</td>\n",
       "      <td>0.0485</td>\n",
       "      <td>0.00181</td>\n",
       "      <td>0.281000</td>\n",
       "      <td>0.1980</td>\n",
       "      <td>0.3600</td>\n",
       "      <td>163.378</td>\n",
       "      <td>78</td>\n",
       "      <td>1994</td>\n",
       "      <td>223</td>\n",
       "    </tr>\n",
       "    <tr>\n",
       "      <th>395</th>\n",
       "      <td>Always</td>\n",
       "      <td>Erasure</td>\n",
       "      <td>3:43</td>\n",
       "      <td>4</td>\n",
       "      <td>0.174</td>\n",
       "      <td>0.74200</td>\n",
       "      <td>8</td>\n",
       "      <td>-5.930</td>\n",
       "      <td>Escala Mayor</td>\n",
       "      <td>0.0485</td>\n",
       "      <td>0.00181</td>\n",
       "      <td>0.281000</td>\n",
       "      <td>0.1980</td>\n",
       "      <td>0.3600</td>\n",
       "      <td>163.378</td>\n",
       "      <td>78</td>\n",
       "      <td>1994</td>\n",
       "      <td>223</td>\n",
       "    </tr>\n",
       "    <tr>\n",
       "      <th>544</th>\n",
       "      <td>Ask Of You</td>\n",
       "      <td>Raphael Saadiq</td>\n",
       "      <td>4:54</td>\n",
       "      <td>3</td>\n",
       "      <td>0.194</td>\n",
       "      <td>0.11900</td>\n",
       "      <td>1</td>\n",
       "      <td>-20.926</td>\n",
       "      <td>Escala Mayor</td>\n",
       "      <td>0.0398</td>\n",
       "      <td>0.85400</td>\n",
       "      <td>0.000737</td>\n",
       "      <td>0.1090</td>\n",
       "      <td>0.1400</td>\n",
       "      <td>85.698</td>\n",
       "      <td>52</td>\n",
       "      <td>1995</td>\n",
       "      <td>294</td>\n",
       "    </tr>\n",
       "    <tr>\n",
       "      <th>762</th>\n",
       "      <td>Frozen</td>\n",
       "      <td>Madonna</td>\n",
       "      <td>2:41</td>\n",
       "      <td>4</td>\n",
       "      <td>0.179</td>\n",
       "      <td>0.00580</td>\n",
       "      <td>0</td>\n",
       "      <td>-37.260</td>\n",
       "      <td>Escala Mayor</td>\n",
       "      <td>0.0481</td>\n",
       "      <td>0.92400</td>\n",
       "      <td>0.929000</td>\n",
       "      <td>0.1060</td>\n",
       "      <td>0.0314</td>\n",
       "      <td>72.177</td>\n",
       "      <td>67</td>\n",
       "      <td>1998</td>\n",
       "      <td>161</td>\n",
       "    </tr>\n",
       "  </tbody>\n",
       "</table>\n",
       "</div>"
      ]
     },
     "execution_count": 75,
     "metadata": {},
     "output_type": "execute_result"
    }
   ],
   "execution_count": 75
  },
  {
   "metadata": {},
   "cell_type": "markdown",
   "source": "Podemos ver que, por ejemplo, \"Frozen\" de Madonna es una canción poco bailable. En particular, 3 de las 7 canciones menos bailables son también poco enérgicas, por lo que valdría la pena en un futuro análisis corroborar si existe una correlación fuerte entre ```Danceability``` y ```Energy```"
  },
  {
   "cell_type": "markdown",
   "metadata": {},
   "source": [
    "# Analisis de ```Duration```"
   ]
  },
  {
   "cell_type": "code",
   "metadata": {
    "ExecuteTime": {
     "end_time": "2024-09-27T19:52:19.970835Z",
     "start_time": "2024-09-27T19:52:19.849979Z"
    }
   },
   "source": [
    "bins = 40\n",
    "\n",
    "plt.hist(copy_covers_ds['DURATION(s)'], bins = bins)\n",
    "\n",
    "plt.xlabel('Duración (s)')\n",
    "plt.ylabel('Cantidad de canciones')\n",
    "plt.title('Histograma de duración de las canciones')\n",
    "plt.xticks(range(0, 450, 50))\n",
    "plt.show()"
   ],
   "outputs": [
    {
     "data": {
      "text/plain": [
       "<Figure size 640x480 with 1 Axes>"
      ],
      "image/png": "[encoded data removed]"
     },
     "metadata": {},
     "output_type": "display_data"
    }
   ],
   "execution_count": 76
  },
  {
   "cell_type": "markdown",
   "metadata": {},
   "source": [
    "Se puede ver que la mayoría de las canciones duran entre 150 y 300 segundos(2:30 y 5:00 minutos). Hay algunos outliers que superan los 500 segundos(8:33 minutos) y hay que corroborrar que sean correctos"
   ]
  },
  {
   "cell_type": "code",
   "execution_count": 103,
   "metadata": {
    "ExecuteTime": {
     "end_time": "2024-09-27T17:38:55.925642Z",
     "start_time": "2024-09-27T17:38:55.915194Z"
    }
   },
   "outputs": [
    {
     "data": {
      "text/html": [
       "<div>\n",
       "<style scoped>\n",
       "    .dataframe tbody tr th:only-of-type {\n",
       "        vertical-align: middle;\n",
       "    }\n",
       "\n",
       "    .dataframe tbody tr th {\n",
       "        vertical-align: top;\n",
       "    }\n",
       "\n",
       "    .dataframe thead th {\n",
       "        text-align: right;\n",
       "    }\n",
       "</style>\n",
       "<table border=\"1\" class=\"dataframe\">\n",
       "  <thead>\n",
       "    <tr style=\"text-align: right;\">\n",
       "      <th></th>\n",
       "      <th>Track</th>\n",
       "      <th>Artist</th>\n",
       "      <th>Duration</th>\n",
       "      <th>Time_Signature</th>\n",
       "      <th>Danceability</th>\n",
       "      <th>Energy</th>\n",
       "      <th>Key</th>\n",
       "      <th>Loudness</th>\n",
       "      <th>Mode</th>\n",
       "      <th>Speechiness</th>\n",
       "      <th>Acousticness</th>\n",
       "      <th>Instrumentalness</th>\n",
       "      <th>Liveness</th>\n",
       "      <th>Valence</th>\n",
       "      <th>Tempo</th>\n",
       "      <th>Popularity</th>\n",
       "      <th>Year</th>\n",
       "      <th>DURATION(s)</th>\n",
       "    </tr>\n",
       "  </thead>\n",
       "  <tbody>\n",
       "    <tr>\n",
       "      <th>699</th>\n",
       "      <td>Feels So Good</td>\n",
       "      <td>Mase</td>\n",
       "      <td>9:42</td>\n",
       "      <td>4</td>\n",
       "      <td>0.576</td>\n",
       "      <td>0.603</td>\n",
       "      <td>5</td>\n",
       "      <td>-9.603</td>\n",
       "      <td>True</td>\n",
       "      <td>0.0329</td>\n",
       "      <td>0.455</td>\n",
       "      <td>0.0537</td>\n",
       "      <td>0.0406</td>\n",
       "      <td>0.524</td>\n",
       "      <td>103.658</td>\n",
       "      <td>51</td>\n",
       "      <td>1997</td>\n",
       "      <td>582</td>\n",
       "    </tr>\n",
       "  </tbody>\n",
       "</table>\n",
       "</div>"
      ],
      "text/plain": [
       "             Track Artist Duration  Time_Signature  Danceability  Energy  Key  \\\n",
       "699  Feels So Good   Mase     9:42               4         0.576   0.603    5   \n",
       "\n",
       "     Loudness  Mode  Speechiness  Acousticness  Instrumentalness  Liveness  \\\n",
       "699    -9.603  True       0.0329         0.455            0.0537    0.0406   \n",
       "\n",
       "     Valence    Tempo  Popularity  Year  DURATION(s)  \n",
       "699    0.524  103.658          51  1997          582  "
      ]
     },
     "execution_count": 103,
     "metadata": {},
     "output_type": "execute_result"
    }
   ],
   "source": [
    "max = copy_covers_ds[\"DURATION(s)\"].max()\n",
    "copy_covers_ds[copy_covers_ds[\"DURATION(s)\"] == max]"
   ]
  },
  {
   "cell_type": "markdown",
   "metadata": {},
   "source": [
    "Corroboramos en internet que la canción dura 3:29 minutos, paro no meter mano en los datos podemos simplemente borrar estos tres outliers para que no molesten."
   ]
  },
  {
   "cell_type": "code",
   "metadata": {
    "ExecuteTime": {
     "end_time": "2024-09-27T19:52:33.052921Z",
     "start_time": "2024-09-27T19:52:33.042247Z"
    }
   },
   "source": [
    "copy_covers_ds[copy_covers_ds['DURATION(s)'] > 500]"
   ],
   "outputs": [
    {
     "data": {
      "text/plain": [
       "             Track         Artist Duration  Time_Signature  Danceability  \\\n",
       "204  November Rain  Guns N’ Roses     8:56               4         0.294   \n",
       "485        Runaway  Janet Jackson     9:07               4         0.374   \n",
       "699  Feels So Good           Mase     9:42               4         0.576   \n",
       "\n",
       "     Energy  Key  Loudness          Mode  Speechiness  Acousticness  \\\n",
       "204   0.640   11    -9.316  Escala Mayor       0.0291         0.016   \n",
       "485   0.568    1    -3.825  Escala Menor       0.1090         0.219   \n",
       "699   0.603    5    -9.603  Escala Mayor       0.0329         0.455   \n",
       "\n",
       "     Instrumentalness  Liveness  Valence    Tempo  Popularity  Year  \\\n",
       "204           0.22000    0.1120    0.226   79.790          78  1992   \n",
       "485           0.00219    0.5130    0.111   84.733          80  1995   \n",
       "699           0.05370    0.0406    0.524  103.658          51  1997   \n",
       "\n",
       "     DURATION(s)  \n",
       "204          536  \n",
       "485          547  \n",
       "699          582  "
      ],
      "text/html": [
       "<div>\n",
       "<style scoped>\n",
       "    .dataframe tbody tr th:only-of-type {\n",
       "        vertical-align: middle;\n",
       "    }\n",
       "\n",
       "    .dataframe tbody tr th {\n",
       "        vertical-align: top;\n",
       "    }\n",
       "\n",
       "    .dataframe thead th {\n",
       "        text-align: right;\n",
       "    }\n",
       "</style>\n",
       "<table border=\"1\" class=\"dataframe\">\n",
       "  <thead>\n",
       "    <tr style=\"text-align: right;\">\n",
       "      <th></th>\n",
       "      <th>Track</th>\n",
       "      <th>Artist</th>\n",
       "      <th>Duration</th>\n",
       "      <th>Time_Signature</th>\n",
       "      <th>Danceability</th>\n",
       "      <th>Energy</th>\n",
       "      <th>Key</th>\n",
       "      <th>Loudness</th>\n",
       "      <th>Mode</th>\n",
       "      <th>Speechiness</th>\n",
       "      <th>Acousticness</th>\n",
       "      <th>Instrumentalness</th>\n",
       "      <th>Liveness</th>\n",
       "      <th>Valence</th>\n",
       "      <th>Tempo</th>\n",
       "      <th>Popularity</th>\n",
       "      <th>Year</th>\n",
       "      <th>DURATION(s)</th>\n",
       "    </tr>\n",
       "  </thead>\n",
       "  <tbody>\n",
       "    <tr>\n",
       "      <th>204</th>\n",
       "      <td>November Rain</td>\n",
       "      <td>Guns N’ Roses</td>\n",
       "      <td>8:56</td>\n",
       "      <td>4</td>\n",
       "      <td>0.294</td>\n",
       "      <td>0.640</td>\n",
       "      <td>11</td>\n",
       "      <td>-9.316</td>\n",
       "      <td>Escala Mayor</td>\n",
       "      <td>0.0291</td>\n",
       "      <td>0.016</td>\n",
       "      <td>0.22000</td>\n",
       "      <td>0.1120</td>\n",
       "      <td>0.226</td>\n",
       "      <td>79.790</td>\n",
       "      <td>78</td>\n",
       "      <td>1992</td>\n",
       "      <td>536</td>\n",
       "    </tr>\n",
       "    <tr>\n",
       "      <th>485</th>\n",
       "      <td>Runaway</td>\n",
       "      <td>Janet Jackson</td>\n",
       "      <td>9:07</td>\n",
       "      <td>4</td>\n",
       "      <td>0.374</td>\n",
       "      <td>0.568</td>\n",
       "      <td>1</td>\n",
       "      <td>-3.825</td>\n",
       "      <td>Escala Menor</td>\n",
       "      <td>0.1090</td>\n",
       "      <td>0.219</td>\n",
       "      <td>0.00219</td>\n",
       "      <td>0.5130</td>\n",
       "      <td>0.111</td>\n",
       "      <td>84.733</td>\n",
       "      <td>80</td>\n",
       "      <td>1995</td>\n",
       "      <td>547</td>\n",
       "    </tr>\n",
       "    <tr>\n",
       "      <th>699</th>\n",
       "      <td>Feels So Good</td>\n",
       "      <td>Mase</td>\n",
       "      <td>9:42</td>\n",
       "      <td>4</td>\n",
       "      <td>0.576</td>\n",
       "      <td>0.603</td>\n",
       "      <td>5</td>\n",
       "      <td>-9.603</td>\n",
       "      <td>Escala Mayor</td>\n",
       "      <td>0.0329</td>\n",
       "      <td>0.455</td>\n",
       "      <td>0.05370</td>\n",
       "      <td>0.0406</td>\n",
       "      <td>0.524</td>\n",
       "      <td>103.658</td>\n",
       "      <td>51</td>\n",
       "      <td>1997</td>\n",
       "      <td>582</td>\n",
       "    </tr>\n",
       "  </tbody>\n",
       "</table>\n",
       "</div>"
      ]
     },
     "execution_count": 77,
     "metadata": {},
     "output_type": "execute_result"
    }
   ],
   "execution_count": 77
  },
  {
   "cell_type": "markdown",
   "metadata": {},
   "source": [
    "La segunda canción más larga es \"November Rain\" de Guns 'n Roses y su duración concuerda con el dataset"
   ]
  },
  {
   "cell_type": "markdown",
   "metadata": {},
   "source": [
    "Podemos tomar como medida eliminar estos tres outliers que nos estan afectando la distribucion en la curva."
   ]
  },
  {
   "cell_type": "code",
   "metadata": {
    "ExecuteTime": {
     "end_time": "2024-09-27T19:52:34.933125Z",
     "start_time": "2024-09-27T19:52:34.929498Z"
    }
   },
   "source": [
    "copy_covers_ds = copy_covers_ds[copy_covers_ds['DURATION(s)'] < 500]"
   ],
   "outputs": [],
   "execution_count": 78
  },
  {
   "cell_type": "code",
   "metadata": {
    "ExecuteTime": {
     "end_time": "2024-09-27T19:52:36.294285Z",
     "start_time": "2024-09-27T19:52:36.168943Z"
    }
   },
   "source": [
    "bins = 40\n",
    "\n",
    "plt.hist(copy_covers_ds['DURATION(s)'], bins = bins)\n",
    "\n",
    "plt.xlabel('Duración (s)')\n",
    "plt.ylabel('Cantidad de canciones')\n",
    "plt.title('Histograma de duración de las canciones')\n",
    "plt.xticks(range(0, 450, 50))\n",
    "plt.show()"
   ],
   "outputs": [
    {
     "data": {
      "text/plain": [
       "<Figure size 640x480 with 1 Axes>"
      ],
      "image/png": "[encoded data removed]"
     },
     "metadata": {},
     "output_type": "display_data"
    }
   ],
   "execution_count": 79
  },
  {
   "cell_type": "markdown",
   "metadata": {},
   "source": [
    "Ahora si ;)"
   ]
  },
  {
   "metadata": {},
   "cell_type": "markdown",
   "source": "# Analisis de ```Loudness```"
  },
  {
   "metadata": {
    "ExecuteTime": {
     "end_time": "2024-09-27T19:53:09.001512Z",
     "start_time": "2024-09-27T19:53:08.887674Z"
    }
   },
   "cell_type": "code",
   "source": [
    "bins = 10\n",
    "\n",
    "plt.hist(copy_covers_ds['Loudness'], bins = bins)\n",
    "\n",
    "plt.xlabel('Loudness')\n",
    "plt.ylabel('Cantidad de canciones')\n",
    "plt.title('Histograma de loudness')\n",
    "plt.xticks(range(-50, 5, 5))\n",
    "plt.show()"
   ],
   "outputs": [
    {
     "data": {
      "text/plain": [
       "<Figure size 640x480 with 1 Axes>"
      ],
      "image/png": "[encoded data removed]"
     },
     "metadata": {},
     "output_type": "display_data"
    }
   ],
   "execution_count": 90
  },
  {
   "metadata": {},
   "cell_type": "markdown",
   "source": "Podemos ver que hay algunos valores que son minoria abajo de -20db, veamos quienes son."
  },
  {
   "metadata": {
    "ExecuteTime": {
     "end_time": "2024-09-27T19:54:34.020848Z",
     "start_time": "2024-09-27T19:54:34.007836Z"
    }
   },
   "cell_type": "code",
   "source": "copy_covers_ds[copy_covers_ds['Loudness'] < -20]\n",
   "outputs": [
    {
     "data": {
      "text/plain": [
       "                           Track                        Artist Duration  \\\n",
       "53                    Release Me               Wilson Phillips     2:49   \n",
       "92   This One’s For The Children         New Kids on the Block     3:09   \n",
       "226     When A Man Loves A Woman                Michael Bolton     2:53   \n",
       "235         Beauty And The Beast  Celine Dion and Peabo Bryson     2:47   \n",
       "266                Thinkin’ Back                 Color Me Badd     2:04   \n",
       "295                         Rain                       Madonna     2:11   \n",
       "323                    Connected                   Stereo MC’s     3:16   \n",
       "544                   Ask Of You                Raphael Saadiq     4:54   \n",
       "557         No More I Love You’s                  Annie Lennox     3:07   \n",
       "762                       Frozen                       Madonna     2:41   \n",
       "777                Kiss The Rain                  Billie Myers     4:20   \n",
       "811         You’re Still The One                  Shania Twain     2:40   \n",
       "\n",
       "     Time_Signature  Danceability   Energy  Key  Loudness          Mode  \\\n",
       "53                1         0.152  0.00504    0   -34.183  Escala Mayor   \n",
       "92                4         0.815  0.10500    0   -20.005  Escala Mayor   \n",
       "226               3         0.516  0.15000    1   -20.410  Escala Mayor   \n",
       "235               4         0.432  0.08770    8   -27.006  Escala Mayor   \n",
       "266               4         0.648  0.04060    9   -22.391  Escala Mayor   \n",
       "295               5         0.231  0.97600   10   -27.426  Escala Menor   \n",
       "323               4         0.135  0.00134    2   -42.950  Escala Mayor   \n",
       "544               3         0.194  0.11900    1   -20.926  Escala Mayor   \n",
       "557               4         0.364  0.02920    3   -21.088  Escala Mayor   \n",
       "762               4         0.179  0.00580    0   -37.260  Escala Mayor   \n",
       "777               4         0.560  0.05190    8   -22.616  Escala Mayor   \n",
       "811               4         0.440  0.02080    2   -29.104  Escala Mayor   \n",
       "\n",
       "     Speechiness  Acousticness  Instrumentalness  Liveness  Valence    Tempo  \\\n",
       "53        0.0432         0.953          0.928000    0.1020  0.03030  136.702   \n",
       "92        0.2570         0.990          0.934000    0.1130  0.54300   96.860   \n",
       "226       0.0272         0.130          0.075500    0.1220  0.20500   97.398   \n",
       "235       0.0680         0.995          0.922000    0.1170  0.14900   79.203   \n",
       "266       0.0459         0.983          0.931000    0.1030  0.67200   77.071   \n",
       "295       0.0487         0.152          0.987000    0.4800  0.00672   96.552   \n",
       "323       0.0496         0.969          0.972000    0.0884  0.03720  141.488   \n",
       "544       0.0398         0.854          0.000737    0.1090  0.14000   85.698   \n",
       "557       0.0594         0.991          0.963000    0.0912  0.14600  166.335   \n",
       "762       0.0481         0.924          0.929000    0.1060  0.03140   72.177   \n",
       "777       0.0423         0.990          0.905000    0.1170  0.18200  132.691   \n",
       "811       0.0498         0.994          0.935000    0.0988  0.34000   59.926   \n",
       "\n",
       "     Popularity  Year  DURATION(s) Instrumentalness Type  \n",
       "53           57  1990          169                  alta  \n",
       "92           11  1990          189                  alta  \n",
       "226          66  1992          173                  baja  \n",
       "235          60  1992          167                  alta  \n",
       "266          49  1992          124                  alta  \n",
       "295          81  1993          131                  alta  \n",
       "323          66  1993          196                  alta  \n",
       "544          52  1995          294                  baja  \n",
       "557          40  1995          187                  alta  \n",
       "762          67  1998          161                  alta  \n",
       "777          60  1998          260                  alta  \n",
       "811          39  1998          160                  alta  "
      ],
      "text/html": [
       "<div>\n",
       "<style scoped>\n",
       "    .dataframe tbody tr th:only-of-type {\n",
       "        vertical-align: middle;\n",
       "    }\n",
       "\n",
       "    .dataframe tbody tr th {\n",
       "        vertical-align: top;\n",
       "    }\n",
       "\n",
       "    .dataframe thead th {\n",
       "        text-align: right;\n",
       "    }\n",
       "</style>\n",
       "<table border=\"1\" class=\"dataframe\">\n",
       "  <thead>\n",
       "    <tr style=\"text-align: right;\">\n",
       "      <th></th>\n",
       "      <th>Track</th>\n",
       "      <th>Artist</th>\n",
       "      <th>Duration</th>\n",
       "      <th>Time_Signature</th>\n",
       "      <th>Danceability</th>\n",
       "      <th>Energy</th>\n",
       "      <th>Key</th>\n",
       "      <th>Loudness</th>\n",
       "      <th>Mode</th>\n",
       "      <th>Speechiness</th>\n",
       "      <th>Acousticness</th>\n",
       "      <th>Instrumentalness</th>\n",
       "      <th>Liveness</th>\n",
       "      <th>Valence</th>\n",
       "      <th>Tempo</th>\n",
       "      <th>Popularity</th>\n",
       "      <th>Year</th>\n",
       "      <th>DURATION(s)</th>\n",
       "      <th>Instrumentalness Type</th>\n",
       "    </tr>\n",
       "  </thead>\n",
       "  <tbody>\n",
       "    <tr>\n",
       "      <th>53</th>\n",
       "      <td>Release Me</td>\n",
       "      <td>Wilson Phillips</td>\n",
       "      <td>2:49</td>\n",
       "      <td>1</td>\n",
       "      <td>0.152</td>\n",
       "      <td>0.00504</td>\n",
       "      <td>0</td>\n",
       "      <td>-34.183</td>\n",
       "      <td>Escala Mayor</td>\n",
       "      <td>0.0432</td>\n",
       "      <td>0.953</td>\n",
       "      <td>0.928000</td>\n",
       "      <td>0.1020</td>\n",
       "      <td>0.03030</td>\n",
       "      <td>136.702</td>\n",
       "      <td>57</td>\n",
       "      <td>1990</td>\n",
       "      <td>169</td>\n",
       "      <td>alta</td>\n",
       "    </tr>\n",
       "    <tr>\n",
       "      <th>92</th>\n",
       "      <td>This One’s For The Children</td>\n",
       "      <td>New Kids on the Block</td>\n",
       "      <td>3:09</td>\n",
       "      <td>4</td>\n",
       "      <td>0.815</td>\n",
       "      <td>0.10500</td>\n",
       "      <td>0</td>\n",
       "      <td>-20.005</td>\n",
       "      <td>Escala Mayor</td>\n",
       "      <td>0.2570</td>\n",
       "      <td>0.990</td>\n",
       "      <td>0.934000</td>\n",
       "      <td>0.1130</td>\n",
       "      <td>0.54300</td>\n",
       "      <td>96.860</td>\n",
       "      <td>11</td>\n",
       "      <td>1990</td>\n",
       "      <td>189</td>\n",
       "      <td>alta</td>\n",
       "    </tr>\n",
       "    <tr>\n",
       "      <th>226</th>\n",
       "      <td>When A Man Loves A Woman</td>\n",
       "      <td>Michael Bolton</td>\n",
       "      <td>2:53</td>\n",
       "      <td>3</td>\n",
       "      <td>0.516</td>\n",
       "      <td>0.15000</td>\n",
       "      <td>1</td>\n",
       "      <td>-20.410</td>\n",
       "      <td>Escala Mayor</td>\n",
       "      <td>0.0272</td>\n",
       "      <td>0.130</td>\n",
       "      <td>0.075500</td>\n",
       "      <td>0.1220</td>\n",
       "      <td>0.20500</td>\n",
       "      <td>97.398</td>\n",
       "      <td>66</td>\n",
       "      <td>1992</td>\n",
       "      <td>173</td>\n",
       "      <td>baja</td>\n",
       "    </tr>\n",
       "    <tr>\n",
       "      <th>235</th>\n",
       "      <td>Beauty And The Beast</td>\n",
       "      <td>Celine Dion and Peabo Bryson</td>\n",
       "      <td>2:47</td>\n",
       "      <td>4</td>\n",
       "      <td>0.432</td>\n",
       "      <td>0.08770</td>\n",
       "      <td>8</td>\n",
       "      <td>-27.006</td>\n",
       "      <td>Escala Mayor</td>\n",
       "      <td>0.0680</td>\n",
       "      <td>0.995</td>\n",
       "      <td>0.922000</td>\n",
       "      <td>0.1170</td>\n",
       "      <td>0.14900</td>\n",
       "      <td>79.203</td>\n",
       "      <td>60</td>\n",
       "      <td>1992</td>\n",
       "      <td>167</td>\n",
       "      <td>alta</td>\n",
       "    </tr>\n",
       "    <tr>\n",
       "      <th>266</th>\n",
       "      <td>Thinkin’ Back</td>\n",
       "      <td>Color Me Badd</td>\n",
       "      <td>2:04</td>\n",
       "      <td>4</td>\n",
       "      <td>0.648</td>\n",
       "      <td>0.04060</td>\n",
       "      <td>9</td>\n",
       "      <td>-22.391</td>\n",
       "      <td>Escala Mayor</td>\n",
       "      <td>0.0459</td>\n",
       "      <td>0.983</td>\n",
       "      <td>0.931000</td>\n",
       "      <td>0.1030</td>\n",
       "      <td>0.67200</td>\n",
       "      <td>77.071</td>\n",
       "      <td>49</td>\n",
       "      <td>1992</td>\n",
       "      <td>124</td>\n",
       "      <td>alta</td>\n",
       "    </tr>\n",
       "    <tr>\n",
       "      <th>295</th>\n",
       "      <td>Rain</td>\n",
       "      <td>Madonna</td>\n",
       "      <td>2:11</td>\n",
       "      <td>5</td>\n",
       "      <td>0.231</td>\n",
       "      <td>0.97600</td>\n",
       "      <td>10</td>\n",
       "      <td>-27.426</td>\n",
       "      <td>Escala Menor</td>\n",
       "      <td>0.0487</td>\n",
       "      <td>0.152</td>\n",
       "      <td>0.987000</td>\n",
       "      <td>0.4800</td>\n",
       "      <td>0.00672</td>\n",
       "      <td>96.552</td>\n",
       "      <td>81</td>\n",
       "      <td>1993</td>\n",
       "      <td>131</td>\n",
       "      <td>alta</td>\n",
       "    </tr>\n",
       "    <tr>\n",
       "      <th>323</th>\n",
       "      <td>Connected</td>\n",
       "      <td>Stereo MC’s</td>\n",
       "      <td>3:16</td>\n",
       "      <td>4</td>\n",
       "      <td>0.135</td>\n",
       "      <td>0.00134</td>\n",
       "      <td>2</td>\n",
       "      <td>-42.950</td>\n",
       "      <td>Escala Mayor</td>\n",
       "      <td>0.0496</td>\n",
       "      <td>0.969</td>\n",
       "      <td>0.972000</td>\n",
       "      <td>0.0884</td>\n",
       "      <td>0.03720</td>\n",
       "      <td>141.488</td>\n",
       "      <td>66</td>\n",
       "      <td>1993</td>\n",
       "      <td>196</td>\n",
       "      <td>alta</td>\n",
       "    </tr>\n",
       "    <tr>\n",
       "      <th>544</th>\n",
       "      <td>Ask Of You</td>\n",
       "      <td>Raphael Saadiq</td>\n",
       "      <td>4:54</td>\n",
       "      <td>3</td>\n",
       "      <td>0.194</td>\n",
       "      <td>0.11900</td>\n",
       "      <td>1</td>\n",
       "      <td>-20.926</td>\n",
       "      <td>Escala Mayor</td>\n",
       "      <td>0.0398</td>\n",
       "      <td>0.854</td>\n",
       "      <td>0.000737</td>\n",
       "      <td>0.1090</td>\n",
       "      <td>0.14000</td>\n",
       "      <td>85.698</td>\n",
       "      <td>52</td>\n",
       "      <td>1995</td>\n",
       "      <td>294</td>\n",
       "      <td>baja</td>\n",
       "    </tr>\n",
       "    <tr>\n",
       "      <th>557</th>\n",
       "      <td>No More I Love You’s</td>\n",
       "      <td>Annie Lennox</td>\n",
       "      <td>3:07</td>\n",
       "      <td>4</td>\n",
       "      <td>0.364</td>\n",
       "      <td>0.02920</td>\n",
       "      <td>3</td>\n",
       "      <td>-21.088</td>\n",
       "      <td>Escala Mayor</td>\n",
       "      <td>0.0594</td>\n",
       "      <td>0.991</td>\n",
       "      <td>0.963000</td>\n",
       "      <td>0.0912</td>\n",
       "      <td>0.14600</td>\n",
       "      <td>166.335</td>\n",
       "      <td>40</td>\n",
       "      <td>1995</td>\n",
       "      <td>187</td>\n",
       "      <td>alta</td>\n",
       "    </tr>\n",
       "    <tr>\n",
       "      <th>762</th>\n",
       "      <td>Frozen</td>\n",
       "      <td>Madonna</td>\n",
       "      <td>2:41</td>\n",
       "      <td>4</td>\n",
       "      <td>0.179</td>\n",
       "      <td>0.00580</td>\n",
       "      <td>0</td>\n",
       "      <td>-37.260</td>\n",
       "      <td>Escala Mayor</td>\n",
       "      <td>0.0481</td>\n",
       "      <td>0.924</td>\n",
       "      <td>0.929000</td>\n",
       "      <td>0.1060</td>\n",
       "      <td>0.03140</td>\n",
       "      <td>72.177</td>\n",
       "      <td>67</td>\n",
       "      <td>1998</td>\n",
       "      <td>161</td>\n",
       "      <td>alta</td>\n",
       "    </tr>\n",
       "    <tr>\n",
       "      <th>777</th>\n",
       "      <td>Kiss The Rain</td>\n",
       "      <td>Billie Myers</td>\n",
       "      <td>4:20</td>\n",
       "      <td>4</td>\n",
       "      <td>0.560</td>\n",
       "      <td>0.05190</td>\n",
       "      <td>8</td>\n",
       "      <td>-22.616</td>\n",
       "      <td>Escala Mayor</td>\n",
       "      <td>0.0423</td>\n",
       "      <td>0.990</td>\n",
       "      <td>0.905000</td>\n",
       "      <td>0.1170</td>\n",
       "      <td>0.18200</td>\n",
       "      <td>132.691</td>\n",
       "      <td>60</td>\n",
       "      <td>1998</td>\n",
       "      <td>260</td>\n",
       "      <td>alta</td>\n",
       "    </tr>\n",
       "    <tr>\n",
       "      <th>811</th>\n",
       "      <td>You’re Still The One</td>\n",
       "      <td>Shania Twain</td>\n",
       "      <td>2:40</td>\n",
       "      <td>4</td>\n",
       "      <td>0.440</td>\n",
       "      <td>0.02080</td>\n",
       "      <td>2</td>\n",
       "      <td>-29.104</td>\n",
       "      <td>Escala Mayor</td>\n",
       "      <td>0.0498</td>\n",
       "      <td>0.994</td>\n",
       "      <td>0.935000</td>\n",
       "      <td>0.0988</td>\n",
       "      <td>0.34000</td>\n",
       "      <td>59.926</td>\n",
       "      <td>39</td>\n",
       "      <td>1998</td>\n",
       "      <td>160</td>\n",
       "      <td>alta</td>\n",
       "    </tr>\n",
       "  </tbody>\n",
       "</table>\n",
       "</div>"
      ]
     },
     "execution_count": 91,
     "metadata": {},
     "output_type": "execute_result"
    }
   ],
   "execution_count": 91
  },
  {
   "metadata": {},
   "cell_type": "markdown",
   "source": "Son en total 12 canciones, de las cuales hay un valor min. Cercano a -40."
  },
  {
   "metadata": {
    "ExecuteTime": {
     "end_time": "2024-09-27T19:58:26.266827Z",
     "start_time": "2024-09-27T19:58:26.261964Z"
    }
   },
   "cell_type": "code",
   "source": [
    "loudness = copy_covers_ds['Loudness']\n",
    "loudness.describe()"
   ],
   "outputs": [
    {
     "data": {
      "text/plain": [
       "count    916.000000\n",
       "mean      -8.351585\n",
       "std        3.895975\n",
       "min      -42.950000\n",
       "25%      -10.172000\n",
       "50%       -7.596500\n",
       "75%       -5.753500\n",
       "max        0.919000\n",
       "Name: Loudness, dtype: float64"
      ]
     },
     "execution_count": 95,
     "metadata": {},
     "output_type": "execute_result"
    }
   ],
   "execution_count": 95
  },
  {
   "metadata": {},
   "cell_type": "markdown",
   "source": "Vemos que hay un valor minimo de -42 lo cual es muy extranio considerando que este fue medido en base al umbral de audicion humano. Una medida en db es calculada en base a un valor de referencia. Asumimos que en este caso fue realizado en base al de la audicion humana. Un valor negativo indica que el sonido es suave y cuanto mas se disminuya en db menos imperceptible para nosotros va a ser, lo contrario pasa si aumentamos en db, mas insoportable el sonido se vuelve. Que en una cancion exista un valor de -42db no nos inspira mucha confianza en el dato. Saquemoslos!"
  },
  {
   "metadata": {
    "ExecuteTime": {
     "end_time": "2024-09-27T20:07:59.860130Z",
     "start_time": "2024-09-27T20:07:59.856125Z"
    }
   },
   "cell_type": "code",
   "source": "copy_covers_ds = covers_dataset[covers_dataset['Loudness'] > -20]",
   "outputs": [],
   "execution_count": 107
  },
  {
   "metadata": {
    "ExecuteTime": {
     "end_time": "2024-09-27T20:08:05.742196Z",
     "start_time": "2024-09-27T20:08:05.644682Z"
    }
   },
   "cell_type": "code",
   "source": [
    "bins = 10\n",
    "\n",
    "plt.hist(copy_covers_ds['Loudness'], bins = bins)\n",
    "\n",
    "plt.xlabel('Loudness')\n",
    "plt.ylabel('Cantidad de canciones')\n",
    "plt.title('Histograma de loudness')\n",
    "plt.xticks(range(-20, 5, 5))\n",
    "plt.show()"
   ],
   "outputs": [
    {
     "data": {
      "text/plain": [
       "<Figure size 640x480 with 1 Axes>"
      ],
      "image/png": "[encoded data removed]"
     },
     "metadata": {},
     "output_type": "display_data"
    }
   ],
   "execution_count": 109
  },
  {
   "metadata": {},
   "cell_type": "markdown",
   "source": "La gran mayoria de los valores se encuentran entre -10 y -5, y se puede apreciar un ligero sesgo hacia la izquierda. Igualmente nos resultan raro tantos valores de decibeles negativos. "
  },
  {
   "metadata": {},
   "cell_type": "markdown",
   "source": "# Analisis de ```Instrumentalness```"
  },
  {
   "cell_type": "code",
   "metadata": {
    "ExecuteTime": {
     "end_time": "2024-09-27T19:52:41.701734Z",
     "start_time": "2024-09-27T19:52:41.555711Z"
    }
   },
   "source": [
    "bins = 5\n",
    "\n",
    "plt.hist(copy_covers_ds['Instrumentalness'], bins = bins)\n",
    "\n",
    "plt.xlabel('Instrumentalness')\n",
    "plt.ylabel('Cantidad de canciones')\n",
    "plt.title('Histograma de Instrumentalizacion de las canciones')\n",
    "plt.xticks(range(0, 1, 1))\n",
    "plt.show()"
   ],
   "outputs": [
    {
     "data": {
      "text/plain": [
       "<Figure size 640x480 with 1 Axes>"
      ],
      "image/png": "[encoded data removed]"
     },
     "metadata": {},
     "output_type": "display_data"
    }
   ],
   "execution_count": 80
  },
  {
   "cell_type": "markdown",
   "metadata": {},
   "source": [
    "Podriamos discretizar la variable, por ejemplo utilizar una escala \"nula, baja, media, alta\""
   ]
  },
  {
   "cell_type": "code",
   "metadata": {
    "ExecuteTime": {
     "end_time": "2024-09-27T19:52:44.404194Z",
     "start_time": "2024-09-27T19:52:44.354885Z"
    }
   },
   "source": [
    "#Creamos la nueva columna con las variable discretizada(todavia no hay nada) y la inicializamos en nulo.\n",
    "copy_covers_ds['Instrumentalness Type'] = pd.NA\n",
    "#Por cada registro hacemos:\n",
    "for index,row in copy_covers_ds.iterrows():\n",
    "    #Consideramos los 4 casos(intervalos) y asignamos el nueva valor segun corresponda\n",
    "    instrulmentalness_original = row['Instrumentalness']\n",
    "    if(instrulmentalness_original == 0):\n",
    "        instrulmentalness_nueva = 'nula'\n",
    "    elif(instrulmentalness_original > 0 and instrulmentalness_original <= 0.4 ) :\n",
    "        instrulmentalness_nueva = 'baja'\n",
    "    elif(instrulmentalness_original > 0.4 and instrulmentalness_original <= 0.7) :\n",
    "        instrulmentalness_nueva = 'media'\n",
    "    elif(instrulmentalness_original > 0.7 and instrulmentalness_original <= 1) :\n",
    "        instrulmentalness_nueva = 'alta'\n",
    "        \n",
    "    copy_covers_ds.at[index,'Instrumentalness Type'] = instrulmentalness_nueva\n",
    "\n",
    "copy_covers_ds.head()"
   ],
   "outputs": [
    {
     "data": {
      "text/plain": [
       "                 Track          Artist Duration  Time_Signature  Danceability  \\\n",
       "0  Everybody Everybody       Black Box     4:11               4         0.645   \n",
       "1         Close To You     Maxi Priest     3:45               4         0.590   \n",
       "2               Do Me!  Bell Biv DeVoe     3:56               4         0.615   \n",
       "3           Everything     Jody Watley     4:05               4         0.704   \n",
       "4        What It Takes       Aerosmith     3:21               4         0.672   \n",
       "\n",
       "   Energy  Key  Loudness          Mode  Speechiness  Acousticness  \\\n",
       "0   0.795    7   -12.095  Escala Mayor       0.0527        0.3470   \n",
       "1   0.727    6    -7.955  Escala Mayor       0.0706        0.0259   \n",
       "2   0.534    9    -6.719  Escala Menor       0.0386        0.1060   \n",
       "3   0.225    6   -14.454  Escala Menor       0.0994        0.9020   \n",
       "4   0.655   10    -5.021  Escala Menor       0.0310        0.0362   \n",
       "\n",
       "   Instrumentalness  Liveness  Valence    Tempo  Popularity  Year  \\\n",
       "0          0.003890    0.1040    0.535  112.067          87  1990   \n",
       "1          0.000065    0.0827    0.356  121.966          85  1990   \n",
       "2          0.000018    0.0607    0.193  135.917          84  1990   \n",
       "3          0.657000    0.1060    0.243  120.006          82  1990   \n",
       "4          0.000000    0.1170    0.555  134.948          82  1990   \n",
       "\n",
       "   DURATION(s) Instrumentalness Type  \n",
       "0          251                  baja  \n",
       "1          225                  baja  \n",
       "2          236                  baja  \n",
       "3          245                 media  \n",
       "4          201                  nula  "
      ],
      "text/html": [
       "<div>\n",
       "<style scoped>\n",
       "    .dataframe tbody tr th:only-of-type {\n",
       "        vertical-align: middle;\n",
       "    }\n",
       "\n",
       "    .dataframe tbody tr th {\n",
       "        vertical-align: top;\n",
       "    }\n",
       "\n",
       "    .dataframe thead th {\n",
       "        text-align: right;\n",
       "    }\n",
       "</style>\n",
       "<table border=\"1\" class=\"dataframe\">\n",
       "  <thead>\n",
       "    <tr style=\"text-align: right;\">\n",
       "      <th></th>\n",
       "      <th>Track</th>\n",
       "      <th>Artist</th>\n",
       "      <th>Duration</th>\n",
       "      <th>Time_Signature</th>\n",
       "      <th>Danceability</th>\n",
       "      <th>Energy</th>\n",
       "      <th>Key</th>\n",
       "      <th>Loudness</th>\n",
       "      <th>Mode</th>\n",
       "      <th>Speechiness</th>\n",
       "      <th>Acousticness</th>\n",
       "      <th>Instrumentalness</th>\n",
       "      <th>Liveness</th>\n",
       "      <th>Valence</th>\n",
       "      <th>Tempo</th>\n",
       "      <th>Popularity</th>\n",
       "      <th>Year</th>\n",
       "      <th>DURATION(s)</th>\n",
       "      <th>Instrumentalness Type</th>\n",
       "    </tr>\n",
       "  </thead>\n",
       "  <tbody>\n",
       "    <tr>\n",
       "      <th>0</th>\n",
       "      <td>Everybody Everybody</td>\n",
       "      <td>Black Box</td>\n",
       "      <td>4:11</td>\n",
       "      <td>4</td>\n",
       "      <td>0.645</td>\n",
       "      <td>0.795</td>\n",
       "      <td>7</td>\n",
       "      <td>-12.095</td>\n",
       "      <td>Escala Mayor</td>\n",
       "      <td>0.0527</td>\n",
       "      <td>0.3470</td>\n",
       "      <td>0.003890</td>\n",
       "      <td>0.1040</td>\n",
       "      <td>0.535</td>\n",
       "      <td>112.067</td>\n",
       "      <td>87</td>\n",
       "      <td>1990</td>\n",
       "      <td>251</td>\n",
       "      <td>baja</td>\n",
       "    </tr>\n",
       "    <tr>\n",
       "      <th>1</th>\n",
       "      <td>Close To You</td>\n",
       "      <td>Maxi Priest</td>\n",
       "      <td>3:45</td>\n",
       "      <td>4</td>\n",
       "      <td>0.590</td>\n",
       "      <td>0.727</td>\n",
       "      <td>6</td>\n",
       "      <td>-7.955</td>\n",
       "      <td>Escala Mayor</td>\n",
       "      <td>0.0706</td>\n",
       "      <td>0.0259</td>\n",
       "      <td>0.000065</td>\n",
       "      <td>0.0827</td>\n",
       "      <td>0.356</td>\n",
       "      <td>121.966</td>\n",
       "      <td>85</td>\n",
       "      <td>1990</td>\n",
       "      <td>225</td>\n",
       "      <td>baja</td>\n",
       "    </tr>\n",
       "    <tr>\n",
       "      <th>2</th>\n",
       "      <td>Do Me!</td>\n",
       "      <td>Bell Biv DeVoe</td>\n",
       "      <td>3:56</td>\n",
       "      <td>4</td>\n",
       "      <td>0.615</td>\n",
       "      <td>0.534</td>\n",
       "      <td>9</td>\n",
       "      <td>-6.719</td>\n",
       "      <td>Escala Menor</td>\n",
       "      <td>0.0386</td>\n",
       "      <td>0.1060</td>\n",
       "      <td>0.000018</td>\n",
       "      <td>0.0607</td>\n",
       "      <td>0.193</td>\n",
       "      <td>135.917</td>\n",
       "      <td>84</td>\n",
       "      <td>1990</td>\n",
       "      <td>236</td>\n",
       "      <td>baja</td>\n",
       "    </tr>\n",
       "    <tr>\n",
       "      <th>3</th>\n",
       "      <td>Everything</td>\n",
       "      <td>Jody Watley</td>\n",
       "      <td>4:05</td>\n",
       "      <td>4</td>\n",
       "      <td>0.704</td>\n",
       "      <td>0.225</td>\n",
       "      <td>6</td>\n",
       "      <td>-14.454</td>\n",
       "      <td>Escala Menor</td>\n",
       "      <td>0.0994</td>\n",
       "      <td>0.9020</td>\n",
       "      <td>0.657000</td>\n",
       "      <td>0.1060</td>\n",
       "      <td>0.243</td>\n",
       "      <td>120.006</td>\n",
       "      <td>82</td>\n",
       "      <td>1990</td>\n",
       "      <td>245</td>\n",
       "      <td>media</td>\n",
       "    </tr>\n",
       "    <tr>\n",
       "      <th>4</th>\n",
       "      <td>What It Takes</td>\n",
       "      <td>Aerosmith</td>\n",
       "      <td>3:21</td>\n",
       "      <td>4</td>\n",
       "      <td>0.672</td>\n",
       "      <td>0.655</td>\n",
       "      <td>10</td>\n",
       "      <td>-5.021</td>\n",
       "      <td>Escala Menor</td>\n",
       "      <td>0.0310</td>\n",
       "      <td>0.0362</td>\n",
       "      <td>0.000000</td>\n",
       "      <td>0.1170</td>\n",
       "      <td>0.555</td>\n",
       "      <td>134.948</td>\n",
       "      <td>82</td>\n",
       "      <td>1990</td>\n",
       "      <td>201</td>\n",
       "      <td>nula</td>\n",
       "    </tr>\n",
       "  </tbody>\n",
       "</table>\n",
       "</div>"
      ]
     },
     "execution_count": 81,
     "metadata": {},
     "output_type": "execute_result"
    }
   ],
   "execution_count": 81
  },
  {
   "cell_type": "code",
   "metadata": {
    "ExecuteTime": {
     "end_time": "2024-09-27T19:52:45.965877Z",
     "start_time": "2024-09-27T19:52:45.869025Z"
    }
   },
   "source": [
    "# Contar la cantidad de cada tipo de 'Instrumentalness Type'\n",
    "instrumentalness_counts = copy_covers_ds['Instrumentalness Type'].value_counts()\n",
    "\n",
    "# Crear el gráfico de barras\n",
    "plt.figure(figsize=(8, 6))\n",
    "instrumentalness_counts.plot(kind='bar')\n",
    "plt.title('Distribución de Instrumentalness')\n",
    "plt.xlabel('Instrumentalness Type')\n",
    "plt.ylabel('Cantidad de canciones')\n",
    "plt.show()"
   ],
   "outputs": [
    {
     "data": {
      "text/plain": [
       "<Figure size 800x600 with 1 Axes>"
      ],
      "image/png": "[encoded data removed]"
     },
     "metadata": {},
     "output_type": "display_data"
    }
   ],
   "execution_count": 82
  },
  {
   "cell_type": "markdown",
   "metadata": {},
   "source": [
    "Podemos ver que hay muchas canciones con instrumentalizacion baja(cuidado que el intervalo para bajo es un poco mayor(0.1). Y que tambien hay muchas canciones con una instrumentalizacion nula(0 de instrumentalizacion)"
   ]
  },
  {
   "cell_type": "markdown",
   "metadata": {},
   "source": [
    "## ```Analisis Time Signature```"
   ]
  },
  {
   "cell_type": "code",
   "metadata": {
    "ExecuteTime": {
     "end_time": "2024-09-27T19:52:47.942082Z",
     "start_time": "2024-09-27T19:52:47.851015Z"
    }
   },
   "source": [
    "# Contar la cantidad de cada tipo de 'Instrumentalness Type'\n",
    "Time_signature_counts = copy_covers_ds['Time_Signature'].value_counts()\n",
    "\n",
    "plt.figure(figsize=(6,6))\n",
    "Time_signature_counts.plot(kind = 'bar', color='skyblue')\n",
    "plt.yticks(range(0,901,100))\n",
    "plt.xticks(rotation = 0)\n",
    "plt.title('Cantidad de canciones por pulsaciones por compás')\n",
    "plt.xlabel('Signatura', fontsize=12)\n",
    "plt.ylabel('Frecuencia', fontsize=12)\n",
    "plt.show()"
   ],
   "outputs": [
    {
     "data": {
      "text/plain": [
       "<Figure size 600x600 with 1 Axes>"
      ],
      "image/png": "[encoded data removed]"
     },
     "metadata": {},
     "output_type": "display_data"
    }
   ],
   "execution_count": 83
  },
  {
   "cell_type": "markdown",
   "metadata": {},
   "source": [
    "Observamos que la gran mayoria de las canciones tienen 4 pulsaciones por compas, es un compas muy comun por aa"
   ]
  },
  {
   "cell_type": "markdown",
   "metadata": {},
   "source": [
    "## ```Analisis Energy```\n"
   ]
  },
  {
   "cell_type": "code",
   "metadata": {
    "ExecuteTime": {
     "end_time": "2024-09-27T19:52:49.985155Z",
     "start_time": "2024-09-27T19:52:49.836743Z"
    }
   },
   "source": [
    "bins = 10\n",
    "\n",
    "plt.hist(copy_covers_ds['Energy'], bins = bins,color='yellow')\n",
    "\n",
    "plt.xlabel('Energy')\n",
    "plt.ylabel('Cantidad de canciones')\n",
    "plt.title('Histograma de la Energy de las canciones')\n",
    "plt.xticks(range(0, 1, 0.1))\n",
    "plt.show()"
   ],
   "outputs": [
    {
     "ename": "TypeError",
     "evalue": "'float' object cannot be interpreted as an integer",
     "output_type": "error",
     "traceback": [
      "\u001B[1;31m---------------------------------------------------------------------------\u001B[0m",
      "\u001B[1;31mTypeError\u001B[0m                                 Traceback (most recent call last)",
      "Cell \u001B[1;32mIn[84], line 8\u001B[0m\n\u001B[0;32m      6\u001B[0m plt\u001B[38;5;241m.\u001B[39mylabel(\u001B[38;5;124m'\u001B[39m\u001B[38;5;124mCantidad de canciones\u001B[39m\u001B[38;5;124m'\u001B[39m)\n\u001B[0;32m      7\u001B[0m plt\u001B[38;5;241m.\u001B[39mtitle(\u001B[38;5;124m'\u001B[39m\u001B[38;5;124mHistograma de la Energy de las canciones\u001B[39m\u001B[38;5;124m'\u001B[39m)\n\u001B[1;32m----> 8\u001B[0m plt\u001B[38;5;241m.\u001B[39mxticks(\u001B[38;5;28;43mrange\u001B[39;49m\u001B[43m(\u001B[49m\u001B[38;5;241;43m0\u001B[39;49m\u001B[43m,\u001B[49m\u001B[43m \u001B[49m\u001B[38;5;241;43m1\u001B[39;49m\u001B[43m,\u001B[49m\u001B[43m \u001B[49m\u001B[38;5;241;43m0.1\u001B[39;49m\u001B[43m)\u001B[49m)\n\u001B[0;32m      9\u001B[0m plt\u001B[38;5;241m.\u001B[39mshow()\n",
      "\u001B[1;31mTypeError\u001B[0m: 'float' object cannot be interpreted as an integer"
     ]
    },
    {
     "data": {
      "text/plain": [
       "<Figure size 640x480 with 1 Axes>"
      ],
      "image/png": "[encoded data removed]"
     },
     "metadata": {},
     "output_type": "display_data"
    }
   ],
   "execution_count": 84
  },
  {
   "cell_type": "markdown",
   "metadata": {},
   "source": [
    "Podemos observar una cuerva bastante ```sesgada hacia la derecha```, lo que indica una gran presencia de canciones energeticas. Sinceramente como con muchas otras variables no sabemos como es que fueron medidas, como pasa en el caso de esta variable. ¿Como midieron la energia de la cancion? ¿estara ligada al ritmo?"
   ]
  },
  {
   "cell_type": "markdown",
   "metadata": {},
   "source": [
    "Algunas canciones con un valor de ```energia bajo``` son:"
   ]
  },
  {
   "cell_type": "code",
   "metadata": {
    "ExecuteTime": {
     "end_time": "2024-09-27T19:52:51.819774Z",
     "start_time": "2024-09-27T19:52:51.807252Z"
    }
   },
   "source": [
    "copy_covers_ds[copy_covers_ds['Energy'] < 0.1]"
   ],
   "outputs": [
    {
     "data": {
      "text/plain": [
       "                    Track                        Artist Duration  \\\n",
       "53             Release Me               Wilson Phillips     2:49   \n",
       "235  Beauty And The Beast  Celine Dion and Peabo Bryson     2:47   \n",
       "266         Thinkin’ Back                 Color Me Badd     2:04   \n",
       "270       Take This Heart                  Richard Marx     3:45   \n",
       "323             Connected                   Stereo MC’s     3:16   \n",
       "557  No More I Love You’s                  Annie Lennox     3:07   \n",
       "762                Frozen                       Madonna     2:41   \n",
       "777         Kiss The Rain                  Billie Myers     4:20   \n",
       "811  You’re Still The One                  Shania Twain     2:40   \n",
       "\n",
       "     Time_Signature  Danceability   Energy  Key  Loudness          Mode  \\\n",
       "53                1         0.152  0.00504    0   -34.183  Escala Mayor   \n",
       "235               4         0.432  0.08770    8   -27.006  Escala Mayor   \n",
       "266               4         0.648  0.04060    9   -22.391  Escala Mayor   \n",
       "270               3         0.520  0.06040    5   -11.320  Escala Mayor   \n",
       "323               4         0.135  0.00134    2   -42.950  Escala Mayor   \n",
       "557               4         0.364  0.02920    3   -21.088  Escala Mayor   \n",
       "762               4         0.179  0.00580    0   -37.260  Escala Mayor   \n",
       "777               4         0.560  0.05190    8   -22.616  Escala Mayor   \n",
       "811               4         0.440  0.02080    2   -29.104  Escala Mayor   \n",
       "\n",
       "     Speechiness  Acousticness  Instrumentalness  Liveness  Valence    Tempo  \\\n",
       "53        0.0432         0.953           0.92800    0.1020   0.0303  136.702   \n",
       "235       0.0680         0.995           0.92200    0.1170   0.1490   79.203   \n",
       "266       0.0459         0.983           0.93100    0.1030   0.6720   77.071   \n",
       "270       0.0512         0.986           0.00136    0.1070   0.1280  118.562   \n",
       "323       0.0496         0.969           0.97200    0.0884   0.0372  141.488   \n",
       "557       0.0594         0.991           0.96300    0.0912   0.1460  166.335   \n",
       "762       0.0481         0.924           0.92900    0.1060   0.0314   72.177   \n",
       "777       0.0423         0.990           0.90500    0.1170   0.1820  132.691   \n",
       "811       0.0498         0.994           0.93500    0.0988   0.3400   59.926   \n",
       "\n",
       "     Popularity  Year  DURATION(s) Instrumentalness Type  \n",
       "53           57  1990          169                  alta  \n",
       "235          60  1992          167                  alta  \n",
       "266          49  1992          124                  alta  \n",
       "270          48  1992          225                  baja  \n",
       "323          66  1993          196                  alta  \n",
       "557          40  1995          187                  alta  \n",
       "762          67  1998          161                  alta  \n",
       "777          60  1998          260                  alta  \n",
       "811          39  1998          160                  alta  "
      ],
      "text/html": [
       "<div>\n",
       "<style scoped>\n",
       "    .dataframe tbody tr th:only-of-type {\n",
       "        vertical-align: middle;\n",
       "    }\n",
       "\n",
       "    .dataframe tbody tr th {\n",
       "        vertical-align: top;\n",
       "    }\n",
       "\n",
       "    .dataframe thead th {\n",
       "        text-align: right;\n",
       "    }\n",
       "</style>\n",
       "<table border=\"1\" class=\"dataframe\">\n",
       "  <thead>\n",
       "    <tr style=\"text-align: right;\">\n",
       "      <th></th>\n",
       "      <th>Track</th>\n",
       "      <th>Artist</th>\n",
       "      <th>Duration</th>\n",
       "      <th>Time_Signature</th>\n",
       "      <th>Danceability</th>\n",
       "      <th>Energy</th>\n",
       "      <th>Key</th>\n",
       "      <th>Loudness</th>\n",
       "      <th>Mode</th>\n",
       "      <th>Speechiness</th>\n",
       "      <th>Acousticness</th>\n",
       "      <th>Instrumentalness</th>\n",
       "      <th>Liveness</th>\n",
       "      <th>Valence</th>\n",
       "      <th>Tempo</th>\n",
       "      <th>Popularity</th>\n",
       "      <th>Year</th>\n",
       "      <th>DURATION(s)</th>\n",
       "      <th>Instrumentalness Type</th>\n",
       "    </tr>\n",
       "  </thead>\n",
       "  <tbody>\n",
       "    <tr>\n",
       "      <th>53</th>\n",
       "      <td>Release Me</td>\n",
       "      <td>Wilson Phillips</td>\n",
       "      <td>2:49</td>\n",
       "      <td>1</td>\n",
       "      <td>0.152</td>\n",
       "      <td>0.00504</td>\n",
       "      <td>0</td>\n",
       "      <td>-34.183</td>\n",
       "      <td>Escala Mayor</td>\n",
       "      <td>0.0432</td>\n",
       "      <td>0.953</td>\n",
       "      <td>0.92800</td>\n",
       "      <td>0.1020</td>\n",
       "      <td>0.0303</td>\n",
       "      <td>136.702</td>\n",
       "      <td>57</td>\n",
       "      <td>1990</td>\n",
       "      <td>169</td>\n",
       "      <td>alta</td>\n",
       "    </tr>\n",
       "    <tr>\n",
       "      <th>235</th>\n",
       "      <td>Beauty And The Beast</td>\n",
       "      <td>Celine Dion and Peabo Bryson</td>\n",
       "      <td>2:47</td>\n",
       "      <td>4</td>\n",
       "      <td>0.432</td>\n",
       "      <td>0.08770</td>\n",
       "      <td>8</td>\n",
       "      <td>-27.006</td>\n",
       "      <td>Escala Mayor</td>\n",
       "      <td>0.0680</td>\n",
       "      <td>0.995</td>\n",
       "      <td>0.92200</td>\n",
       "      <td>0.1170</td>\n",
       "      <td>0.1490</td>\n",
       "      <td>79.203</td>\n",
       "      <td>60</td>\n",
       "      <td>1992</td>\n",
       "      <td>167</td>\n",
       "      <td>alta</td>\n",
       "    </tr>\n",
       "    <tr>\n",
       "      <th>266</th>\n",
       "      <td>Thinkin’ Back</td>\n",
       "      <td>Color Me Badd</td>\n",
       "      <td>2:04</td>\n",
       "      <td>4</td>\n",
       "      <td>0.648</td>\n",
       "      <td>0.04060</td>\n",
       "      <td>9</td>\n",
       "      <td>-22.391</td>\n",
       "      <td>Escala Mayor</td>\n",
       "      <td>0.0459</td>\n",
       "      <td>0.983</td>\n",
       "      <td>0.93100</td>\n",
       "      <td>0.1030</td>\n",
       "      <td>0.6720</td>\n",
       "      <td>77.071</td>\n",
       "      <td>49</td>\n",
       "      <td>1992</td>\n",
       "      <td>124</td>\n",
       "      <td>alta</td>\n",
       "    </tr>\n",
       "    <tr>\n",
       "      <th>270</th>\n",
       "      <td>Take This Heart</td>\n",
       "      <td>Richard Marx</td>\n",
       "      <td>3:45</td>\n",
       "      <td>3</td>\n",
       "      <td>0.520</td>\n",
       "      <td>0.06040</td>\n",
       "      <td>5</td>\n",
       "      <td>-11.320</td>\n",
       "      <td>Escala Mayor</td>\n",
       "      <td>0.0512</td>\n",
       "      <td>0.986</td>\n",
       "      <td>0.00136</td>\n",
       "      <td>0.1070</td>\n",
       "      <td>0.1280</td>\n",
       "      <td>118.562</td>\n",
       "      <td>48</td>\n",
       "      <td>1992</td>\n",
       "      <td>225</td>\n",
       "      <td>baja</td>\n",
       "    </tr>\n",
       "    <tr>\n",
       "      <th>323</th>\n",
       "      <td>Connected</td>\n",
       "      <td>Stereo MC’s</td>\n",
       "      <td>3:16</td>\n",
       "      <td>4</td>\n",
       "      <td>0.135</td>\n",
       "      <td>0.00134</td>\n",
       "      <td>2</td>\n",
       "      <td>-42.950</td>\n",
       "      <td>Escala Mayor</td>\n",
       "      <td>0.0496</td>\n",
       "      <td>0.969</td>\n",
       "      <td>0.97200</td>\n",
       "      <td>0.0884</td>\n",
       "      <td>0.0372</td>\n",
       "      <td>141.488</td>\n",
       "      <td>66</td>\n",
       "      <td>1993</td>\n",
       "      <td>196</td>\n",
       "      <td>alta</td>\n",
       "    </tr>\n",
       "    <tr>\n",
       "      <th>557</th>\n",
       "      <td>No More I Love You’s</td>\n",
       "      <td>Annie Lennox</td>\n",
       "      <td>3:07</td>\n",
       "      <td>4</td>\n",
       "      <td>0.364</td>\n",
       "      <td>0.02920</td>\n",
       "      <td>3</td>\n",
       "      <td>-21.088</td>\n",
       "      <td>Escala Mayor</td>\n",
       "      <td>0.0594</td>\n",
       "      <td>0.991</td>\n",
       "      <td>0.96300</td>\n",
       "      <td>0.0912</td>\n",
       "      <td>0.1460</td>\n",
       "      <td>166.335</td>\n",
       "      <td>40</td>\n",
       "      <td>1995</td>\n",
       "      <td>187</td>\n",
       "      <td>alta</td>\n",
       "    </tr>\n",
       "    <tr>\n",
       "      <th>762</th>\n",
       "      <td>Frozen</td>\n",
       "      <td>Madonna</td>\n",
       "      <td>2:41</td>\n",
       "      <td>4</td>\n",
       "      <td>0.179</td>\n",
       "      <td>0.00580</td>\n",
       "      <td>0</td>\n",
       "      <td>-37.260</td>\n",
       "      <td>Escala Mayor</td>\n",
       "      <td>0.0481</td>\n",
       "      <td>0.924</td>\n",
       "      <td>0.92900</td>\n",
       "      <td>0.1060</td>\n",
       "      <td>0.0314</td>\n",
       "      <td>72.177</td>\n",
       "      <td>67</td>\n",
       "      <td>1998</td>\n",
       "      <td>161</td>\n",
       "      <td>alta</td>\n",
       "    </tr>\n",
       "    <tr>\n",
       "      <th>777</th>\n",
       "      <td>Kiss The Rain</td>\n",
       "      <td>Billie Myers</td>\n",
       "      <td>4:20</td>\n",
       "      <td>4</td>\n",
       "      <td>0.560</td>\n",
       "      <td>0.05190</td>\n",
       "      <td>8</td>\n",
       "      <td>-22.616</td>\n",
       "      <td>Escala Mayor</td>\n",
       "      <td>0.0423</td>\n",
       "      <td>0.990</td>\n",
       "      <td>0.90500</td>\n",
       "      <td>0.1170</td>\n",
       "      <td>0.1820</td>\n",
       "      <td>132.691</td>\n",
       "      <td>60</td>\n",
       "      <td>1998</td>\n",
       "      <td>260</td>\n",
       "      <td>alta</td>\n",
       "    </tr>\n",
       "    <tr>\n",
       "      <th>811</th>\n",
       "      <td>You’re Still The One</td>\n",
       "      <td>Shania Twain</td>\n",
       "      <td>2:40</td>\n",
       "      <td>4</td>\n",
       "      <td>0.440</td>\n",
       "      <td>0.02080</td>\n",
       "      <td>2</td>\n",
       "      <td>-29.104</td>\n",
       "      <td>Escala Mayor</td>\n",
       "      <td>0.0498</td>\n",
       "      <td>0.994</td>\n",
       "      <td>0.93500</td>\n",
       "      <td>0.0988</td>\n",
       "      <td>0.3400</td>\n",
       "      <td>59.926</td>\n",
       "      <td>39</td>\n",
       "      <td>1998</td>\n",
       "      <td>160</td>\n",
       "      <td>alta</td>\n",
       "    </tr>\n",
       "  </tbody>\n",
       "</table>\n",
       "</div>"
      ]
     },
     "execution_count": 85,
     "metadata": {},
     "output_type": "execute_result"
    }
   ],
   "execution_count": 85
  },
  {
   "cell_type": "code",
   "metadata": {
    "ExecuteTime": {
     "end_time": "2024-09-27T19:52:53.047058Z",
     "start_time": "2024-09-27T19:52:52.957965Z"
    }
   },
   "source": [
    "# Nos quedamos solo con la columna Energy\n",
    "energy = covers_dataset[\"Energy\"]\n",
    "\n",
    "# Creamos el boxplot\n",
    "plt.figure(figsize=(8, 6))\n",
    "sns.boxplot(x=energy)\n",
    "plt.title(\"Boxplot de Energy\")\n",
    "plt.xlabel(\"Energy\")\n",
    "plt.show()"
   ],
   "outputs": [
    {
     "data": {
      "text/plain": [
       "<Figure size 800x600 with 1 Axes>"
      ],
      "image/png": "[encoded data removed]"
     },
     "metadata": {},
     "output_type": "display_data"
    }
   ],
   "execution_count": 86
  },
  {
   "cell_type": "markdown",
   "metadata": {},
   "source": [
    "## ```Analisis de Key```"
   ]
  },
  {
   "cell_type": "code",
   "metadata": {
    "ExecuteTime": {
     "end_time": "2024-09-27T19:52:54.881182Z",
     "start_time": "2024-09-27T19:52:54.758907Z"
    }
   },
   "source": [
    "# Contar la cantidad de cada tipo de 'Key'\n",
    "key_counts = copy_covers_ds['Key'].value_counts().sort_index()\n",
    "\n",
    "# Crear el gráfico de barras\n",
    "plt.figure(figsize=(8, 6))\n",
    "key_counts.plot(kind='bar')\n",
    "plt.title('Distribución de Key')\n",
    "plt.xlabel('Key')\n",
    "plt.ylabel('Cantidad de canciones')\n",
    "plt.show()"
   ],
   "outputs": [
    {
     "data": {
      "text/plain": [
       "<Figure size 800x600 with 1 Axes>"
      ],
      "image/png": "[encoded data removed]"
     },
     "metadata": {},
     "output_type": "display_data"
    }
   ],
   "execution_count": 87
  },
  {
   "cell_type": "code",
   "metadata": {
    "ExecuteTime": {
     "end_time": "2024-09-27T19:52:56.372018Z",
     "start_time": "2024-09-27T19:52:56.252909Z"
    }
   },
   "source": [
    "# Contar la cantidad de cada tipo de 'Key'\n",
    "key_counts = copy_covers_ds['Key'].value_counts().sort_values()\n",
    "\n",
    "# Crear el gráfico de barras\n",
    "plt.figure(figsize=(8, 6))\n",
    "key_counts.plot(kind='bar')\n",
    "plt.title('Distribución de Key')\n",
    "plt.xlabel('Key')\n",
    "plt.ylabel('Cantidad de canciones')\n",
    "plt.show()"
   ],
   "outputs": [
    {
     "data": {
      "text/plain": [
       "<Figure size 800x600 with 1 Axes>"
      ],
      "image/png": "[encoded data removed]"
     },
     "metadata": {},
     "output_type": "display_data"
    }
   ],
   "execution_count": 88
  },
  {
   "metadata": {},
   "cell_type": "markdown",
   "source": "### ```Análisis de Mode```"
  },
  {
   "metadata": {},
   "cell_type": "markdown",
   "source": "Como tenemos una variable categórica, podemos modelarla mediante un gráfico de barras, donde podamos apreciar la cantidad de canciones de cada categoría"
  },
  {
   "metadata": {
    "ExecuteTime": {
     "end_time": "2024-09-27T19:52:58.491195Z",
     "start_time": "2024-09-27T19:52:58.407356Z"
    }
   },
   "cell_type": "code",
   "source": [
    "#Contamos la cantidad de canciones de cada tipo\n",
    "mode_values = copy_covers_ds['Mode'].value_counts()\n",
    "\n",
    "plt.figure(figsize=(8, 6))\n",
    "mode_values.plot(kind='bar', color='green')\n",
    "plt.title('Cantidad de canciones según su modo')\n",
    "plt.xticks(rotation=0)\n",
    "plt.xlabel('Mode')\n",
    "plt.ylabel('Cantidad de canciones')\n",
    "plt.show()\n"
   ],
   "outputs": [
    {
     "data": {
      "text/plain": [
       "<Figure size 800x600 with 1 Axes>"
      ],
      "image/png": "[encoded data removed]"
     },
     "metadata": {},
     "output_type": "display_data"
    }
   ],
   "execution_count": 89
  },
  {
   "metadata": {},
   "cell_type": "markdown",
   "source": "Se aprecia que hay muchas más canciones escritas en escala mayor que en escala menor. Según esta [página](https://www.artsmusica.net/teoria-musical/diferencia-entre-escalas-mayores-y-menores/), una canción compuesta por una escala mayor da una sensación de alegría, mientras que a las que se conforman por escalas menores se les atribuye sentimientos más tristes o depresivos. Por lo tanto, sería de especial interés comprobar si existe una relación entre ```Mode``` con la variable que mide los niveles de positividad de la canción, ```Valance```."
  },
  {
   "metadata": {},
   "cell_type": "markdown",
   "source": "### ```Análisis de Acoustiness```"
  },
  {
   "metadata": {},
   "cell_type": "markdown",
   "source": "Ahora vamos a realizar el análisis sobre la variable que mide que tan acústica es una canción. Como"
  }
 ],
 "metadata": {
  "kernelspec": {
   "display_name": "tpe",
   "language": "python",
   "name": "python3"
  },
  "language_info": {
   "codemirror_mode": {
    "name": "ipython",
    "version": 3
   },
   "file_extension": ".py",
   "mimetype": "text/x-python",
   "name": "python",
   "nbconvert_exporter": "python",
   "pygments_lexer": "ipython3",
   "version": "3.12.5"
  }
 },
 "nbformat": 4,
 "nbformat_minor": 2
}
