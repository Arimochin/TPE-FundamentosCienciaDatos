{
 "cells": [
  {
   "cell_type": "markdown",
   "metadata": {},
   "source": [
    "# _TP especial Fundamentos de la Ciencia de Datos_<br>\n",
    "### _Grupo 7: Buralli, Todesco, Antúnez_\n"
   ]
  },
  {
   "cell_type": "markdown",
   "metadata": {},
   "source": [
    "### <u>Descarga y lectura de archivos<u>"
   ]
  },
  {
   "cell_type": "markdown",
   "metadata": {},
   "source": [
    "Empezaremos descargando y leyendo los archivos mandados por la cátedra"
   ]
  },
  {
   "cell_type": "code",
   "execution_count": 5,
   "metadata": {},
   "outputs": [],
   "source": [
    "import pandas as pd\n",
    "import seaborn as sns\n",
    "import matplotlib.pyplot as plt\n",
    "\n",
    "covers_dataset = pd.read_csv('Covers.csv')"
   ]
  },
  {
   "cell_type": "markdown",
   "metadata": {},
   "source": [
    "Hacemos una vista general para saber de que se trata el dataset, que significan cada una de sus columnas"
   ]
  },
  {
   "cell_type": "code",
   "execution_count": 7,
   "metadata": {},
   "outputs": [
    {
     "data": {
      "text/html": [
       "<div>\n",
       "<style scoped>\n",
       "    .dataframe tbody tr th:only-of-type {\n",
       "        vertical-align: middle;\n",
       "    }\n",
       "\n",
       "    .dataframe tbody tr th {\n",
       "        vertical-align: top;\n",
       "    }\n",
       "\n",
       "    .dataframe thead th {\n",
       "        text-align: right;\n",
       "    }\n",
       "</style>\n",
       "<table border=\"1\" class=\"dataframe\">\n",
       "  <thead>\n",
       "    <tr style=\"text-align: right;\">\n",
       "      <th></th>\n",
       "      <th>Track</th>\n",
       "      <th>Artist</th>\n",
       "      <th>Duration</th>\n",
       "      <th>Time_Signature</th>\n",
       "      <th>Danceability</th>\n",
       "      <th>Energy</th>\n",
       "      <th>Key</th>\n",
       "      <th>Loudness</th>\n",
       "      <th>Mode</th>\n",
       "      <th>Speechiness</th>\n",
       "      <th>Acousticness</th>\n",
       "      <th>Instrumentalness</th>\n",
       "      <th>Liveness</th>\n",
       "      <th>Valence</th>\n",
       "      <th>Tempo</th>\n",
       "      <th>Popularity</th>\n",
       "      <th>Year</th>\n",
       "    </tr>\n",
       "  </thead>\n",
       "  <tbody>\n",
       "    <tr>\n",
       "      <th>0</th>\n",
       "      <td>Everybody Everybody</td>\n",
       "      <td>Black Box</td>\n",
       "      <td>4:11</td>\n",
       "      <td>4</td>\n",
       "      <td>0.645</td>\n",
       "      <td>0.795</td>\n",
       "      <td>7</td>\n",
       "      <td>-12.095</td>\n",
       "      <td>1</td>\n",
       "      <td>0.0527</td>\n",
       "      <td>0.3470</td>\n",
       "      <td>0.003890</td>\n",
       "      <td>0.1040</td>\n",
       "      <td>0.535</td>\n",
       "      <td>112.067</td>\n",
       "      <td>87</td>\n",
       "      <td>1990</td>\n",
       "    </tr>\n",
       "    <tr>\n",
       "      <th>1</th>\n",
       "      <td>Close To You</td>\n",
       "      <td>Maxi Priest</td>\n",
       "      <td>3:45</td>\n",
       "      <td>4</td>\n",
       "      <td>0.590</td>\n",
       "      <td>0.727</td>\n",
       "      <td>6</td>\n",
       "      <td>-7.955</td>\n",
       "      <td>1</td>\n",
       "      <td>0.0706</td>\n",
       "      <td>0.0259</td>\n",
       "      <td>0.000065</td>\n",
       "      <td>0.0827</td>\n",
       "      <td>0.356</td>\n",
       "      <td>121.966</td>\n",
       "      <td>85</td>\n",
       "      <td>1990</td>\n",
       "    </tr>\n",
       "    <tr>\n",
       "      <th>2</th>\n",
       "      <td>Do Me!</td>\n",
       "      <td>Bell Biv DeVoe</td>\n",
       "      <td>3:56</td>\n",
       "      <td>4</td>\n",
       "      <td>0.615</td>\n",
       "      <td>0.534</td>\n",
       "      <td>9</td>\n",
       "      <td>-6.719</td>\n",
       "      <td>0</td>\n",
       "      <td>0.0386</td>\n",
       "      <td>0.1060</td>\n",
       "      <td>0.000018</td>\n",
       "      <td>0.0607</td>\n",
       "      <td>0.193</td>\n",
       "      <td>135.917</td>\n",
       "      <td>84</td>\n",
       "      <td>1990</td>\n",
       "    </tr>\n",
       "    <tr>\n",
       "      <th>3</th>\n",
       "      <td>Everything</td>\n",
       "      <td>Jody Watley</td>\n",
       "      <td>4:05</td>\n",
       "      <td>4</td>\n",
       "      <td>0.704</td>\n",
       "      <td>0.225</td>\n",
       "      <td>6</td>\n",
       "      <td>-14.454</td>\n",
       "      <td>0</td>\n",
       "      <td>0.0994</td>\n",
       "      <td>0.9020</td>\n",
       "      <td>0.657000</td>\n",
       "      <td>0.1060</td>\n",
       "      <td>0.243</td>\n",
       "      <td>120.006</td>\n",
       "      <td>82</td>\n",
       "      <td>1990</td>\n",
       "    </tr>\n",
       "    <tr>\n",
       "      <th>4</th>\n",
       "      <td>What It Takes</td>\n",
       "      <td>Aerosmith</td>\n",
       "      <td>3:21</td>\n",
       "      <td>4</td>\n",
       "      <td>0.672</td>\n",
       "      <td>0.655</td>\n",
       "      <td>10</td>\n",
       "      <td>-5.021</td>\n",
       "      <td>0</td>\n",
       "      <td>0.0310</td>\n",
       "      <td>0.0362</td>\n",
       "      <td>0.000000</td>\n",
       "      <td>0.1170</td>\n",
       "      <td>0.555</td>\n",
       "      <td>134.948</td>\n",
       "      <td>82</td>\n",
       "      <td>1990</td>\n",
       "    </tr>\n",
       "  </tbody>\n",
       "</table>\n",
       "</div>"
      ],
      "text/plain": [
       "                 Track          Artist Duration  Time_Signature  Danceability  \\\n",
       "0  Everybody Everybody       Black Box     4:11               4         0.645   \n",
       "1         Close To You     Maxi Priest     3:45               4         0.590   \n",
       "2               Do Me!  Bell Biv DeVoe     3:56               4         0.615   \n",
       "3           Everything     Jody Watley     4:05               4         0.704   \n",
       "4        What It Takes       Aerosmith     3:21               4         0.672   \n",
       "\n",
       "   Energy  Key  Loudness  Mode  Speechiness  Acousticness  Instrumentalness  \\\n",
       "0   0.795    7   -12.095     1       0.0527        0.3470          0.003890   \n",
       "1   0.727    6    -7.955     1       0.0706        0.0259          0.000065   \n",
       "2   0.534    9    -6.719     0       0.0386        0.1060          0.000018   \n",
       "3   0.225    6   -14.454     0       0.0994        0.9020          0.657000   \n",
       "4   0.655   10    -5.021     0       0.0310        0.0362          0.000000   \n",
       "\n",
       "   Liveness  Valence    Tempo  Popularity  Year  \n",
       "0    0.1040    0.535  112.067          87  1990  \n",
       "1    0.0827    0.356  121.966          85  1990  \n",
       "2    0.0607    0.193  135.917          84  1990  \n",
       "3    0.1060    0.243  120.006          82  1990  \n",
       "4    0.1170    0.555  134.948          82  1990  "
      ]
     },
     "execution_count": 7,
     "metadata": {},
     "output_type": "execute_result"
    }
   ],
   "source": [
    "covers_dataset.head()"
   ]
  },
  {
   "cell_type": "markdown",
   "metadata": {},
   "source": [
    "### Descripción de las variables<br>\n",
    "* ```Track```: nombre de la canción\n",
    "* ```Artist```: nombre del artista o intérprete\n",
    "* ```Duration```: duración en minutos de la canción\n",
    "* ```Time_Signature```: número de pulsaciones por compás\n",
    "* ```Danceability```: medida de que tan bailable es la canción(entre 0 y 1)\n",
    "* ```Energy```: medida de que tan enérgica es la canción(entre 0 y 1)\n",
    "* ```Key```: tonalidad de la canción, número entero\n",
    "* ```Loudness```: volumen de la canción, en decibelios\n",
    "* ```Mode```: tono mayor o menor(0 o 1, respectivamente)\n",
    "* ```Speechiness```: medida de presencia de palabras habladas en las canciones, valores altos indican una alta presencia de estas palabras\n",
    "* ```Acoustiness```: mide que tan acústica es la pista\n",
    "* ```Instrumentalness```: mide la presencia de voces en las canciones, valores más altos indican una canción con mayor parte instrumental\n",
    "* ```Liveness```: probabilidad de que dicha canción se haya interpretado en vivo, niveles más altos indican mayor presencia de voces de la audiencia\n",
    "* ```Valance```: medida de la positividad de la canción, niveles más altos indican presencias de mlodías alegres\n",
    "* ```Tempo```: velocidad de la pista, medida en beats por minutos(BPM)\n",
    "* ```Popularity```: puntuación de la canción que mide su popularidad\n",
    "* ```Year```: año de lanzamiento"
   ]
  },
  {
   "cell_type": "markdown",
   "metadata": {},
   "source": [
    "Identificaremos la cantidad de nulos mediante el co"
   ]
  },
  {
   "cell_type": "code",
   "execution_count": 52,
   "metadata": {},
   "outputs": [
    {
     "data": {
      "text/plain": [
       "Track               0\n",
       "Artist              0\n",
       "Duration            0\n",
       "Time_Signature      0\n",
       "Danceability        0\n",
       "Energy              0\n",
       "Key                 0\n",
       "Loudness            0\n",
       "Mode                0\n",
       "Speechiness         0\n",
       "Acousticness        0\n",
       "Instrumentalness    0\n",
       "Liveness            0\n",
       "Valence             0\n",
       "Tempo               0\n",
       "Popularity          0\n",
       "Year                0\n",
       "dtype: int64"
      ]
     },
     "execution_count": 52,
     "metadata": {},
     "output_type": "execute_result"
    }
   ],
   "source": [
    "covers_dataset.isna().sum()"
   ]
  },
  {
   "cell_type": "markdown",
   "metadata": {},
   "source": [
    "Observamos que no hay NaNs, pero esto no descarta la presencia de valores extraños a analizar en las distintas columnas, por lo que verificaremos mediante el método ```value_count()```"
   ]
  },
  {
   "cell_type": "markdown",
   "metadata": {},
   "source": [
    "### <u>Revision de valores<u>"
   ]
  },
  {
   "cell_type": "code",
   "execution_count": 9,
   "metadata": {},
   "outputs": [
    {
     "data": {
      "text/plain": [
       "Track\n",
       "Hold On                     3\n",
       "Lately                      2\n",
       "Stay                        2\n",
       "Angel                       2\n",
       "Anything                    2\n",
       "                           ..\n",
       "I’m Your Angel              1\n",
       "Taking Everything           1\n",
       "What’s It Gonna Be?!        1\n",
       "Almost Doesn’t Count        1\n",
       "We Didn’t Start The Fire    1\n",
       "Name: count, Length: 892, dtype: int64"
      ]
     },
     "execution_count": 9,
     "metadata": {},
     "output_type": "execute_result"
    }
   ],
   "source": [
    "covers_dataset[\"Track\"].value_counts()"
   ]
  },
  {
   "cell_type": "markdown",
   "metadata": {},
   "source": [
    "En ```Track``` parece no haber presencia de valores raros, si algunos nombres repetidos."
   ]
  },
  {
   "cell_type": "code",
   "execution_count": 10,
   "metadata": {},
   "outputs": [
    {
     "data": {
      "text/plain": [
       "Artist\n",
       "Mariah Carey                    16\n",
       "Madonna                         14\n",
       "Janet Jackson                   13\n",
       "Boyz II Men                     11\n",
       "Whitney Houston                 10\n",
       "                                ..\n",
       "Lou Bega                         1\n",
       "Christina Aguilera               1\n",
       "Mariah Carey featuring Jay-Z     1\n",
       "Mark Chesnutt                    1\n",
       "Tal Bachman                      1\n",
       "Name: count, Length: 535, dtype: int64"
      ]
     },
     "execution_count": 10,
     "metadata": {},
     "output_type": "execute_result"
    }
   ],
   "source": [
    "covers_dataset[\"Artist\"].value_counts()"
   ]
  },
  {
   "cell_type": "markdown",
   "metadata": {},
   "source": [
    "Con ```Artist``` parace algo similar, nada extraño a primera vista"
   ]
  },
  {
   "cell_type": "code",
   "execution_count": 11,
   "metadata": {},
   "outputs": [
    {
     "data": {
      "text/plain": [
       "Duration\n",
       "3:48    12\n",
       "3:55    12\n",
       "4:18    11\n",
       "3:59    11\n",
       "3:38    10\n",
       "        ..\n",
       "4:06     1\n",
       "2:55     1\n",
       "2:46     1\n",
       "2:07     1\n",
       "4:46     1\n",
       "Name: count, Length: 253, dtype: int64"
      ]
     },
     "execution_count": 11,
     "metadata": {},
     "output_type": "execute_result"
    }
   ],
   "source": [
    "covers_dataset[\"Duration\"].value_counts()"
   ]
  },
  {
   "cell_type": "markdown",
   "metadata": {},
   "source": [
    "```Duration``` tampoco parece tener valores atípicos, aunque luego abria que convertir el dato a algo numerico."
   ]
  },
  {
   "cell_type": "code",
   "execution_count": 12,
   "metadata": {},
   "outputs": [
    {
     "data": {
      "text/plain": [
       "Time_Signature\n",
       "4    865\n",
       "3     45\n",
       "5      6\n",
       "1      3\n",
       "Name: count, dtype: int64"
      ]
     },
     "execution_count": 12,
     "metadata": {},
     "output_type": "execute_result"
    }
   ],
   "source": [
    "covers_dataset['Time_Signature'].value_counts()"
   ]
  },
  {
   "cell_type": "markdown",
   "metadata": {},
   "source": [
    "```Time_Signature``` parece correcto."
   ]
  },
  {
   "cell_type": "code",
   "execution_count": 107,
   "metadata": {},
   "outputs": [
    {
     "data": {
      "text/plain": [
       "Danceability\n",
       "0.648    7\n",
       "0.612    6\n",
       "0.679    6\n",
       "0.547    6\n",
       "0.765    6\n",
       "        ..\n",
       "0.882    1\n",
       "0.465    1\n",
       "0.830    1\n",
       "0.393    1\n",
       "0.600    1\n",
       "Name: count, Length: 462, dtype: int64"
      ]
     },
     "execution_count": 107,
     "metadata": {},
     "output_type": "execute_result"
    }
   ],
   "source": [
    "covers_dataset['Danceability'].value_counts()"
   ]
  },
  {
   "cell_type": "markdown",
   "metadata": {},
   "source": [
    "En ```Danceability``` no parece que haya nada raro... Hagamos un boxplot para ver mas en detalle."
   ]
  },
  {
   "cell_type": "code",
   "execution_count": 111,
   "metadata": {},
   "outputs": [
    {
     "data": {
      "text/plain": [
       "count    919.000000\n",
       "mean       0.622967\n",
       "std        0.154782\n",
       "min        0.135000\n",
       "25%        0.518500\n",
       "50%        0.631000\n",
       "75%        0.738000\n",
       "max        0.979000\n",
       "Name: Danceability, dtype: float64"
      ]
     },
     "execution_count": 111,
     "metadata": {},
     "output_type": "execute_result"
    }
   ],
   "source": [
    "covers_dataset['Danceability'].min()\n",
    "covers_dataset['Danceability'].max()\n",
    "covers_dataset['Danceability'].median()\n",
    "danceability.describe()"
   ]
  },
  {
   "cell_type": "code",
   "execution_count": 42,
   "metadata": {},
   "outputs": [
    {
     "data": {
      "text/plain": [
       "Energy\n",
       "0.521    8\n",
       "0.453    6\n",
       "0.498    6\n",
       "0.538    6\n",
       "0.611    5\n",
       "        ..\n",
       "0.397    1\n",
       "0.792    1\n",
       "0.844    1\n",
       "0.977    1\n",
       "0.628    1\n",
       "Name: count, Length: 522, dtype: int64"
      ]
     },
     "execution_count": 42,
     "metadata": {},
     "output_type": "execute_result"
    }
   ],
   "source": [
    "covers_dataset['Energy'].value_counts()"
   ]
  },
  {
   "cell_type": "markdown",
   "metadata": {},
   "source": [
    "A primera vista no parece haber valores extraño."
   ]
  },
  {
   "cell_type": "code",
   "execution_count": 44,
   "metadata": {},
   "outputs": [
    {
     "data": {
      "text/plain": [
       "Key\n",
       "1     106\n",
       "7     104\n",
       "5      91\n",
       "9      91\n",
       "0      90\n",
       "6      73\n",
       "11     72\n",
       "10     68\n",
       "2      65\n",
       "4      64\n",
       "8      57\n",
       "3      38\n",
       "Name: count, dtype: int64"
      ]
     },
     "execution_count": 44,
     "metadata": {},
     "output_type": "execute_result"
    }
   ],
   "source": [
    "covers_dataset['Key'].value_counts()"
   ]
  },
  {
   "cell_type": "markdown",
   "metadata": {},
   "source": [
    "Todo parece normal en ```Key```."
   ]
  },
  {
   "cell_type": "code",
   "execution_count": 45,
   "metadata": {},
   "outputs": [
    {
     "data": {
      "text/plain": [
       "Loudness\n",
       "-7.440     3\n",
       "-8.412     3\n",
       "-5.484     3\n",
       "-5.109     3\n",
       "-10.419    3\n",
       "          ..\n",
       "-10.952    1\n",
       "-5.395     1\n",
       "-4.699     1\n",
       "-7.063     1\n",
       "-7.435     1\n",
       "Name: count, Length: 842, dtype: int64"
      ]
     },
     "execution_count": 45,
     "metadata": {},
     "output_type": "execute_result"
    }
   ],
   "source": [
    "covers_dataset['Loudness'].value_counts()"
   ]
  },
  {
   "cell_type": "markdown",
   "metadata": {},
   "source": [
    "Sospechosos los valores que se repiten 3 veces siendo una variable continua pero aceptable..."
   ]
  },
  {
   "cell_type": "code",
   "execution_count": 84,
   "metadata": {},
   "outputs": [
    {
     "data": {
      "text/plain": [
       "Mode\n",
       "1    602\n",
       "0    317\n",
       "Name: count, dtype: int64"
      ]
     },
     "execution_count": 84,
     "metadata": {},
     "output_type": "execute_result"
    }
   ],
   "source": [
    "covers_dataset['Mode'].value_counts()"
   ]
  },
  {
   "cell_type": "markdown",
   "metadata": {},
   "source": [
    "Predominancia del valor de 1 en ```Mode```."
   ]
  },
  {
   "cell_type": "code",
   "execution_count": 49,
   "metadata": {},
   "outputs": [
    {
     "data": {
      "text/plain": [
       "Speechiness\n",
       "0.0352    9\n",
       "0.0321    8\n",
       "0.0270    8\n",
       "0.0277    7\n",
       "0.0279    7\n",
       "         ..\n",
       "0.5290    1\n",
       "0.0389    1\n",
       "0.0239    1\n",
       "0.0632    1\n",
       "0.0384    1\n",
       "Name: count, Length: 488, dtype: int64"
      ]
     },
     "execution_count": 49,
     "metadata": {},
     "output_type": "execute_result"
    }
   ],
   "source": [
    "covers_dataset['Speechiness'].value_counts()"
   ]
  },
  {
   "cell_type": "markdown",
   "metadata": {},
   "source": [
    "Valores repetidos en una variable continua. Candidatos a invertigacion: 0.0352,0.0321,0.0270    "
   ]
  },
  {
   "cell_type": "code",
   "execution_count": 50,
   "metadata": {},
   "outputs": [
    {
     "data": {
      "text/plain": [
       "Acousticness\n",
       "0.11800    5\n",
       "0.21500    5\n",
       "0.43400    4\n",
       "0.12800    4\n",
       "0.20000    4\n",
       "          ..\n",
       "0.40000    1\n",
       "0.00913    1\n",
       "0.77600    1\n",
       "0.08860    1\n",
       "0.92400    1\n",
       "Name: count, Length: 676, dtype: int64"
      ]
     },
     "execution_count": 50,
     "metadata": {},
     "output_type": "execute_result"
    }
   ],
   "source": [
    "covers_dataset['Acousticness'].value_counts()"
   ]
  },
  {
   "cell_type": "markdown",
   "metadata": {},
   "source": [
    "Hay valores repetidos 5 veces, puede investigarse..."
   ]
  },
  {
   "cell_type": "code",
   "execution_count": 51,
   "metadata": {},
   "outputs": [
    {
     "data": {
      "text/plain": [
       "Instrumentalness\n",
       "0.000000    375\n",
       "0.109000      4\n",
       "0.000106      3\n",
       "0.000021      3\n",
       "0.000163      3\n",
       "           ... \n",
       "0.000345      1\n",
       "0.000162      1\n",
       "0.000279      1\n",
       "0.000015      1\n",
       "0.000343      1\n",
       "Name: count, Length: 489, dtype: int64"
      ]
     },
     "execution_count": 51,
     "metadata": {},
     "output_type": "execute_result"
    }
   ],
   "source": [
    "covers_dataset['Instrumentalness'].value_counts()"
   ]
  },
  {
   "cell_type": "markdown",
   "metadata": {},
   "source": [
    "Muchos registros con 0 de ```Instrumentalness```, asumimos que 0 significa que la cancion es \"Acapella\" valores altos de ```instrumentalness``` como bien describimos al principio corresponden o \"deberian\" corresponder a canciones con mayor presencia instrumental. Mientras que valores menores indican lo contrario. Resaltamos el ```deberia``` porque investigando algunas canciones con valores ```instrumentalness``` estas si poseen instrumentacion."
   ]
  },
  {
   "cell_type": "code",
   "execution_count": 54,
   "metadata": {},
   "outputs": [
    {
     "data": {
      "text/plain": [
       "Liveness\n",
       "0.1090    14\n",
       "0.1080    13\n",
       "0.1040    12\n",
       "0.1030    11\n",
       "0.1060    11\n",
       "          ..\n",
       "0.0800     1\n",
       "0.0779     1\n",
       "0.0675     1\n",
       "0.0778     1\n",
       "0.0820     1\n",
       "Name: count, Length: 499, dtype: int64"
      ]
     },
     "execution_count": 54,
     "metadata": {},
     "output_type": "execute_result"
    }
   ],
   "source": [
    "covers_dataset['Liveness'].value_counts()"
   ]
  },
  {
   "cell_type": "markdown",
   "metadata": {},
   "source": [
    "A primera vista no sabemos bien la razon pero en ```Liveness``` hay valores repetidos en 0.1xxx osea todos los valores que son 0.1 y algo mas."
   ]
  },
  {
   "cell_type": "code",
   "execution_count": 61,
   "metadata": {},
   "outputs": [
    {
     "data": {
      "text/plain": [
       "Valence\n",
       "0.287    6\n",
       "0.781    5\n",
       "0.510    5\n",
       "0.421    5\n",
       "0.807    5\n",
       "        ..\n",
       "0.477    1\n",
       "0.862    1\n",
       "0.715    1\n",
       "0.390    1\n",
       "0.748    1\n",
       "Name: count, Length: 570, dtype: int64"
      ]
     },
     "execution_count": 61,
     "metadata": {},
     "output_type": "execute_result"
    }
   ],
   "source": [
    "covers_dataset['Valence'].value_counts()"
   ]
  },
  {
   "cell_type": "markdown",
   "metadata": {},
   "source": [
    "Algunos valores repetidos en ```Valence``` pero zafa..."
   ]
  },
  {
   "cell_type": "code",
   "execution_count": 58,
   "metadata": {},
   "outputs": [
    {
     "data": {
      "text/plain": [
       "Tempo\n",
       "118.777    3\n",
       "100.002    3\n",
       "83.943     2\n",
       "118.402    2\n",
       "119.973    2\n",
       "          ..\n",
       "98.572     1\n",
       "113.722    1\n",
       "127.969    1\n",
       "71.582     1\n",
       "85.666     1\n",
       "Name: count, Length: 873, dtype: int64"
      ]
     },
     "execution_count": 58,
     "metadata": {},
     "output_type": "execute_result"
    }
   ],
   "source": [
    "covers_dataset['Tempo'].value_counts()"
   ]
  },
  {
   "cell_type": "markdown",
   "metadata": {},
   "source": [
    "Aceptable, quizas los valores 118.777 y 100.002 podrian revisarse, tampoco que se repitan tanto en ```Tempo```"
   ]
  },
  {
   "cell_type": "code",
   "execution_count": 59,
   "metadata": {},
   "outputs": [
    {
     "data": {
      "text/plain": [
       "Popularity\n",
       "59    30\n",
       "69    28\n",
       "57    27\n",
       "64    27\n",
       "63    27\n",
       "      ..\n",
       "4      1\n",
       "16     1\n",
       "92     1\n",
       "89     1\n",
       "25     1\n",
       "Name: count, Length: 82, dtype: int64"
      ]
     },
     "execution_count": 59,
     "metadata": {},
     "output_type": "execute_result"
    }
   ],
   "source": [
    "covers_dataset['Popularity'].value_counts()"
   ]
  },
  {
   "cell_type": "markdown",
   "metadata": {},
   "source": [
    "Variable discreta asi que esta bien que se repitan cosas. Tampoco exageremos!"
   ]
  },
  {
   "cell_type": "code",
   "execution_count": 60,
   "metadata": {},
   "outputs": [
    {
     "data": {
      "text/plain": [
       "Year\n",
       "1991    100\n",
       "1990     99\n",
       "1999     96\n",
       "1992     95\n",
       "1993     94\n",
       "1994     91\n",
       "1998     91\n",
       "1997     89\n",
       "1995     86\n",
       "1996     78\n",
       "Name: count, dtype: int64"
      ]
     },
     "execution_count": 60,
     "metadata": {},
     "output_type": "execute_result"
    }
   ],
   "source": [
    "covers_dataset['Year'].value_counts()"
   ]
  },
  {
   "cell_type": "markdown",
   "metadata": {},
   "source": [
    "Vemos que todas las canciones son de los '90, pero nada extraño que destacar."
   ]
  },
  {
   "cell_type": "markdown",
   "metadata": {},
   "source": [
    "**Nota: Relacionar las variables Valance y Tempo(¿la velocidad se relaciona a la positividad de la canción?)**"
   ]
  },
  {
   "cell_type": "markdown",
   "metadata": {},
   "source": [
    "### <u>Corrección de tipos<u> "
   ]
  },
  {
   "cell_type": "markdown",
   "metadata": {},
   "source": [
    " Ahora nos ocuparemos de comprobar que los tipos de las variables sean adecuados a lo que representan. Para ello, usamos el método ```info()```"
   ]
  },
  {
   "cell_type": "code",
   "execution_count": 88,
   "metadata": {},
   "outputs": [
    {
     "name": "stdout",
     "output_type": "stream",
     "text": [
      "<class 'pandas.core.frame.DataFrame'>\n",
      "RangeIndex: 919 entries, 0 to 918\n",
      "Data columns (total 17 columns):\n",
      " #   Column            Non-Null Count  Dtype  \n",
      "---  ------            --------------  -----  \n",
      " 0   Track             919 non-null    object \n",
      " 1   Artist            919 non-null    object \n",
      " 2   Duration          919 non-null    object \n",
      " 3   Time_Signature    919 non-null    int64  \n",
      " 4   Danceability      919 non-null    float64\n",
      " 5   Energy            919 non-null    float64\n",
      " 6   Key               919 non-null    int64  \n",
      " 7   Loudness          919 non-null    float64\n",
      " 8   Mode              919 non-null    int64  \n",
      " 9   Speechiness       919 non-null    float64\n",
      " 10  Acousticness      919 non-null    float64\n",
      " 11  Instrumentalness  919 non-null    float64\n",
      " 12  Liveness          919 non-null    float64\n",
      " 13  Valence           919 non-null    float64\n",
      " 14  Tempo             919 non-null    float64\n",
      " 15  Popularity        919 non-null    int64  \n",
      " 16  Year              919 non-null    int64  \n",
      "dtypes: float64(9), int64(5), object(3)\n",
      "memory usage: 122.2+ KB\n"
     ]
    }
   ],
   "source": [
    "covers_dataset.info()"
   ]
  },
  {
   "cell_type": "markdown",
   "metadata": {},
   "source": [
    "Hacemos una copia mediante el método ```copy()``` para no arruinar el dataset original"
   ]
  },
  {
   "cell_type": "code",
   "execution_count": 6,
   "metadata": {},
   "outputs": [],
   "source": [
    "copy_covers_ds = covers_dataset.copy()"
   ]
  },
  {
   "cell_type": "markdown",
   "metadata": {},
   "source": [
    "Convertimos el tipo de dato de la columna ```Mode``` de entero a booleano para hacer el análisis"
   ]
  },
  {
   "cell_type": "code",
   "execution_count": 7,
   "metadata": {},
   "outputs": [],
   "source": [
    "copy_covers_ds['Mode'] = copy_covers_ds['Mode'].astype(bool)"
   ]
  },
  {
   "cell_type": "markdown",
   "metadata": {},
   "source": [
    "Ahora nos centraremos en arreglar el tipo de la variable ```Duration```, convirtiendolo de string a integer(segundos)"
   ]
  },
  {
   "cell_type": "code",
   "execution_count": 8,
   "metadata": {},
   "outputs": [
    {
     "data": {
      "text/html": [
       "<div>\n",
       "<style scoped>\n",
       "    .dataframe tbody tr th:only-of-type {\n",
       "        vertical-align: middle;\n",
       "    }\n",
       "\n",
       "    .dataframe tbody tr th {\n",
       "        vertical-align: top;\n",
       "    }\n",
       "\n",
       "    .dataframe thead th {\n",
       "        text-align: right;\n",
       "    }\n",
       "</style>\n",
       "<table border=\"1\" class=\"dataframe\">\n",
       "  <thead>\n",
       "    <tr style=\"text-align: right;\">\n",
       "      <th></th>\n",
       "      <th>Track</th>\n",
       "      <th>Artist</th>\n",
       "      <th>Duration</th>\n",
       "      <th>Time_Signature</th>\n",
       "      <th>Danceability</th>\n",
       "      <th>Energy</th>\n",
       "      <th>Key</th>\n",
       "      <th>Loudness</th>\n",
       "      <th>Mode</th>\n",
       "      <th>Speechiness</th>\n",
       "      <th>Acousticness</th>\n",
       "      <th>Instrumentalness</th>\n",
       "      <th>Liveness</th>\n",
       "      <th>Valence</th>\n",
       "      <th>Tempo</th>\n",
       "      <th>Popularity</th>\n",
       "      <th>Year</th>\n",
       "      <th>DURATION(s)</th>\n",
       "    </tr>\n",
       "  </thead>\n",
       "  <tbody>\n",
       "    <tr>\n",
       "      <th>0</th>\n",
       "      <td>Everybody Everybody</td>\n",
       "      <td>Black Box</td>\n",
       "      <td>4:11</td>\n",
       "      <td>4</td>\n",
       "      <td>0.645</td>\n",
       "      <td>0.795</td>\n",
       "      <td>7</td>\n",
       "      <td>-12.095</td>\n",
       "      <td>True</td>\n",
       "      <td>0.0527</td>\n",
       "      <td>0.3470</td>\n",
       "      <td>0.003890</td>\n",
       "      <td>0.1040</td>\n",
       "      <td>0.535</td>\n",
       "      <td>112.067</td>\n",
       "      <td>87</td>\n",
       "      <td>1990</td>\n",
       "      <td>251</td>\n",
       "    </tr>\n",
       "    <tr>\n",
       "      <th>1</th>\n",
       "      <td>Close To You</td>\n",
       "      <td>Maxi Priest</td>\n",
       "      <td>3:45</td>\n",
       "      <td>4</td>\n",
       "      <td>0.590</td>\n",
       "      <td>0.727</td>\n",
       "      <td>6</td>\n",
       "      <td>-7.955</td>\n",
       "      <td>True</td>\n",
       "      <td>0.0706</td>\n",
       "      <td>0.0259</td>\n",
       "      <td>0.000065</td>\n",
       "      <td>0.0827</td>\n",
       "      <td>0.356</td>\n",
       "      <td>121.966</td>\n",
       "      <td>85</td>\n",
       "      <td>1990</td>\n",
       "      <td>225</td>\n",
       "    </tr>\n",
       "    <tr>\n",
       "      <th>2</th>\n",
       "      <td>Do Me!</td>\n",
       "      <td>Bell Biv DeVoe</td>\n",
       "      <td>3:56</td>\n",
       "      <td>4</td>\n",
       "      <td>0.615</td>\n",
       "      <td>0.534</td>\n",
       "      <td>9</td>\n",
       "      <td>-6.719</td>\n",
       "      <td>False</td>\n",
       "      <td>0.0386</td>\n",
       "      <td>0.1060</td>\n",
       "      <td>0.000018</td>\n",
       "      <td>0.0607</td>\n",
       "      <td>0.193</td>\n",
       "      <td>135.917</td>\n",
       "      <td>84</td>\n",
       "      <td>1990</td>\n",
       "      <td>236</td>\n",
       "    </tr>\n",
       "    <tr>\n",
       "      <th>3</th>\n",
       "      <td>Everything</td>\n",
       "      <td>Jody Watley</td>\n",
       "      <td>4:05</td>\n",
       "      <td>4</td>\n",
       "      <td>0.704</td>\n",
       "      <td>0.225</td>\n",
       "      <td>6</td>\n",
       "      <td>-14.454</td>\n",
       "      <td>False</td>\n",
       "      <td>0.0994</td>\n",
       "      <td>0.9020</td>\n",
       "      <td>0.657000</td>\n",
       "      <td>0.1060</td>\n",
       "      <td>0.243</td>\n",
       "      <td>120.006</td>\n",
       "      <td>82</td>\n",
       "      <td>1990</td>\n",
       "      <td>245</td>\n",
       "    </tr>\n",
       "    <tr>\n",
       "      <th>4</th>\n",
       "      <td>What It Takes</td>\n",
       "      <td>Aerosmith</td>\n",
       "      <td>3:21</td>\n",
       "      <td>4</td>\n",
       "      <td>0.672</td>\n",
       "      <td>0.655</td>\n",
       "      <td>10</td>\n",
       "      <td>-5.021</td>\n",
       "      <td>False</td>\n",
       "      <td>0.0310</td>\n",
       "      <td>0.0362</td>\n",
       "      <td>0.000000</td>\n",
       "      <td>0.1170</td>\n",
       "      <td>0.555</td>\n",
       "      <td>134.948</td>\n",
       "      <td>82</td>\n",
       "      <td>1990</td>\n",
       "      <td>201</td>\n",
       "    </tr>\n",
       "  </tbody>\n",
       "</table>\n",
       "</div>"
      ],
      "text/plain": [
       "                 Track          Artist Duration  Time_Signature  Danceability  \\\n",
       "0  Everybody Everybody       Black Box     4:11               4         0.645   \n",
       "1         Close To You     Maxi Priest     3:45               4         0.590   \n",
       "2               Do Me!  Bell Biv DeVoe     3:56               4         0.615   \n",
       "3           Everything     Jody Watley     4:05               4         0.704   \n",
       "4        What It Takes       Aerosmith     3:21               4         0.672   \n",
       "\n",
       "   Energy  Key  Loudness   Mode  Speechiness  Acousticness  Instrumentalness  \\\n",
       "0   0.795    7   -12.095   True       0.0527        0.3470          0.003890   \n",
       "1   0.727    6    -7.955   True       0.0706        0.0259          0.000065   \n",
       "2   0.534    9    -6.719  False       0.0386        0.1060          0.000018   \n",
       "3   0.225    6   -14.454  False       0.0994        0.9020          0.657000   \n",
       "4   0.655   10    -5.021  False       0.0310        0.0362          0.000000   \n",
       "\n",
       "   Liveness  Valence    Tempo  Popularity  Year DURATION(s)  \n",
       "0    0.1040    0.535  112.067          87  1990         251  \n",
       "1    0.0827    0.356  121.966          85  1990         225  \n",
       "2    0.0607    0.193  135.917          84  1990         236  \n",
       "3    0.1060    0.243  120.006          82  1990         245  \n",
       "4    0.1170    0.555  134.948          82  1990         201  "
      ]
     },
     "execution_count": 8,
     "metadata": {},
     "output_type": "execute_result"
    }
   ],
   "source": [
    "#Por las dudas hacemos un cambio de tipos a string.\n",
    "copy_covers_ds['Duration'] = copy_covers_ds['Duration'].astype(str)\n",
    "#Creamos la nueva columna con los valores correctos convertidos a segundos(todavia no estan los valores).\n",
    "copy_covers_ds['DURATION(s)'] = pd.NA\n",
    "#Por cada registro hacemos:\n",
    "for index,row in copy_covers_ds.iterrows():\n",
    "    #duracion original se vuelve el valor de duracion de la fila.\n",
    "    duracion_original = row['Duration']\n",
    "    #Separamos por : los minutos y segundos.\n",
    "    minutos , segundos = duracion_original.split(':')\n",
    "    #Asignamos los minutos * 60 + los segundos obtenidos a la fila en la columna nueva, casteamos ambos parametros a segundos porque sino hace cualquier cosa.\n",
    "    copy_covers_ds.at[index,'DURATION(s)'] = int(minutos) * 60 + int(segundos)\n",
    "#Mostramos resultados.\n",
    "copy_covers_ds.head()"
   ]
  },
  {
   "cell_type": "markdown",
   "metadata": {},
   "source": [
    "### <u>Analisis de distribuciones<u>\n",
    "\n"
   ]
  },
  {
   "cell_type": "markdown",
   "metadata": {},
   "source": [
    "Ahora observaremos como se distribuye cada variable para poder aprender un poco sobre el conjunto de datos y obtener conclusiones. Tomaremos las variables más interesantes para analizar y cuyo gráfico nos pueda aportar algo de valor"
   ]
  },
  {
   "cell_type": "markdown",
   "metadata": {},
   "source": [
    "_Analisis de ```Danceability```_"
   ]
  },
  {
   "cell_type": "code",
   "execution_count": 36,
   "metadata": {},
   "outputs": [
    {
     "data": {
      "image/png": "[encoded data removed]",
      "text/plain": [
       "<Figure size 800x600 with 1 Axes>"
      ]
     },
     "metadata": {},
     "output_type": "display_data"
    }
   ],
   "source": [
    "# Nos quedamos solo con la columna Danceability\n",
    "danceability = covers_dataset[\"Danceability\"]\n",
    "\n",
    "# Creamos el boxplot\n",
    "plt.figure(figsize=(8, 6))\n",
    "sns.boxplot(x=danceability)\n",
    "plt.title(\"Boxplot de Danceability\")\n",
    "plt.xlabel(\"Danceability\")\n",
    "plt.show()"
   ]
  },
  {
   "cell_type": "code",
   "execution_count": 37,
   "metadata": {},
   "outputs": [
    {
     "data": {
      "text/html": [
       "<div>\n",
       "<style scoped>\n",
       "    .dataframe tbody tr th:only-of-type {\n",
       "        vertical-align: middle;\n",
       "    }\n",
       "\n",
       "    .dataframe tbody tr th {\n",
       "        vertical-align: top;\n",
       "    }\n",
       "\n",
       "    .dataframe thead th {\n",
       "        text-align: right;\n",
       "    }\n",
       "</style>\n",
       "<table border=\"1\" class=\"dataframe\">\n",
       "  <thead>\n",
       "    <tr style=\"text-align: right;\">\n",
       "      <th></th>\n",
       "      <th>Track</th>\n",
       "      <th>Artist</th>\n",
       "      <th>Duration</th>\n",
       "      <th>Time_Signature</th>\n",
       "      <th>Danceability</th>\n",
       "      <th>Energy</th>\n",
       "      <th>Key</th>\n",
       "      <th>Loudness</th>\n",
       "      <th>Mode</th>\n",
       "      <th>Speechiness</th>\n",
       "      <th>Acousticness</th>\n",
       "      <th>Instrumentalness</th>\n",
       "      <th>Liveness</th>\n",
       "      <th>Valence</th>\n",
       "      <th>Tempo</th>\n",
       "      <th>Popularity</th>\n",
       "      <th>Year</th>\n",
       "      <th>DURATION(s)</th>\n",
       "    </tr>\n",
       "  </thead>\n",
       "  <tbody>\n",
       "    <tr>\n",
       "      <th>323</th>\n",
       "      <td>Connected</td>\n",
       "      <td>Stereo MC’s</td>\n",
       "      <td>3:16</td>\n",
       "      <td>4</td>\n",
       "      <td>0.135</td>\n",
       "      <td>0.00134</td>\n",
       "      <td>2</td>\n",
       "      <td>-42.95</td>\n",
       "      <td>True</td>\n",
       "      <td>0.0496</td>\n",
       "      <td>0.969</td>\n",
       "      <td>0.972</td>\n",
       "      <td>0.0884</td>\n",
       "      <td>0.0372</td>\n",
       "      <td>141.488</td>\n",
       "      <td>66</td>\n",
       "      <td>1993</td>\n",
       "      <td>196</td>\n",
       "    </tr>\n",
       "  </tbody>\n",
       "</table>\n",
       "</div>"
      ],
      "text/plain": [
       "         Track       Artist Duration  Time_Signature  Danceability   Energy  \\\n",
       "323  Connected  Stereo MC’s     3:16               4         0.135  0.00134   \n",
       "\n",
       "     Key  Loudness  Mode  Speechiness  Acousticness  Instrumentalness  \\\n",
       "323    2    -42.95  True       0.0496         0.969             0.972   \n",
       "\n",
       "     Liveness  Valence    Tempo  Popularity  Year DURATION(s)  \n",
       "323    0.0884   0.0372  141.488          66  1993         196  "
      ]
     },
     "execution_count": 37,
     "metadata": {},
     "output_type": "execute_result"
    }
   ],
   "source": [
    "min = copy_covers_ds[\"Danceability\"].min()\n",
    "copy_covers_ds[copy_covers_ds[\"Danceability\"] == min]"
   ]
  },
  {
   "cell_type": "markdown",
   "metadata": {},
   "source": [
    "Parece que hay unos valores del lado izquierdo, podrian ser posibles outliers. "
   ]
  },
  {
   "cell_type": "markdown",
   "metadata": {},
   "source": [
    "_Analisis de ```Duration```_"
   ]
  },
  {
   "cell_type": "code",
   "execution_count": 16,
   "metadata": {},
   "outputs": [
    {
     "data": {
      "image/png": "[encoded data removed]",
      "text/plain": [
       "<Figure size 640x480 with 1 Axes>"
      ]
     },
     "metadata": {},
     "output_type": "display_data"
    }
   ],
   "source": [
    "bins = 50\n",
    "\n",
    "plt.hist(copy_covers_ds['DURATION(s)'], bins = bins)\n",
    "\n",
    "plt.xlabel('Duración (s)')\n",
    "plt.ylabel('Cantidad de canciones')\n",
    "plt.title('Histograma de duración de las canciones')\n",
    "plt.xticks(range(0, 600, 50))\n",
    "plt.show()"
   ]
  },
  {
   "cell_type": "markdown",
   "metadata": {},
   "source": [
    "Se puede ver que la mayoría de las canciones duran entre 150 y 300 segundos(2:30 y 5:00 minutos). Hay algunos outliers que superan los 500 segundos(8:33 minutos) y hay que corroborrar que sean correctos"
   ]
  },
  {
   "cell_type": "code",
   "execution_count": 29,
   "metadata": {},
   "outputs": [
    {
     "data": {
      "text/html": [
       "<div>\n",
       "<style scoped>\n",
       "    .dataframe tbody tr th:only-of-type {\n",
       "        vertical-align: middle;\n",
       "    }\n",
       "\n",
       "    .dataframe tbody tr th {\n",
       "        vertical-align: top;\n",
       "    }\n",
       "\n",
       "    .dataframe thead th {\n",
       "        text-align: right;\n",
       "    }\n",
       "</style>\n",
       "<table border=\"1\" class=\"dataframe\">\n",
       "  <thead>\n",
       "    <tr style=\"text-align: right;\">\n",
       "      <th></th>\n",
       "      <th>Track</th>\n",
       "      <th>Artist</th>\n",
       "      <th>Duration</th>\n",
       "      <th>Time_Signature</th>\n",
       "      <th>Danceability</th>\n",
       "      <th>Energy</th>\n",
       "      <th>Key</th>\n",
       "      <th>Loudness</th>\n",
       "      <th>Mode</th>\n",
       "      <th>Speechiness</th>\n",
       "      <th>Acousticness</th>\n",
       "      <th>Instrumentalness</th>\n",
       "      <th>Liveness</th>\n",
       "      <th>Valence</th>\n",
       "      <th>Tempo</th>\n",
       "      <th>Popularity</th>\n",
       "      <th>Year</th>\n",
       "      <th>DURATION(s)</th>\n",
       "    </tr>\n",
       "  </thead>\n",
       "  <tbody>\n",
       "    <tr>\n",
       "      <th>699</th>\n",
       "      <td>Feels So Good</td>\n",
       "      <td>Mase</td>\n",
       "      <td>9:42</td>\n",
       "      <td>4</td>\n",
       "      <td>0.576</td>\n",
       "      <td>0.603</td>\n",
       "      <td>5</td>\n",
       "      <td>-9.603</td>\n",
       "      <td>True</td>\n",
       "      <td>0.0329</td>\n",
       "      <td>0.455</td>\n",
       "      <td>0.0537</td>\n",
       "      <td>0.0406</td>\n",
       "      <td>0.524</td>\n",
       "      <td>103.658</td>\n",
       "      <td>51</td>\n",
       "      <td>1997</td>\n",
       "      <td>582</td>\n",
       "    </tr>\n",
       "  </tbody>\n",
       "</table>\n",
       "</div>"
      ],
      "text/plain": [
       "             Track Artist Duration  Time_Signature  Danceability  Energy  Key  \\\n",
       "699  Feels So Good   Mase     9:42               4         0.576   0.603    5   \n",
       "\n",
       "     Loudness  Mode  Speechiness  Acousticness  Instrumentalness  Liveness  \\\n",
       "699    -9.603  True       0.0329         0.455            0.0537    0.0406   \n",
       "\n",
       "     Valence    Tempo  Popularity  Year DURATION(s)  \n",
       "699    0.524  103.658          51  1997         582  "
      ]
     },
     "execution_count": 29,
     "metadata": {},
     "output_type": "execute_result"
    }
   ],
   "source": [
    "max = copy_covers_ds[\"DURATION(s)\"].max()\n",
    "copy_covers_ds[copy_covers_ds[\"DURATION(s)\"] == max]\n"
   ]
  },
  {
   "cell_type": "markdown",
   "metadata": {},
   "source": [
    "Corroboramos en internet que la canción dura 3:29 minutos, por lo tanto, este no es un outlier real y tenemos que corregir su duración"
   ]
  },
  {
   "cell_type": "code",
   "execution_count": 34,
   "metadata": {},
   "outputs": [
    {
     "data": {
      "text/html": [
       "<div>\n",
       "<style scoped>\n",
       "    .dataframe tbody tr th:only-of-type {\n",
       "        vertical-align: middle;\n",
       "    }\n",
       "\n",
       "    .dataframe tbody tr th {\n",
       "        vertical-align: top;\n",
       "    }\n",
       "\n",
       "    .dataframe thead th {\n",
       "        text-align: right;\n",
       "    }\n",
       "</style>\n",
       "<table border=\"1\" class=\"dataframe\">\n",
       "  <thead>\n",
       "    <tr style=\"text-align: right;\">\n",
       "      <th></th>\n",
       "      <th>Track</th>\n",
       "      <th>Artist</th>\n",
       "      <th>Duration</th>\n",
       "      <th>Time_Signature</th>\n",
       "      <th>Danceability</th>\n",
       "      <th>Energy</th>\n",
       "      <th>Key</th>\n",
       "      <th>Loudness</th>\n",
       "      <th>Mode</th>\n",
       "      <th>Speechiness</th>\n",
       "      <th>Acousticness</th>\n",
       "      <th>Instrumentalness</th>\n",
       "      <th>Liveness</th>\n",
       "      <th>Valence</th>\n",
       "      <th>Tempo</th>\n",
       "      <th>Popularity</th>\n",
       "      <th>Year</th>\n",
       "      <th>DURATION(s)</th>\n",
       "    </tr>\n",
       "  </thead>\n",
       "  <tbody>\n",
       "    <tr>\n",
       "      <th>204</th>\n",
       "      <td>November Rain</td>\n",
       "      <td>Guns N’ Roses</td>\n",
       "      <td>8:56</td>\n",
       "      <td>4</td>\n",
       "      <td>0.294</td>\n",
       "      <td>0.64</td>\n",
       "      <td>11</td>\n",
       "      <td>-9.316</td>\n",
       "      <td>True</td>\n",
       "      <td>0.0291</td>\n",
       "      <td>0.016</td>\n",
       "      <td>0.22</td>\n",
       "      <td>0.112</td>\n",
       "      <td>0.226</td>\n",
       "      <td>79.79</td>\n",
       "      <td>78</td>\n",
       "      <td>1992</td>\n",
       "      <td>536</td>\n",
       "    </tr>\n",
       "  </tbody>\n",
       "</table>\n",
       "</div>"
      ],
      "text/plain": [
       "             Track         Artist Duration  Time_Signature  Danceability  \\\n",
       "204  November Rain  Guns N’ Roses     8:56               4         0.294   \n",
       "\n",
       "     Energy  Key  Loudness  Mode  Speechiness  Acousticness  Instrumentalness  \\\n",
       "204    0.64   11    -9.316  True       0.0291         0.016              0.22   \n",
       "\n",
       "     Liveness  Valence  Tempo  Popularity  Year DURATION(s)  \n",
       "204     0.112    0.226  79.79          78  1992         536  "
      ]
     },
     "execution_count": 34,
     "metadata": {},
     "output_type": "execute_result"
    }
   ],
   "source": [
    "segundo_mayor = copy_covers_ds['DURATION(s)'].sort_values(ascending=False).iloc[2]\n",
    "duraciones_maximas = copy_covers_ds[copy_covers_ds['DURATION(s)'] == segundo_mayor]\n",
    "duraciones_maximas"
   ]
  },
  {
   "cell_type": "markdown",
   "metadata": {},
   "source": [
    "La segunda canción más larga es \"November Rain\" de Guns 'n Roses y su duración concuerda con el dataset"
   ]
  }
 ],
 "metadata": {
  "kernelspec": {
   "display_name": "tpe",
   "language": "python",
   "name": "python3"
  },
  "language_info": {
   "codemirror_mode": {
    "name": "ipython",
    "version": 3
   },
   "file_extension": ".py",
   "mimetype": "text/x-python",
   "name": "python",
   "nbconvert_exporter": "python",
   "pygments_lexer": "ipython3",
   "version": "3.12.5"
  }
 },
 "nbformat": 4,
 "nbformat_minor": 2
}
