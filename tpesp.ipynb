{
 "cells": [
  {
   "cell_type": "markdown",
   "metadata": {},
   "source": [
    "# _TP especial Fundamentos de la Ciencia de Datos_<br>\n",
    "### _Grupo 7: Buralli, Todesco, Antúnez_\n"
   ]
  },
  {
   "cell_type": "markdown",
   "metadata": {},
   "source": [
    "### <u>Descarga y lectura de archivos<u>"
   ]
  },
  {
   "cell_type": "markdown",
   "metadata": {},
   "source": [
    "Empezaremos descargando y leyendo los archivos mandados por la cátedra"
   ]
  },
  {
   "metadata": {},
   "cell_type": "code",
   "outputs": [],
   "execution_count": null,
   "source": [
    "import pandas as pd\n",
    "import seaborn as sns\n",
    "import matplotlib.pyplot as plt\n",
    "from mpl_toolkits.mplot3d.proj3d import rotation_about_vector\n",
    "\n",
    "covers_dataset = pd.read_csv('Covers.csv')"
   ]
  },
  {
   "metadata": {},
   "cell_type": "markdown",
   "source": "Hacemos una vista general para saber de que se trata el dataset, que significan cada una de sus columnas"
  },
  {
   "metadata": {},
   "cell_type": "code",
   "outputs": [],
   "execution_count": null,
   "source": "covers_dataset.head()"
  },
  {
   "metadata": {},
   "cell_type": "markdown",
   "source": [
    "### Descripción de las variables<br>\n",
    "* ```Track```: nombre de la canción\n",
    "* ```Artist```: nombre del artista o intérprete\n",
    "* ```Duration```: duración en minutos de la canción\n",
    "* ```Time_Signature```: número de pulsaciones por compás\n",
    "* ```Danceability```: medida de que tan bailable es la canción(entre 0 y 1)\n",
    "* ```Energy```: medida de que tan enérgica es la canción(entre 0 y 1)\n",
    "* ```Key```: tonalidad de la canción, número entero\n",
    "* ```Loudness```: volumen de la canción, en decibelios\n",
    "* ```Mode```: tono mayor o menor(0 o 1, respectivamente)\n",
    "* ```Speechiness```: medida de presencia de palabras habladas en las canciones, valores altos indican una alta presencia de estas palabras\n",
    "* ```Acoustiness```: mide que tan acústica es la pista\n",
    "* ```Instrumentalness```: mide la presencia de voces en las canciones, valores más altos indican una canción con mayor parte instrumental\n",
    "* ```Liveness```: probabilidad de que dicha canción se haya interpretado en vivo, niveles más altos indican mayor presencia de voces de la audiencia\n",
    "* ```Valance```: medida de la positividad de la canción, niveles más altos indican presencias de mlodías alegres\n",
    "* ```Tempo```: velocidad de la pista, medida en beats por minutos(BPM)\n",
    "* ```Popularity```: puntuación de la canción que mide su popularidad\n",
    "* ```Year```: año de lanzamiento"
   ]
  },
  {
   "metadata": {},
   "cell_type": "markdown",
   "source": "Identificaremos la cantidad de nulos mediante el co"
  },
  {
   "metadata": {},
   "cell_type": "code",
   "outputs": [],
   "execution_count": null,
   "source": "covers_dataset.isna().sum()"
  },
  {
   "metadata": {},
   "cell_type": "markdown",
   "source": "Observamos que no hay NaNs, pero esto no descarta la presencia de valores extraños a analizar en las distintas columnas, por lo que verificaremos mediante el método ```value_count()```"
  },
  {
   "metadata": {},
   "cell_type": "markdown",
   "source": "### <u>Revision de valores<u>"
  },
  {
   "metadata": {},
   "cell_type": "code",
   "outputs": [],
   "execution_count": null,
   "source": "covers_dataset[\"Track\"].value_counts()"
  },
  {
   "metadata": {},
   "cell_type": "markdown",
   "source": "En ```Track``` parece no haber presencia de valores raros, si algunos nombres repetidos."
  },
  {
   "metadata": {},
   "cell_type": "code",
   "outputs": [],
   "execution_count": null,
   "source": "covers_dataset[\"Artist\"].value_counts()"
  },
  {
   "metadata": {},
   "cell_type": "markdown",
   "source": "Con ```Artist``` parace algo similar, nada extraño a primera vista"
  },
  {
   "metadata": {},
   "cell_type": "code",
   "outputs": [],
   "execution_count": null,
   "source": "covers_dataset[\"Duration\"].value_counts()"
  },
  {
   "metadata": {},
   "cell_type": "markdown",
   "source": "```Duration``` tampoco parece tener valores atípicos, aunque luego abria que convertir el dato a algo numerico."
  },
  {
   "metadata": {},
   "cell_type": "code",
   "outputs": [],
   "execution_count": null,
   "source": "covers_dataset['Time_Signature'].value_counts()"
  },
  {
   "metadata": {},
   "cell_type": "markdown",
   "source": "```Time_Signature``` parece correcto."
  },
  {
   "metadata": {},
   "cell_type": "code",
   "outputs": [],
   "execution_count": null,
   "source": [
    "covers_dataset['Danceability'].value_counts()\n",
    "danceability = covers_dataset['Danceability']"
   ]
  },
  {
   "metadata": {},
   "cell_type": "markdown",
   "source": "En ```Danceability``` no parece que haya nada raro... Hagamos un boxplot para ver mas en detalle."
  },
  {
   "metadata": {},
   "cell_type": "code",
   "outputs": [],
   "execution_count": null,
   "source": [
    "covers_dataset['Danceability'].min()\n",
    "covers_dataset['Danceability'].max()\n",
    "covers_dataset['Danceability'].median()\n",
    "danceability.describe()"
   ]
  },
  {
   "metadata": {},
   "cell_type": "code",
   "outputs": [],
   "execution_count": null,
   "source": "covers_dataset['Energy'].value_counts()"
  },
  {
   "metadata": {},
   "cell_type": "markdown",
   "source": "A primera vista no parece haber valores extraño."
  },
  {
   "metadata": {},
   "cell_type": "code",
   "outputs": [],
   "execution_count": null,
   "source": "covers_dataset['Key'].value_counts()"
  },
  {
   "metadata": {},
   "cell_type": "markdown",
   "source": "Todo parece normal en ```Key```."
  },
  {
   "metadata": {},
   "cell_type": "code",
   "outputs": [],
   "execution_count": null,
   "source": "covers_dataset['Loudness'].value_counts()"
  },
  {
   "metadata": {},
   "cell_type": "markdown",
   "source": "Sospechosos los valores que se repiten 3 veces siendo una variable continua pero aceptable..."
  },
  {
   "metadata": {},
   "cell_type": "code",
   "outputs": [],
   "execution_count": null,
   "source": "covers_dataset['Mode'].value_counts()"
  },
  {
   "metadata": {},
   "cell_type": "markdown",
   "source": "Predominancia del valor de 1 en ```Mode```."
  },
  {
   "metadata": {},
   "cell_type": "code",
   "outputs": [],
   "execution_count": null,
   "source": "covers_dataset['Speechiness'].value_counts()"
  },
  {
   "metadata": {},
   "cell_type": "markdown",
   "source": "Valores repetidos en una variable continua. Candidatos a invertigacion: 0.0352,0.0321,0.0270    "
  },
  {
   "metadata": {},
   "cell_type": "code",
   "outputs": [],
   "execution_count": null,
   "source": "covers_dataset['Acousticness'].value_counts()"
  },
  {
   "metadata": {},
   "cell_type": "markdown",
   "source": "Hay valores repetidos 5 veces, puede investigarse..."
  },
  {
   "metadata": {},
   "cell_type": "code",
   "outputs": [],
   "execution_count": null,
   "source": "covers_dataset['Instrumentalness'].value_counts()"
  },
  {
   "metadata": {},
   "cell_type": "markdown",
   "source": "Muchos registros con 0 de ```Instrumentalness```, asumimos que 0 significa que la cancion es \"Acapella\" valores altos de ```instrumentalness``` como bien describimos al principio corresponden o \"deberian\" corresponder a canciones con mayor presencia instrumental. Mientras que valores menores indican lo contrario. Resaltamos el ```deberia``` porque investigando algunas canciones con valores ```instrumentalness``` estas si poseen instrumentacion."
  },
  {
   "metadata": {},
   "cell_type": "code",
   "outputs": [],
   "execution_count": null,
   "source": "covers_dataset['Instrumentalness'].max()"
  },
  {
   "metadata": {},
   "cell_type": "code",
   "outputs": [],
   "execution_count": null,
   "source": "covers_dataset['Liveness'].value_counts()"
  },
  {
   "metadata": {},
   "cell_type": "markdown",
   "source": "A primera vista no sabemos bien la razon pero en ```Liveness``` hay valores repetidos en 0.1xxx osea todos los valores que son 0.1 y algo mas."
  },
  {
   "metadata": {},
   "cell_type": "code",
   "outputs": [],
   "execution_count": null,
   "source": "covers_dataset['Valence'].value_counts()"
  },
  {
   "metadata": {},
   "cell_type": "markdown",
   "source": "Algunos valores repetidos en ```Valence``` pero zafa..."
  },
  {
   "metadata": {},
   "cell_type": "code",
   "outputs": [],
   "execution_count": null,
   "source": "covers_dataset['Tempo'].value_counts()"
  },
  {
   "metadata": {},
   "cell_type": "markdown",
   "source": "Aceptable, quizas los valores 118.777 y 100.002 podrian revisarse, tampoco que se repitan tanto en ```Tempo```"
  },
  {
   "metadata": {},
   "cell_type": "code",
   "outputs": [],
   "execution_count": null,
   "source": "covers_dataset['Popularity'].value_counts()"
  },
  {
   "metadata": {},
   "cell_type": "markdown",
   "source": "Variable discreta asi que esta bien que se repitan cosas. Tampoco exageremos!"
  },
  {
   "metadata": {},
   "cell_type": "code",
   "outputs": [],
   "execution_count": null,
   "source": "covers_dataset['Year'].value_counts()"
  },
  {
   "metadata": {},
   "cell_type": "markdown",
   "source": "Vemos que todas las canciones son de los '90, pero nada extraño que destacar."
  },
  {
   "metadata": {},
   "cell_type": "markdown",
   "source": "**Nota: Relacionar las variables Valance y Tempo(¿la velocidad se relaciona a la positividad de la canción?)**"
  },
  {
   "metadata": {},
   "cell_type": "markdown",
   "source": "### <u>Corrección de tipos<u> "
  },
  {
   "metadata": {},
   "cell_type": "markdown",
   "source": " Ahora nos ocuparemos de comprobar que los tipos de las variables sean adecuados a lo que representan. Para ello, usamos el método ```info()```"
  },
  {
   "metadata": {},
   "cell_type": "code",
   "outputs": [],
   "execution_count": null,
   "source": "covers_dataset.info()"
  },
  {
   "metadata": {},
   "cell_type": "markdown",
   "source": "Hacemos una copia mediante el método ```copy()``` para no arruinar el dataset original"
  },
  {
   "metadata": {},
   "cell_type": "code",
   "outputs": [],
   "execution_count": null,
   "source": "copy_covers_ds = covers_dataset.copy()"
  },
  {
   "metadata": {},
   "cell_type": "markdown",
   "source": "Convertimos el tipo de dato de la columna ```Mode``` de entero a booleano para hacer el análisis"
  },
  {
   "metadata": {},
   "cell_type": "code",
   "outputs": [],
   "execution_count": null,
   "source": "copy_covers_ds['Mode'] = copy_covers_ds['Mode'].astype(bool)"
  },
  {
   "metadata": {},
   "cell_type": "markdown",
   "source": "Ahora nos centraremos en arreglar el tipo de la variable ```Duration```, convirtiendolo de string a integer(segundos)"
  },
  {
   "metadata": {},
   "cell_type": "code",
   "outputs": [],
   "execution_count": null,
   "source": [
    "#Por las dudas hacemos un cambio de tipos a string.\n",
    "copy_covers_ds['Duration'] = copy_covers_ds['Duration'].astype(str)\n",
    "#Creamos la nueva columna con los valores correctos convertidos a segundos(todavia no estan los valores).\n",
    "copy_covers_ds['DURATION(s)'] = 0\n",
    "#Por cada registro hacemos:\n",
    "for index,row in copy_covers_ds.iterrows():\n",
    "    #duracion original se vuelve el valor de duracion de la fila.\n",
    "    duracion_original = row['Duration']\n",
    "    #Separamos por : los minutos y segundos.\n",
    "    minutos , segundos = duracion_original.split(':')\n",
    "    #Asignamos los minutos * 60 + los segundos obtenidos a la fila en la columna nueva, casteamos ambos parametros a segundos porque sino hace cualquier cosa.\n",
    "    copy_covers_ds.at[index,'DURATION(s)'] = int(minutos) * 60 + int(segundos)\n",
    "#Mostramos resultados.\n",
    "copy_covers_ds.head()"
   ]
  },
  {
   "metadata": {},
   "cell_type": "markdown",
   "source": [
    "### <u>Analisis de distribuciones<u>\n",
    "\n"
   ]
  },
  {
   "metadata": {},
   "cell_type": "markdown",
   "source": "Ahora observaremos como se distribuye cada variable para poder aprender un poco sobre el conjunto de datos y obtener conclusiones. Tomaremos las variables más interesantes para analizar y cuyo gráfico nos pueda aportar algo de valor"
  },
  {
   "metadata": {},
   "cell_type": "markdown",
   "source": "# Analisis de ```Danceability```"
  },
  {
   "metadata": {},
   "cell_type": "code",
   "outputs": [],
   "execution_count": null,
   "source": [
    "# Nos quedamos solo con la columna Danceability\n",
    "danceability = covers_dataset[\"Danceability\"]\n",
    "\n",
    "# Creamos el boxplot\n",
    "plt.figure(figsize=(8, 6))\n",
    "sns.boxplot(x=danceability)\n",
    "plt.title(\"Boxplot de Danceability\")\n",
    "plt.xlabel(\"Danceability\")\n",
    "plt.show()"
   ]
  },
  {
   "metadata": {},
   "cell_type": "code",
   "outputs": [],
   "execution_count": null,
   "source": [
    "min = copy_covers_ds[\"Danceability\"].min()\n",
    "copy_covers_ds[copy_covers_ds[\"Danceability\"] == min]"
   ]
  },
  {
   "metadata": {},
   "cell_type": "markdown",
   "source": "Parece que hay unos valores del lado izquierdo, podrian ser posibles outliers. "
  },
  {
   "metadata": {},
   "cell_type": "markdown",
   "source": "# Analisis de ```Duration```"
  },
  {
   "metadata": {},
   "cell_type": "code",
   "outputs": [],
   "execution_count": null,
   "source": [
    "bins = 40\n",
    "\n",
    "plt.hist(copy_covers_ds['DURATION(s)'], bins = bins)\n",
    "\n",
    "plt.xlabel('Duración (s)')\n",
    "plt.ylabel('Cantidad de canciones')\n",
    "plt.title('Histograma de duración de las canciones')\n",
    "plt.xticks(range(0, 450, 50))\n",
    "plt.show()"
   ]
  },
  {
   "metadata": {},
   "cell_type": "markdown",
   "source": "Se puede ver que la mayoría de las canciones duran entre 150 y 300 segundos(2:30 y 5:00 minutos). Hay algunos outliers que superan los 500 segundos(8:33 minutos) y hay que corroborrar que sean correctos"
  },
  {
   "metadata": {},
   "cell_type": "code",
   "outputs": [],
   "execution_count": null,
   "source": [
    "max = copy_covers_ds[\"DURATION(s)\"].max()\n",
    "copy_covers_ds[copy_covers_ds[\"DURATION(s)\"] == max]"
   ]
  },
  {
   "metadata": {},
   "cell_type": "markdown",
   "source": "Corroboramos en internet que la canción dura 3:29 minutos, paro no meter mano en los datos podemos simplemente borrar estos tres outliers para que no molesten."
  },
  {
   "metadata": {},
   "cell_type": "code",
   "outputs": [],
   "execution_count": null,
   "source": "copy_covers_ds[copy_covers_ds['DURATION(s)'] > 500]"
  },
  {
   "metadata": {},
   "cell_type": "markdown",
   "source": "La segunda canción más larga es \"November Rain\" de Guns 'n Roses y su duración concuerda con el dataset"
  },
  {
   "metadata": {},
   "cell_type": "markdown",
   "source": "Podemos tomar como medida eliminar estos tres outliers que nos estan afectando la distribucion en la curva."
  },
  {
   "metadata": {},
   "cell_type": "code",
   "outputs": [],
   "execution_count": null,
   "source": "copy_covers_ds = copy_covers_ds[copy_covers_ds['DURATION(s)'] < 500]"
  },
  {
   "metadata": {},
   "cell_type": "code",
   "outputs": [],
   "execution_count": null,
   "source": [
    "bins = 40\n",
    "\n",
    "plt.hist(copy_covers_ds['DURATION(s)'], bins = bins)\n",
    "\n",
    "plt.xlabel('Duración (s)')\n",
    "plt.ylabel('Cantidad de canciones')\n",
    "plt.title('Histograma de duración de las canciones')\n",
    "plt.xticks(range(0, 450, 50))\n",
    "plt.show()"
   ]
  },
  {
   "metadata": {},
   "cell_type": "markdown",
   "source": "Ahora si ;)"
  },
  {
   "metadata": {},
   "cell_type": "markdown",
   "source": "# Analisis de ```Instrumentalness```"
  },
  {
   "metadata": {},
   "cell_type": "code",
   "outputs": [],
   "execution_count": null,
   "source": [
    "bins = 5\n",
    "\n",
    "plt.hist(copy_covers_ds['Instrumentalness'], bins = bins)\n",
    "\n",
    "plt.xlabel('Instrumentalness')\n",
    "plt.ylabel('Cantidad de canciones')\n",
    "plt.title('Histograma de Instrumentalizacion de las canciones')\n",
    "plt.xticks(range(0, 1, 1))\n",
    "plt.show()"
   ]
  },
  {
   "metadata": {},
   "cell_type": "markdown",
   "source": "Podriamos discretizar la variable, por ejemplo utilizar una escala \"nula, baja, media, alta\""
  },
  {
   "metadata": {},
   "cell_type": "code",
   "outputs": [],
   "execution_count": null,
   "source": [
    "#Creamos la nueva columna con las variable discretizada(todavia no hay nada) y la inicializamos en nulo.\n",
    "copy_covers_ds['Instrumentalness Type'] = pd.NA\n",
    "#Por cada registro hacemos:\n",
    "for index,row in copy_covers_ds.iterrows():\n",
    "    #Consideramos los 4 casos(intervalos) y asignamos el nueva valor segun corresponda\n",
    "    instrulmentalness_original = row['Instrumentalness']\n",
    "    if(instrulmentalness_original == 0):\n",
    "        instrulmentalness_nueva = 'nula'\n",
    "    elif(instrulmentalness_original > 0 and instrulmentalness_original <= 0.4 ) :\n",
    "        instrulmentalness_nueva = 'baja'\n",
    "    elif(instrulmentalness_original > 0.4 and instrulmentalness_original <= 0.7) :\n",
    "        instrulmentalness_nueva = 'media'\n",
    "    elif(instrulmentalness_original > 0.7 and instrulmentalness_original <= 1) :\n",
    "        instrulmentalness_nueva = 'alta'\n",
    "        \n",
    "    copy_covers_ds.at[index,'Instrumentalness Type'] = instrulmentalness_nueva\n",
    "\n",
    "copy_covers_ds.head()"
   ]
  },
  {
   "metadata": {},
   "cell_type": "code",
   "outputs": [],
   "execution_count": null,
   "source": [
    "# Contar la cantidad de cada tipo de 'Instrumentalness Type'\n",
    "instrumentalness_counts = copy_covers_ds['Instrumentalness Type'].value_counts()\n",
    "\n",
    "# Crear el gráfico de barras\n",
    "plt.figure(figsize=(8, 6))\n",
    "instrumentalness_counts.plot(kind='bar')\n",
    "plt.title('Distribución de Instrumentalness')\n",
    "plt.xlabel('Instrumentalness Type')\n",
    "plt.ylabel('Cantidad de canciones')\n",
    "plt.show()"
   ]
  },
  {
   "metadata": {},
   "cell_type": "markdown",
   "source": "Podemos ver que hay muchas canciones con instrumentalizacion baja(cuidado que el intervalo para bajo es un poco mayor(0.1). Y que tambien hay muchas canciones con una instrumentalizacion nula(0 de instrumentalizacion)"
  },
  {
   "metadata": {},
   "cell_type": "markdown",
   "source": "## ```Analisis Time Signature```"
  },
  {
   "metadata": {},
   "cell_type": "code",
   "outputs": [],
   "execution_count": null,
   "source": [
    "# Contar la cantidad de cada tipo de 'Instrumentalness Type'\n",
    "Time_signature_counts = copy_covers_ds['Time_Signature'].value_counts()\n",
    "\n",
    "plt.figure(figsize=(6,6))\n",
    "Time_signature_counts.plot(kind = 'bar', color='skyblue')\n",
    "plt.yticks(range(0,901,100))\n",
    "plt.xticks(rotation = 0)\n",
    "plt.title('Cantidad de canciones por pulsaciones por compás')\n",
    "plt.xlabel('Signatura', fontsize=12)\n",
    "plt.ylabel('Frecuencia', fontsize=12)\n",
    "plt.show()"
   ]
  },
  {
   "metadata": {},
   "cell_type": "markdown",
   "source": "Observamos que la gran mayoria de las canciones tienen 4 pulsaciones por compas, es un compas muy comun por aa"
  },
  {
   "metadata": {},
   "cell_type": "markdown",
   "source": "## ```Analisis Energy```\n"
  },
  {
   "metadata": {},
   "cell_type": "code",
   "outputs": [],
   "execution_count": null,
   "source": [
    "bins = 10\n",
    "\n",
    "plt.hist(copy_covers_ds['Energy'], bins = bins,color='yellow')\n",
    "\n",
    "plt.xlabel('Energy')\n",
    "plt.ylabel('Cantidad de canciones')\n",
    "plt.title('Histograma de la Energy de las canciones')\n",
    "plt.xticks(range(0, 1, 0.1))\n",
    "plt.show()"
   ]
  },
  {
   "metadata": {},
   "cell_type": "markdown",
   "source": "Podemos observar una cuerva bastante ```sesgada hacia la derecha```, lo que indica una gran presencia de canciones energeticas. Sinceramente como con muchas otras variables no sabemos como es que fueron medidas, como pasa en el caso de esta variable. ¿Como midieron la energia de la cancion? ¿estara ligada al ritmo?"
  },
  {
   "metadata": {},
   "cell_type": "markdown",
   "source": "Algunas canciones con un valor de ```energia bajo``` son:"
  },
  {
   "metadata": {},
   "cell_type": "code",
   "outputs": [],
   "execution_count": null,
   "source": "copy_covers_ds[copy_covers_ds['Energy'] < 0.1]"
  },
  {
   "metadata": {},
   "cell_type": "code",
   "outputs": [],
   "execution_count": null,
   "source": [
    "# Nos quedamos solo con la columna Energy\n",
    "energy = covers_dataset[\"Energy\"]\n",
    "\n",
    "# Creamos el boxplot\n",
    "plt.figure(figsize=(8, 6))\n",
    "sns.boxplot(x=energy)\n",
    "plt.title(\"Boxplot de Energy\")\n",
    "plt.xlabel(\"Energy\")\n",
    "plt.show()"
   ]
  },
  {
   "metadata": {},
   "cell_type": "markdown",
   "source": "## ```Analisis de Key```"
  },
  {
   "metadata": {},
   "cell_type": "code",
   "outputs": [],
   "execution_count": null,
   "source": [
    "# Contar la cantidad de cada tipo de 'Key'\n",
    "key_counts = copy_covers_ds['Key'].value_counts().sort_index()\n",
    "\n",
    "# Crear el gráfico de barras\n",
    "plt.figure(figsize=(8, 6))\n",
    "key_counts.plot(kind='bar')\n",
    "plt.title('Distribución de Key')\n",
    "plt.xlabel('Key')\n",
    "plt.ylabel('Cantidad de canciones')\n",
    "plt.show()"
   ]
  },
  {
   "metadata": {},
   "cell_type": "code",
   "outputs": [],
   "execution_count": null,
   "source": [
    "# Contar la cantidad de cada tipo de 'Key'\n",
    "key_counts = copy_covers_ds['Key'].value_counts().sort_values()\n",
    "\n",
    "# Crear el gráfico de barras\n",
    "plt.figure(figsize=(8, 6))\n",
    "key_counts.plot(kind='bar')\n",
    "plt.title('Distribución de Key')\n",
    "plt.xlabel('Key')\n",
    "plt.ylabel('Cantidad de canciones')\n",
    "plt.show()"
   ]
  }
 ],
 "metadata": {
  "kernelspec": {
   "display_name": "tpe",
   "language": "python",
   "name": "python3"
  },
  "language_info": {
   "codemirror_mode": {
    "name": "ipython",
    "version": 3
   },
   "file_extension": ".py",
   "mimetype": "text/x-python",
   "name": "python",
   "nbconvert_exporter": "python",
   "pygments_lexer": "ipython3",
   "version": "3.12.5"
  }
 },
 "nbformat": 4,
 "nbformat_minor": 2
}
